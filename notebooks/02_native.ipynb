{
 "cells": [
  {
   "cell_type": "code",
   "execution_count": 2,
   "id": "be37579c-dcbb-47ef-b80f-0502dd21464c",
   "metadata": {},
   "outputs": [],
   "source": [
    "import cudf\n",
    "import pandas as pd\n",
    "from time import time\n",
    "import matplotlib.pyplot as plt\n",
    "from statistics import mean\n",
    "import numpy as np"
   ]
  },
  {
   "cell_type": "code",
   "execution_count": 2,
   "id": "eccbf4e4-3e23-4393-9f1e-084ba5e0b1db",
   "metadata": {},
   "outputs": [],
   "source": [
    "results = {\n",
    "    \"cpu\": {},\n",
    "    \"gpu\": {}\n",
    "}\n",
    "\n",
    "scale_factors = [\"x0_1\", \"x0_5\", \"x1\", \"x5\", \"x10\", \"x20\"]"
   ]
  },
  {
   "cell_type": "markdown",
   "id": "0a12bf78-2bb7-472d-9e70-c29e9aff7260",
   "metadata": {},
   "source": [
    "### CPU"
   ]
  },
  {
   "cell_type": "code",
   "execution_count": null,
   "id": "7d03975b-195e-43e0-9342-d2e9269f8fee",
   "metadata": {},
   "outputs": [
    {
     "name": "stdout",
     "output_type": "stream",
     "text": [
      "<class 'pandas.core.frame.DataFrame'>\n",
      "RangeIndex: 100000 entries, 0 to 99999\n",
      "Data columns (total 8 columns):\n",
      " #   Column       Non-Null Count   Dtype  \n",
      "---  ------       --------------   -----  \n",
      " 0   Invoice      100000 non-null  object \n",
      " 1   StockCode    100000 non-null  object \n",
      " 2   Description  99130 non-null   object \n",
      " 3   Quantity     100000 non-null  int64  \n",
      " 4   InvoiceDate  100000 non-null  object \n",
      " 5   Price        100000 non-null  float64\n",
      " 6   Customer ID  72861 non-null   float64\n",
      " 7   Country      100000 non-null  object \n",
      "dtypes: float64(2), int64(1), object(5)\n",
      "memory usage: 6.1+ MB\n",
      "<class 'pandas.core.frame.DataFrame'>\n",
      "RangeIndex: 500000 entries, 0 to 499999\n",
      "Data columns (total 8 columns):\n",
      " #   Column       Non-Null Count   Dtype  \n",
      "---  ------       --------------   -----  \n",
      " 0   Invoice      500000 non-null  object \n",
      " 1   StockCode    500000 non-null  object \n",
      " 2   Description  497184 non-null  object \n",
      " 3   Quantity     500000 non-null  int64  \n",
      " 4   InvoiceDate  500000 non-null  object \n",
      " 5   Price        500000 non-null  float64\n",
      " 6   Customer ID  400300 non-null  float64\n",
      " 7   Country      500000 non-null  object \n",
      "dtypes: float64(2), int64(1), object(5)\n",
      "memory usage: 30.5+ MB\n"
     ]
    }
   ],
   "source": [
    "for scale_factor in scale_factors:\n",
    "    results['cpu'][scale_factor] = {}\n",
    "    results['cpu'][scale_factor][\"io_opt\"] = {}\n",
    "    results['cpu'][scale_factor][\"queries\"] = {}\n",
    "\n",
    "    start = time()\n",
    "    cpu_df = pd.read_csv(\"../data/raw/online_retail_II_\"+scale_factor+\".csv\")\n",
    "    end = time()\n",
    "\n",
    "    results[\"cpu\"][scale_factor][\"io_opt\"][\"load_csv\"] = end-start\n",
    "\n",
    "    start = time()\n",
    "    cpu_df.info()\n",
    "    end = time()\n",
    "\n",
    "    results[\"cpu\"][scale_factor][\"io_opt\"][\"info\"] = end-start\n",
    "\n",
    "    start = time()\n",
    "    cpu_df.describe(include=\"O\")\n",
    "    end = time()\n",
    "\n",
    "    results[\"cpu\"][scale_factor][\"io_opt\"][\"describe\"] = end-start\n",
    "\n",
    "    start = time()\n",
    "    cpu_df.groupby(\"Country\").Price.sum()\n",
    "    end = time()\n",
    "\n",
    "    results[\"cpu\"][scale_factor][\"queries\"][\"q1\"] = end-start\n",
    "\n",
    "    start = time()\n",
    "    cpu_df.groupby(\"Invoice\").Price.sum()\n",
    "    end = time()\n",
    "\n",
    "    results[\"cpu\"][scale_factor][\"queries\"][\"q2\"] = end-start"
   ]
  },
  {
   "cell_type": "markdown",
   "id": "73e09685-b1ac-4e1a-8f1a-6e1f6555488c",
   "metadata": {},
   "source": [
    "## GPU"
   ]
  },
  {
   "cell_type": "code",
   "execution_count": 4,
   "id": "5128e2ea-3a2b-4cef-9346-1f58f82bf603",
   "metadata": {},
   "outputs": [
    {
     "name": "stdout",
     "output_type": "stream",
     "text": [
      "<class 'cudf.core.dataframe.DataFrame'>\n",
      "RangeIndex: 100000 entries, 0 to 99999\n",
      "Data columns (total 8 columns):\n",
      " #   Column       Non-Null Count   Dtype\n",
      "---  ------       --------------   -----\n",
      " 0   Invoice      100000 non-null  object\n",
      " 1   StockCode    100000 non-null  object\n",
      " 2   Description  99130 non-null   object\n",
      " 3   Quantity     100000 non-null  int64\n",
      " 4   InvoiceDate  100000 non-null  object\n",
      " 5   Price        100000 non-null  float64\n",
      " 6   Customer ID  72861 non-null   float64\n",
      " 7   Country      100000 non-null  object\n",
      "dtypes: float64(2), int64(1), object(5)\n",
      "memory usage: 10.9+ MB\n",
      "<class 'cudf.core.dataframe.DataFrame'>\n",
      "RangeIndex: 500000 entries, 0 to 499999\n",
      "Data columns (total 8 columns):\n",
      " #   Column       Non-Null Count   Dtype\n",
      "---  ------       --------------   -----\n",
      " 0   Invoice      500000 non-null  object\n",
      " 1   StockCode    500000 non-null  object\n",
      " 2   Description  497184 non-null  object\n",
      " 3   Quantity     500000 non-null  int64\n",
      " 4   InvoiceDate  500000 non-null  object\n",
      " 5   Price        500000 non-null  float64\n",
      " 6   Customer ID  400300 non-null  float64\n",
      " 7   Country      500000 non-null  object\n",
      "dtypes: float64(2), int64(1), object(5)\n",
      "memory usage: 54.6+ MB\n",
      "<class 'cudf.core.dataframe.DataFrame'>\n",
      "RangeIndex: 1067371 entries, 0 to 1067370\n",
      "Data columns (total 8 columns):\n",
      " #   Column       Non-Null Count    Dtype\n",
      "---  ------       --------------    -----\n",
      " 0   Invoice      1067371 non-null  object\n",
      " 1   StockCode    1067371 non-null  object\n",
      " 2   Description  1062989 non-null  object\n",
      " 3   Quantity     1067371 non-null  int64\n",
      " 4   InvoiceDate  1067371 non-null  object\n",
      " 5   Price        1067371 non-null  float64\n",
      " 6   Customer ID  824364 non-null   float64\n",
      " 7   Country      1067371 non-null  object\n",
      "dtypes: float64(2), int64(1), object(5)\n",
      "memory usage: 116.4+ MB\n"
     ]
    },
    {
     "ename": "TypeError",
     "evalue": "cuDF does not support iteration of DataFrame via iterrows. Consider using `.to_pandas().iterrows()` if you wish to iterate over each row.",
     "output_type": "error",
     "traceback": [
      "\u001b[0;31m---------------------------------------------------------------------------\u001b[0m",
      "\u001b[0;31mTypeError\u001b[0m                                 Traceback (most recent call last)",
      "\u001b[0;32m<ipython-input-4-951d49c33743>\u001b[0m in \u001b[0;36m<module>\u001b[0;34m\u001b[0m\n\u001b[1;32m     37\u001b[0m         \u001b[0;32mif\u001b[0m \u001b[0mscale_factor\u001b[0m \u001b[0;34m==\u001b[0m \u001b[0;34m\"x1\"\u001b[0m\u001b[0;34m:\u001b[0m\u001b[0;34m\u001b[0m\u001b[0;34m\u001b[0m\u001b[0m\n\u001b[1;32m     38\u001b[0m             \u001b[0mstart\u001b[0m \u001b[0;34m=\u001b[0m \u001b[0mtime\u001b[0m\u001b[0;34m(\u001b[0m\u001b[0;34m)\u001b[0m\u001b[0;34m\u001b[0m\u001b[0;34m\u001b[0m\u001b[0m\n\u001b[0;32m---> 39\u001b[0;31m             \u001b[0;32mfor\u001b[0m \u001b[0mi\u001b[0m\u001b[0;34m,\u001b[0m \u001b[0mrow\u001b[0m \u001b[0;32min\u001b[0m \u001b[0mgpu_df\u001b[0m\u001b[0;34m.\u001b[0m\u001b[0miterrows\u001b[0m\u001b[0;34m(\u001b[0m\u001b[0;34m)\u001b[0m\u001b[0;34m:\u001b[0m\u001b[0;34m\u001b[0m\u001b[0;34m\u001b[0m\u001b[0m\n\u001b[0m\u001b[1;32m     40\u001b[0m                 \u001b[0mcpu_df\u001b[0m\u001b[0;34m.\u001b[0m\u001b[0mat\u001b[0m\u001b[0;34m[\u001b[0m\u001b[0mi\u001b[0m\u001b[0;34m,\u001b[0m \u001b[0;34m'Quantity'\u001b[0m\u001b[0;34m]\u001b[0m \u001b[0;34m=\u001b[0m \u001b[0;36m0\u001b[0m\u001b[0;34m\u001b[0m\u001b[0;34m\u001b[0m\u001b[0m\n\u001b[1;32m     41\u001b[0m             \u001b[0mend\u001b[0m \u001b[0;34m=\u001b[0m \u001b[0mtime\u001b[0m\u001b[0;34m(\u001b[0m\u001b[0;34m)\u001b[0m\u001b[0;34m\u001b[0m\u001b[0;34m\u001b[0m\u001b[0m\n",
      "\u001b[0;32m~/miniforge3/envs/thesis/lib/python3.8/site-packages/cudf/core/dataframe.py\u001b[0m in \u001b[0;36miterrows\u001b[0;34m(self)\u001b[0m\n\u001b[1;32m   7535\u001b[0m \u001b[0;34m\u001b[0m\u001b[0m\n\u001b[1;32m   7536\u001b[0m     \u001b[0;32mdef\u001b[0m \u001b[0miterrows\u001b[0m\u001b[0;34m(\u001b[0m\u001b[0mself\u001b[0m\u001b[0;34m)\u001b[0m\u001b[0;34m:\u001b[0m\u001b[0;34m\u001b[0m\u001b[0;34m\u001b[0m\u001b[0m\n\u001b[0;32m-> 7537\u001b[0;31m         raise TypeError(\n\u001b[0m\u001b[1;32m   7538\u001b[0m             \u001b[0;34m\"cuDF does not support iteration of DataFrame \"\u001b[0m\u001b[0;34m\u001b[0m\u001b[0;34m\u001b[0m\u001b[0m\n\u001b[1;32m   7539\u001b[0m             \u001b[0;34m\"via iterrows. Consider using \"\u001b[0m\u001b[0;34m\u001b[0m\u001b[0;34m\u001b[0m\u001b[0m\n",
      "\u001b[0;31mTypeError\u001b[0m: cuDF does not support iteration of DataFrame via iterrows. Consider using `.to_pandas().iterrows()` if you wish to iterate over each row."
     ]
    }
   ],
   "source": [
    "for scale_factor in scale_factors:\n",
    "    if scale_factor != \"x20\":\n",
    "        results['gpu'][scale_factor] = {}\n",
    "        results['gpu'][scale_factor][\"io_opt\"] = {}\n",
    "        results['gpu'][scale_factor][\"queries\"] = {}\n",
    "\n",
    "        start = time()\n",
    "        gpu_df = cudf.read_csv(\"../data/raw/online_retail_II_\"+scale_factor+\".csv\")\n",
    "        end = time()\n",
    "\n",
    "        results[\"gpu\"][scale_factor][\"io_opt\"][\"load_csv\"] = end-start\n",
    "\n",
    "        start = time()\n",
    "        gpu_df.info()\n",
    "        end = time()\n",
    "\n",
    "        results[\"gpu\"][scale_factor][\"io_opt\"][\"info\"] = end-start\n",
    "\n",
    "        start = time()\n",
    "        gpu_df.describe(include=\"O\")\n",
    "        end = time()\n",
    "\n",
    "        results[\"gpu\"][scale_factor][\"io_opt\"][\"describe\"] = end-start\n",
    "\n",
    "        start = time()\n",
    "        gpu_df.groupby(\"Country\").Price.sum()\n",
    "        end = time()\n",
    "\n",
    "        results[\"gpu\"][scale_factor][\"queries\"][\"q1\"] = end-start\n",
    "\n",
    "        start = time()\n",
    "        gpu_df.groupby(\"Invoice\").Price.sum()\n",
    "        end = time()\n",
    "\n",
    "        results[\"gpu\"][scale_factor][\"queries\"][\"q2\"] = end-start"
   ]
  },
  {
   "cell_type": "markdown",
   "id": "3583ef70-08a3-4344-b95d-d7308fe15163",
   "metadata": {},
   "source": [
    "### Join tests"
   ]
  },
  {
   "cell_type": "code",
   "execution_count": 5,
   "id": "3343f216-93a2-42e3-9b9f-1aaceaab2bad",
   "metadata": {},
   "outputs": [],
   "source": [
    "# gpu_df = cudf.read_csv(\"../data/raw/online_retail_II_x1.csv\")\n",
    "# gpu_df_idx = cudf.read_csv(\"../data/raw/online_retail_II_indexes.csv\")"
   ]
  },
  {
   "cell_type": "code",
   "execution_count": null,
   "id": "5129c274-fd51-477f-90f3-e0a896655af0",
   "metadata": {},
   "outputs": [],
   "source": [
    "# gpu_df[\"StockCode\"].values"
   ]
  },
  {
   "cell_type": "code",
   "execution_count": null,
   "id": "afb2b49d-4a64-488d-8b57-599c37fb5c5f",
   "metadata": {},
   "outputs": [],
   "source": [
    "# start = time()\n",
    "# ix_col = \"StockCode\"\n",
    "# target_cols = [\"Invoice\", \"Price\", \"Quantity\"]\n",
    "# broadcasted_ix = gpu_df[ix_col].values\n",
    "# broadcasted_df_ix = gpu_df_idx.set_index(ix_col).reindex(broadcasted_ix)\n",
    "# join_df = gpu_df.concat([gpu_df, broadcasted_df_ix[target_cols]], axis=1, ignore_index=True)\n",
    "# end = time()\n",
    "\n",
    "# print(end-start)"
   ]
  },
  {
   "cell_type": "markdown",
   "id": "10d86c0f-ce9f-48b3-9c9a-8bed082dcdb6",
   "metadata": {},
   "source": [
    "## PLOTS"
   ]
  },
  {
   "cell_type": "code",
   "execution_count": null,
   "id": "e0ea99d3-e328-404d-a20b-0a690f877c50",
   "metadata": {},
   "outputs": [],
   "source": [
    "def plot(sf, cpu_io, gpu_io, cpu_queries, gpu_queries):\n",
    "    # PLOT 1\n",
    "    labels = ['Load\\ndataset', '.info()', '.describe()']\n",
    "    # cpu_values = [i[1] for i in results[\"cpu\"][\"x1\"][\"io_opt\"].items()]\n",
    "    # gpu_values = [i[1] for i in results[\"gpu\"][\"x1\"][\"io_opt\"].items()]\n",
    "\n",
    "    x = np.arange(len(labels))  # the label locations\n",
    "    width = 0.35  # the width of the bars\n",
    "\n",
    "    ax1 = plt.subplot(1, 2, 1)\n",
    "    ax1.bar(x - width/2, cpu_io, width, label='CPU')\n",
    "    ax1.bar(x + width/2, gpu_io, width, label='GPU')\n",
    "\n",
    "    ax1.set_ylabel('seconds')\n",
    "    ax1.set_title('I/O operations by time')\n",
    "    ax1.set_xticks(x)\n",
    "    ax1.set_xticklabels(labels)\n",
    "    ax1.legend()\n",
    "\n",
    "    # PLOT 2\n",
    "    labels = ['Q1', 'Q2']\n",
    "    # cpu_queries = [i[1] for i in results[\"cpu\"][\"x1\"][\"queries\"].items()]\n",
    "    # gpu_queries = [i[1] for i in results[\"gpu\"][\"x1\"][\"queries\"].items()]\n",
    "\n",
    "    x = np.arange(len(labels))  # the label locations\n",
    "    width = 0.35  # the width of the bars\n",
    "\n",
    "    ax2 = plt.subplot(1, 2, 2)\n",
    "    ax2.bar(x - width/2, cpu_queries, width, label='CPU')\n",
    "    ax2.bar(x + width/2, gpu_queries, width, label='GPU')\n",
    "\n",
    "    ax2.set_title('Queries by time')\n",
    "    ax2.set_xticks(x)\n",
    "    ax2.set_xticklabels(labels)\n",
    "    ax2.legend()\n",
    "\n",
    "    plt.suptitle(\"Test with SF=\"+sf)\n",
    "    plt.show()"
   ]
  },
  {
   "cell_type": "code",
   "execution_count": null,
   "id": "b4710b68-c6d6-493d-a349-f2e8872c41df",
   "metadata": {},
   "outputs": [],
   "source": [
    "for scale_factor in scale_factors:\n",
    "    if scale_factor != \"x20\":\n",
    "        plot(\n",
    "            scale_factor,\n",
    "            [i[1] for i in results[\"cpu\"][scale_factor][\"io_opt\"].items()],\n",
    "            [i[1] for i in results[\"gpu\"][scale_factor][\"io_opt\"].items()],\n",
    "            [i[1] for i in results[\"cpu\"][scale_factor][\"queries\"].items()],\n",
    "            [i[1] for i in results[\"gpu\"][scale_factor][\"queries\"].items()]\n",
    "        )"
   ]
  },
  {
   "cell_type": "code",
   "execution_count": null,
   "id": "f25e332c-1eed-49fe-9fc9-7766857b28d4",
   "metadata": {},
   "outputs": [],
   "source": [
    "cpu = []\n",
    "gpu = []\n",
    "\n",
    "for scale_factor in scale_factors:\n",
    "    if scale_factor != \"x20\":\n",
    "        cpu.append(mean([i[1] for i in results[\"cpu\"][scale_factor][\"queries\"].items()]))\n",
    "        gpu.append(mean([i[1] for i in results[\"gpu\"][scale_factor][\"queries\"].items()]))\n",
    "\n",
    "activity = [\"SF 0.1\", \"SF 0.5\", \"SF 1\", \"SF 5\", \"SF 10\"]\n",
    "\n",
    "fig, ax = plt.subplots()\n",
    "ax.plot(activity, gpu, label=\"GPU\")\n",
    "ax.plot(activity, cpu, label=\"CPU\")\n",
    "ax.legend()\n",
    "\n",
    "plt.show()"
   ]
  },
  {
   "cell_type": "code",
   "execution_count": null,
   "id": "30288274-a312-4fd2-8c95-f9c8df807f03",
   "metadata": {},
   "outputs": [],
   "source": []
  }
 ],
 "metadata": {
  "kernelspec": {
   "display_name": "Python 3",
   "language": "python",
   "name": "python3"
  },
  "language_info": {
   "codemirror_mode": {
    "name": "ipython",
    "version": 3
   },
   "file_extension": ".py",
   "mimetype": "text/x-python",
   "name": "python",
   "nbconvert_exporter": "python",
   "pygments_lexer": "ipython3",
   "version": "3.8.10"
  }
 },
 "nbformat": 4,
 "nbformat_minor": 5
}
