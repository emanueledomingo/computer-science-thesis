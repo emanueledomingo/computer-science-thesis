{
 "cells": [
  {
   "cell_type": "code",
   "execution_count": 1,
   "id": "3388d48e-dcf0-4325-ba32-1c4ee0aa2e20",
   "metadata": {},
   "outputs": [],
   "source": [
    "import cudf\n",
    "import pandas as pd"
   ]
  },
  {
   "cell_type": "code",
   "execution_count": 2,
   "id": "62ff7432-d940-4694-b80c-a8bba3830cdc",
   "metadata": {},
   "outputs": [
    {
     "name": "stdout",
     "output_type": "stream",
     "text": [
      "CPU times: user 661 ms, sys: 47.1 ms, total: 708 ms\n",
      "Wall time: 716 ms\n"
     ]
    }
   ],
   "source": [
    "%%time\n",
    "cpu_df = pd.read_csv(\"../data/raw/online_retail_II.csv\").iloc[:50000]"
   ]
  },
  {
   "cell_type": "code",
   "execution_count": 3,
   "id": "fed1e9fe-5551-4e8c-bdeb-a4578c73929f",
   "metadata": {},
   "outputs": [
    {
     "name": "stdout",
     "output_type": "stream",
     "text": [
      "CPU times: user 518 ms, sys: 211 ms, total: 729 ms\n",
      "Wall time: 734 ms\n"
     ]
    }
   ],
   "source": [
    "%%time\n",
    "gpu_df = cudf.read_csv(\"../data/raw/online_retail_II.csv\").iloc[:50000] # più lento perché il csv è sul disco la prima volta, la seconda più veloce"
   ]
  },
  {
   "cell_type": "code",
   "execution_count": 4,
   "id": "3ab6e589-290f-46f9-a765-46fb74b0eb46",
   "metadata": {},
   "outputs": [
    {
     "name": "stdout",
     "output_type": "stream",
     "text": [
      "<class 'pandas.core.frame.DataFrame'>\n",
      "RangeIndex: 50000 entries, 0 to 49999\n",
      "Data columns (total 8 columns):\n",
      " #   Column       Non-Null Count  Dtype  \n",
      "---  ------       --------------  -----  \n",
      " 0   Invoice      50000 non-null  object \n",
      " 1   StockCode    50000 non-null  object \n",
      " 2   Description  49734 non-null  object \n",
      " 3   Quantity     50000 non-null  int64  \n",
      " 4   InvoiceDate  50000 non-null  object \n",
      " 5   Price        50000 non-null  float64\n",
      " 6   Customer ID  36103 non-null  float64\n",
      " 7   Country      50000 non-null  object \n",
      "dtypes: float64(2), int64(1), object(5)\n",
      "memory usage: 3.1+ MB\n",
      "CPU times: user 12.5 ms, sys: 2.77 ms, total: 15.3 ms\n",
      "Wall time: 13.9 ms\n",
      "<class 'cudf.core.dataframe.DataFrame'>\n",
      "RangeIndex: 50000 entries, 0 to 49999\n",
      "Data columns (total 8 columns):\n",
      " #   Column       Non-Null Count  Dtype\n",
      "---  ------       --------------  -----\n",
      " 0   Invoice      50000 non-null  object\n",
      " 1   StockCode    50000 non-null  object\n",
      " 2   Description  49734 non-null  object\n",
      " 3   Quantity     50000 non-null  int64\n",
      " 4   InvoiceDate  50000 non-null  object\n",
      " 5   Price        50000 non-null  float64\n",
      " 6   Customer ID  36103 non-null  float64\n",
      " 7   Country      50000 non-null  object\n",
      "dtypes: float64(2), int64(1), object(5)\n",
      "memory usage: 5.5+ MB\n",
      "CPU times: user 8.1 ms, sys: 57 µs, total: 8.16 ms\n",
      "Wall time: 8.03 ms\n"
     ]
    }
   ],
   "source": [
    "%time cpu_df.info()\n",
    "%time gpu_df.info()"
   ]
  },
  {
   "cell_type": "code",
   "execution_count": 5,
   "id": "2fd6faf1-1e4d-4404-a23c-a2d210f7e459",
   "metadata": {},
   "outputs": [
    {
     "name": "stdout",
     "output_type": "stream",
     "text": [
      "CPU times: user 31.5 ms, sys: 0 ns, total: 31.5 ms\n",
      "Wall time: 30.5 ms\n",
      "CPU times: user 138 ms, sys: 4.91 ms, total: 143 ms\n",
      "Wall time: 143 ms\n"
     ]
    },
    {
     "data": {
      "text/html": [
       "<div>\n",
       "<style scoped>\n",
       "    .dataframe tbody tr th:only-of-type {\n",
       "        vertical-align: middle;\n",
       "    }\n",
       "\n",
       "    .dataframe tbody tr th {\n",
       "        vertical-align: top;\n",
       "    }\n",
       "\n",
       "    .dataframe thead th {\n",
       "        text-align: right;\n",
       "    }\n",
       "</style>\n",
       "<table border=\"1\" class=\"dataframe\">\n",
       "  <thead>\n",
       "    <tr style=\"text-align: right;\">\n",
       "      <th></th>\n",
       "      <th>Invoice</th>\n",
       "      <th>StockCode</th>\n",
       "      <th>Description</th>\n",
       "      <th>InvoiceDate</th>\n",
       "      <th>Country</th>\n",
       "    </tr>\n",
       "  </thead>\n",
       "  <tbody>\n",
       "    <tr>\n",
       "      <th>count</th>\n",
       "      <td>50000</td>\n",
       "      <td>50000</td>\n",
       "      <td>49734</td>\n",
       "      <td>50000</td>\n",
       "      <td>50000</td>\n",
       "    </tr>\n",
       "    <tr>\n",
       "      <th>unique</th>\n",
       "      <td>2638</td>\n",
       "      <td>3211</td>\n",
       "      <td>3116</td>\n",
       "      <td>2280</td>\n",
       "      <td>24</td>\n",
       "    </tr>\n",
       "    <tr>\n",
       "      <th>top</th>\n",
       "      <td>490074</td>\n",
       "      <td>85123A</td>\n",
       "      <td>WHITE HANGING HEART T-LIGHT HOLDER</td>\n",
       "      <td>2009-12-03 14:39:00</td>\n",
       "      <td>United Kingdom</td>\n",
       "    </tr>\n",
       "    <tr>\n",
       "      <th>freq</th>\n",
       "      <td>580</td>\n",
       "      <td>379</td>\n",
       "      <td>378</td>\n",
       "      <td>580</td>\n",
       "      <td>47166</td>\n",
       "    </tr>\n",
       "  </tbody>\n",
       "</table>\n",
       "</div>"
      ],
      "text/plain": [
       "       Invoice StockCode                         Description  \\\n",
       "count    50000     50000                               49734   \n",
       "unique    2638      3211                                3116   \n",
       "top     490074    85123A  WHITE HANGING HEART T-LIGHT HOLDER   \n",
       "freq       580       379                                 378   \n",
       "\n",
       "                InvoiceDate         Country  \n",
       "count                 50000           50000  \n",
       "unique                 2280              24  \n",
       "top     2009-12-03 14:39:00  United Kingdom  \n",
       "freq                    580           47166  "
      ]
     },
     "metadata": {},
     "output_type": "display_data"
    },
    {
     "data": {
      "text/html": [
       "<div>\n",
       "<style scoped>\n",
       "    .dataframe tbody tr th:only-of-type {\n",
       "        vertical-align: middle;\n",
       "    }\n",
       "\n",
       "    .dataframe tbody tr th {\n",
       "        vertical-align: top;\n",
       "    }\n",
       "\n",
       "    .dataframe thead th {\n",
       "        text-align: right;\n",
       "    }\n",
       "</style>\n",
       "<table border=\"1\" class=\"dataframe\">\n",
       "  <thead>\n",
       "    <tr style=\"text-align: right;\">\n",
       "      <th></th>\n",
       "      <th>Invoice</th>\n",
       "      <th>StockCode</th>\n",
       "      <th>Description</th>\n",
       "      <th>InvoiceDate</th>\n",
       "      <th>Country</th>\n",
       "    </tr>\n",
       "  </thead>\n",
       "  <tbody>\n",
       "    <tr>\n",
       "      <th>count</th>\n",
       "      <td>50000</td>\n",
       "      <td>50000</td>\n",
       "      <td>49734</td>\n",
       "      <td>50000</td>\n",
       "      <td>50000</td>\n",
       "    </tr>\n",
       "    <tr>\n",
       "      <th>unique</th>\n",
       "      <td>2638</td>\n",
       "      <td>3211</td>\n",
       "      <td>3117</td>\n",
       "      <td>2280</td>\n",
       "      <td>24</td>\n",
       "    </tr>\n",
       "    <tr>\n",
       "      <th>top</th>\n",
       "      <td>490074</td>\n",
       "      <td>85123A</td>\n",
       "      <td>WHITE HANGING HEART T-LIGHT HOLDER</td>\n",
       "      <td>2009-12-03 14:39:00</td>\n",
       "      <td>United Kingdom</td>\n",
       "    </tr>\n",
       "    <tr>\n",
       "      <th>freq</th>\n",
       "      <td>580</td>\n",
       "      <td>379</td>\n",
       "      <td>378</td>\n",
       "      <td>580</td>\n",
       "      <td>47166</td>\n",
       "    </tr>\n",
       "  </tbody>\n",
       "</table>\n",
       "</div>"
      ],
      "text/plain": [
       "       Invoice StockCode                         Description  \\\n",
       "count    50000     50000                               49734   \n",
       "unique    2638      3211                                3117   \n",
       "top     490074    85123A  WHITE HANGING HEART T-LIGHT HOLDER   \n",
       "freq       580       379                                 378   \n",
       "\n",
       "                InvoiceDate         Country  \n",
       "count                 50000           50000  \n",
       "unique                 2280              24  \n",
       "top     2009-12-03 14:39:00  United Kingdom  \n",
       "freq                    580           47166  "
      ]
     },
     "metadata": {},
     "output_type": "display_data"
    }
   ],
   "source": [
    "%time cpu_descr = cpu_df.describe(include=\"O\")\n",
    "%time gpu_descr = gpu_df.describe(include=\"O\")\n",
    "display(cpu_descr)\n",
    "display(gpu_descr)"
   ]
  },
  {
   "cell_type": "code",
   "execution_count": 6,
   "id": "0d04d892-e137-4d33-adf6-9dac60f69d05",
   "metadata": {},
   "outputs": [
    {
     "name": "stdout",
     "output_type": "stream",
     "text": [
      "CPU times: user 12 ms, sys: 28 µs, total: 12 ms\n",
      "Wall time: 11.2 ms\n",
      "CPU times: user 33.9 ms, sys: 4.65 ms, total: 38.5 ms\n",
      "Wall time: 38.4 ms\n"
     ]
    },
    {
     "data": {
      "text/html": [
       "<div>\n",
       "<style scoped>\n",
       "    .dataframe tbody tr th:only-of-type {\n",
       "        vertical-align: middle;\n",
       "    }\n",
       "\n",
       "    .dataframe tbody tr th {\n",
       "        vertical-align: top;\n",
       "    }\n",
       "\n",
       "    .dataframe thead th {\n",
       "        text-align: right;\n",
       "    }\n",
       "</style>\n",
       "<table border=\"1\" class=\"dataframe\">\n",
       "  <thead>\n",
       "    <tr style=\"text-align: right;\">\n",
       "      <th></th>\n",
       "      <th>Quantity</th>\n",
       "      <th>Price</th>\n",
       "      <th>Customer ID</th>\n",
       "    </tr>\n",
       "  </thead>\n",
       "  <tbody>\n",
       "    <tr>\n",
       "      <th>count</th>\n",
       "      <td>50000.000000</td>\n",
       "      <td>50000.000000</td>\n",
       "      <td>36103.000000</td>\n",
       "    </tr>\n",
       "    <tr>\n",
       "      <th>mean</th>\n",
       "      <td>10.286000</td>\n",
       "      <td>4.329999</td>\n",
       "      <td>15419.529402</td>\n",
       "    </tr>\n",
       "    <tr>\n",
       "      <th>std</th>\n",
       "      <td>61.711476</td>\n",
       "      <td>21.533923</td>\n",
       "      <td>1672.573649</td>\n",
       "    </tr>\n",
       "    <tr>\n",
       "      <th>min</th>\n",
       "      <td>-2127.000000</td>\n",
       "      <td>0.000000</td>\n",
       "      <td>12346.000000</td>\n",
       "    </tr>\n",
       "    <tr>\n",
       "      <th>25%</th>\n",
       "      <td>1.000000</td>\n",
       "      <td>1.250000</td>\n",
       "      <td>14080.000000</td>\n",
       "    </tr>\n",
       "    <tr>\n",
       "      <th>50%</th>\n",
       "      <td>3.000000</td>\n",
       "      <td>2.570000</td>\n",
       "      <td>15456.000000</td>\n",
       "    </tr>\n",
       "    <tr>\n",
       "      <th>75%</th>\n",
       "      <td>8.000000</td>\n",
       "      <td>4.950000</td>\n",
       "      <td>16887.000000</td>\n",
       "    </tr>\n",
       "    <tr>\n",
       "      <th>max</th>\n",
       "      <td>5184.000000</td>\n",
       "      <td>1998.490000</td>\n",
       "      <td>18287.000000</td>\n",
       "    </tr>\n",
       "  </tbody>\n",
       "</table>\n",
       "</div>"
      ],
      "text/plain": [
       "           Quantity         Price   Customer ID\n",
       "count  50000.000000  50000.000000  36103.000000\n",
       "mean      10.286000      4.329999  15419.529402\n",
       "std       61.711476     21.533923   1672.573649\n",
       "min    -2127.000000      0.000000  12346.000000\n",
       "25%        1.000000      1.250000  14080.000000\n",
       "50%        3.000000      2.570000  15456.000000\n",
       "75%        8.000000      4.950000  16887.000000\n",
       "max     5184.000000   1998.490000  18287.000000"
      ]
     },
     "metadata": {},
     "output_type": "display_data"
    },
    {
     "data": {
      "text/html": [
       "<div>\n",
       "<style scoped>\n",
       "    .dataframe tbody tr th:only-of-type {\n",
       "        vertical-align: middle;\n",
       "    }\n",
       "\n",
       "    .dataframe tbody tr th {\n",
       "        vertical-align: top;\n",
       "    }\n",
       "\n",
       "    .dataframe thead th {\n",
       "        text-align: right;\n",
       "    }\n",
       "</style>\n",
       "<table border=\"1\" class=\"dataframe\">\n",
       "  <thead>\n",
       "    <tr style=\"text-align: right;\">\n",
       "      <th></th>\n",
       "      <th>Quantity</th>\n",
       "      <th>Price</th>\n",
       "      <th>Customer ID</th>\n",
       "    </tr>\n",
       "  </thead>\n",
       "  <tbody>\n",
       "    <tr>\n",
       "      <th>count</th>\n",
       "      <td>50000.000000</td>\n",
       "      <td>50000.000000</td>\n",
       "      <td>36103.000000</td>\n",
       "    </tr>\n",
       "    <tr>\n",
       "      <th>mean</th>\n",
       "      <td>10.286000</td>\n",
       "      <td>4.329999</td>\n",
       "      <td>15419.529402</td>\n",
       "    </tr>\n",
       "    <tr>\n",
       "      <th>std</th>\n",
       "      <td>61.711476</td>\n",
       "      <td>21.533923</td>\n",
       "      <td>1672.573649</td>\n",
       "    </tr>\n",
       "    <tr>\n",
       "      <th>min</th>\n",
       "      <td>-2127.000000</td>\n",
       "      <td>0.000000</td>\n",
       "      <td>12346.000000</td>\n",
       "    </tr>\n",
       "    <tr>\n",
       "      <th>25%</th>\n",
       "      <td>1.000000</td>\n",
       "      <td>1.250000</td>\n",
       "      <td>14080.000000</td>\n",
       "    </tr>\n",
       "    <tr>\n",
       "      <th>50%</th>\n",
       "      <td>3.000000</td>\n",
       "      <td>2.570000</td>\n",
       "      <td>15456.000000</td>\n",
       "    </tr>\n",
       "    <tr>\n",
       "      <th>75%</th>\n",
       "      <td>8.000000</td>\n",
       "      <td>4.950000</td>\n",
       "      <td>16887.000000</td>\n",
       "    </tr>\n",
       "    <tr>\n",
       "      <th>max</th>\n",
       "      <td>5184.000000</td>\n",
       "      <td>1998.490000</td>\n",
       "      <td>18287.000000</td>\n",
       "    </tr>\n",
       "  </tbody>\n",
       "</table>\n",
       "</div>"
      ],
      "text/plain": [
       "           Quantity         Price   Customer ID\n",
       "count  50000.000000  50000.000000  36103.000000\n",
       "mean      10.286000      4.329999  15419.529402\n",
       "std       61.711476     21.533923   1672.573649\n",
       "min    -2127.000000      0.000000  12346.000000\n",
       "25%        1.000000      1.250000  14080.000000\n",
       "50%        3.000000      2.570000  15456.000000\n",
       "75%        8.000000      4.950000  16887.000000\n",
       "max     5184.000000   1998.490000  18287.000000"
      ]
     },
     "metadata": {},
     "output_type": "display_data"
    }
   ],
   "source": [
    "%time cpu_descr = cpu_df.describe()\n",
    "%time gpu_descr = gpu_df.describe()\n",
    "display(cpu_descr)\n",
    "display(gpu_descr)"
   ]
  },
  {
   "cell_type": "code",
   "execution_count": 7,
   "id": "a0a3b360-6d48-477c-a2e2-3fd8e562e78e",
   "metadata": {},
   "outputs": [
    {
     "name": "stdout",
     "output_type": "stream",
     "text": [
      "CPU times: user 4.99 ms, sys: 330 µs, total: 5.32 ms\n",
      "Wall time: 4.38 ms\n",
      "CPU times: user 6.81 ms, sys: 0 ns, total: 6.81 ms\n",
      "Wall time: 6.74 ms\n",
      "\n"
     ]
    }
   ],
   "source": [
    "%time cpu_df.groupby(\"Country\").Price.sum()\n",
    "%time gpu_df.groupby(\"Country\").Price.sum()\n",
    "print()"
   ]
  },
  {
   "cell_type": "code",
   "execution_count": 8,
   "id": "612ecca0-3527-4241-b7bd-c2d7adbb117f",
   "metadata": {},
   "outputs": [
    {
     "name": "stdout",
     "output_type": "stream",
     "text": [
      "CPU times: user 4.6 ms, sys: 0 ns, total: 4.6 ms\n",
      "Wall time: 3.75 ms\n",
      "CPU times: user 6.04 ms, sys: 661 µs, total: 6.7 ms\n",
      "Wall time: 6.68 ms\n",
      "\n"
     ]
    }
   ],
   "source": [
    "%time cpu_df.groupby(\"Invoice\").Price.sum()\n",
    "%time gpu_df.groupby(\"Invoice\").Price.sum()\n",
    "print()"
   ]
  },
  {
   "cell_type": "code",
   "execution_count": null,
   "id": "31219a94-b698-4e4a-a8ad-20e8f8f0242b",
   "metadata": {},
   "outputs": [],
   "source": []
  }
 ],
 "metadata": {
  "kernelspec": {
   "display_name": "Python 3",
   "language": "python",
   "name": "python3"
  },
  "language_info": {
   "codemirror_mode": {
    "name": "ipython",
    "version": 3
   },
   "file_extension": ".py",
   "mimetype": "text/x-python",
   "name": "python",
   "nbconvert_exporter": "python",
   "pygments_lexer": "ipython3",
   "version": "3.8.10"
  }
 },
 "nbformat": 4,
 "nbformat_minor": 5
}
