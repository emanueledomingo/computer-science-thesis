{
 "cells": [
  {
   "cell_type": "code",
   "execution_count": 1,
   "id": "3388d48e-dcf0-4325-ba32-1c4ee0aa2e20",
   "metadata": {},
   "outputs": [],
   "source": [
    "import cudf\n",
    "import pandas as pd"
   ]
  },
  {
   "cell_type": "code",
   "execution_count": 2,
   "id": "62ff7432-d940-4694-b80c-a8bba3830cdc",
   "metadata": {},
   "outputs": [
    {
     "name": "stdout",
     "output_type": "stream",
     "text": [
      "CPU times: user 12.1 ms, sys: 238 µs, total: 12.3 ms\n",
      "Wall time: 12.9 ms\n"
     ]
    }
   ],
   "source": [
    "%%time\n",
    "cpu_df = pd.read_csv(\"../data/raw/online_retail_II_x0_1.csv\")"
   ]
  },
  {
   "cell_type": "code",
   "execution_count": 3,
   "id": "fed1e9fe-5551-4e8c-bdeb-a4578c73929f",
   "metadata": {},
   "outputs": [
    {
     "name": "stdout",
     "output_type": "stream",
     "text": [
      "CPU times: user 406 ms, sys: 170 ms, total: 576 ms\n",
      "Wall time: 696 ms\n"
     ]
    }
   ],
   "source": [
    "%%time\n",
    "gpu_df = cudf.read_csv(\"../data/raw/online_retail_II_x0_1.csv\")"
   ]
  },
  {
   "cell_type": "code",
   "execution_count": 4,
   "id": "3ab6e589-290f-46f9-a765-46fb74b0eb46",
   "metadata": {},
   "outputs": [
    {
     "name": "stdout",
     "output_type": "stream",
     "text": [
      "<class 'pandas.core.frame.DataFrame'>\n",
      "RangeIndex: 10000 entries, 0 to 9999\n",
      "Data columns (total 8 columns):\n",
      " #   Column       Non-Null Count  Dtype  \n",
      "---  ------       --------------  -----  \n",
      " 0   Invoice      10000 non-null  object \n",
      " 1   StockCode    10000 non-null  object \n",
      " 2   Description  9984 non-null   object \n",
      " 3   Quantity     10000 non-null  int64  \n",
      " 4   InvoiceDate  10000 non-null  object \n",
      " 5   Price        10000 non-null  float64\n",
      " 6   Customer ID  7195 non-null   float64\n",
      " 7   Country      10000 non-null  object \n",
      "dtypes: float64(2), int64(1), object(5)\n",
      "memory usage: 625.1+ KB\n",
      "CPU times: user 11.5 ms, sys: 0 ns, total: 11.5 ms\n",
      "Wall time: 11.9 ms\n",
      "<class 'cudf.core.dataframe.DataFrame'>\n",
      "RangeIndex: 10000 entries, 0 to 9999\n",
      "Data columns (total 8 columns):\n",
      " #   Column       Non-Null Count  Dtype\n",
      "---  ------       --------------  -----\n",
      " 0   Invoice      10000 non-null  object\n",
      " 1   StockCode    10000 non-null  object\n",
      " 2   Description  9984 non-null   object\n",
      " 3   Quantity     10000 non-null  int64\n",
      " 4   InvoiceDate  10000 non-null  object\n",
      " 5   Price        10000 non-null  float64\n",
      " 6   Customer ID  7195 non-null   float64\n",
      " 7   Country      10000 non-null  object\n",
      "dtypes: float64(2), int64(1), object(5)\n",
      "memory usage: 1.1+ MB\n",
      "CPU times: user 7.24 ms, sys: 1.33 ms, total: 8.56 ms\n",
      "Wall time: 11.4 ms\n"
     ]
    }
   ],
   "source": [
    "%time cpu_df.info()\n",
    "%time gpu_df.info()"
   ]
  },
  {
   "cell_type": "code",
   "execution_count": 5,
   "id": "2fd6faf1-1e4d-4404-a23c-a2d210f7e459",
   "metadata": {},
   "outputs": [
    {
     "name": "stdout",
     "output_type": "stream",
     "text": [
      "CPU times: user 16.4 ms, sys: 0 ns, total: 16.4 ms\n",
      "Wall time: 15.8 ms\n",
      "CPU times: user 130 ms, sys: 9.41 ms, total: 139 ms\n",
      "Wall time: 175 ms\n"
     ]
    },
    {
     "data": {
      "text/html": [
       "<div>\n",
       "<style scoped>\n",
       "    .dataframe tbody tr th:only-of-type {\n",
       "        vertical-align: middle;\n",
       "    }\n",
       "\n",
       "    .dataframe tbody tr th {\n",
       "        vertical-align: top;\n",
       "    }\n",
       "\n",
       "    .dataframe thead th {\n",
       "        text-align: right;\n",
       "    }\n",
       "</style>\n",
       "<table border=\"1\" class=\"dataframe\">\n",
       "  <thead>\n",
       "    <tr style=\"text-align: right;\">\n",
       "      <th></th>\n",
       "      <th>Invoice</th>\n",
       "      <th>StockCode</th>\n",
       "      <th>Description</th>\n",
       "      <th>InvoiceDate</th>\n",
       "      <th>Country</th>\n",
       "    </tr>\n",
       "  </thead>\n",
       "  <tbody>\n",
       "    <tr>\n",
       "      <th>count</th>\n",
       "      <td>10000</td>\n",
       "      <td>10000</td>\n",
       "      <td>9984</td>\n",
       "      <td>10000</td>\n",
       "      <td>10000</td>\n",
       "    </tr>\n",
       "    <tr>\n",
       "      <th>unique</th>\n",
       "      <td>458</td>\n",
       "      <td>2129</td>\n",
       "      <td>2113</td>\n",
       "      <td>402</td>\n",
       "      <td>15</td>\n",
       "    </tr>\n",
       "    <tr>\n",
       "      <th>top</th>\n",
       "      <td>490074</td>\n",
       "      <td>22086</td>\n",
       "      <td>PAPER CHAIN KIT 50'S CHRISTMAS</td>\n",
       "      <td>2009-12-03 14:39:00</td>\n",
       "      <td>United Kingdom</td>\n",
       "    </tr>\n",
       "    <tr>\n",
       "      <th>freq</th>\n",
       "      <td>580</td>\n",
       "      <td>69</td>\n",
       "      <td>69</td>\n",
       "      <td>580</td>\n",
       "      <td>9540</td>\n",
       "    </tr>\n",
       "  </tbody>\n",
       "</table>\n",
       "</div>"
      ],
      "text/plain": [
       "       Invoice StockCode                      Description  \\\n",
       "count    10000     10000                             9984   \n",
       "unique     458      2129                             2113   \n",
       "top     490074     22086  PAPER CHAIN KIT 50'S CHRISTMAS    \n",
       "freq       580        69                               69   \n",
       "\n",
       "                InvoiceDate         Country  \n",
       "count                 10000           10000  \n",
       "unique                  402              15  \n",
       "top     2009-12-03 14:39:00  United Kingdom  \n",
       "freq                    580            9540  "
      ]
     },
     "metadata": {},
     "output_type": "display_data"
    },
    {
     "data": {
      "text/html": [
       "<div>\n",
       "<style scoped>\n",
       "    .dataframe tbody tr th:only-of-type {\n",
       "        vertical-align: middle;\n",
       "    }\n",
       "\n",
       "    .dataframe tbody tr th {\n",
       "        vertical-align: top;\n",
       "    }\n",
       "\n",
       "    .dataframe thead th {\n",
       "        text-align: right;\n",
       "    }\n",
       "</style>\n",
       "<table border=\"1\" class=\"dataframe\">\n",
       "  <thead>\n",
       "    <tr style=\"text-align: right;\">\n",
       "      <th></th>\n",
       "      <th>Invoice</th>\n",
       "      <th>StockCode</th>\n",
       "      <th>Description</th>\n",
       "      <th>InvoiceDate</th>\n",
       "      <th>Country</th>\n",
       "    </tr>\n",
       "  </thead>\n",
       "  <tbody>\n",
       "    <tr>\n",
       "      <th>count</th>\n",
       "      <td>10000</td>\n",
       "      <td>10000</td>\n",
       "      <td>9984</td>\n",
       "      <td>10000</td>\n",
       "      <td>10000</td>\n",
       "    </tr>\n",
       "    <tr>\n",
       "      <th>unique</th>\n",
       "      <td>458</td>\n",
       "      <td>2129</td>\n",
       "      <td>2114</td>\n",
       "      <td>402</td>\n",
       "      <td>15</td>\n",
       "    </tr>\n",
       "    <tr>\n",
       "      <th>top</th>\n",
       "      <td>490074</td>\n",
       "      <td>22086</td>\n",
       "      <td>PAPER CHAIN KIT 50'S CHRISTMAS</td>\n",
       "      <td>2009-12-03 14:39:00</td>\n",
       "      <td>United Kingdom</td>\n",
       "    </tr>\n",
       "    <tr>\n",
       "      <th>freq</th>\n",
       "      <td>580</td>\n",
       "      <td>69</td>\n",
       "      <td>69</td>\n",
       "      <td>580</td>\n",
       "      <td>9540</td>\n",
       "    </tr>\n",
       "  </tbody>\n",
       "</table>\n",
       "</div>"
      ],
      "text/plain": [
       "       Invoice StockCode                      Description  \\\n",
       "count    10000     10000                             9984   \n",
       "unique     458      2129                             2114   \n",
       "top     490074     22086  PAPER CHAIN KIT 50'S CHRISTMAS    \n",
       "freq       580        69                               69   \n",
       "\n",
       "                InvoiceDate         Country  \n",
       "count                 10000           10000  \n",
       "unique                  402              15  \n",
       "top     2009-12-03 14:39:00  United Kingdom  \n",
       "freq                    580            9540  "
      ]
     },
     "metadata": {},
     "output_type": "display_data"
    }
   ],
   "source": [
    "%time cpu_descr = cpu_df.describe(include=\"O\")\n",
    "%time gpu_descr = gpu_df.describe(include=\"O\")\n",
    "display(cpu_descr)\n",
    "display(gpu_descr)"
   ]
  },
  {
   "cell_type": "code",
   "execution_count": 6,
   "id": "0d04d892-e137-4d33-adf6-9dac60f69d05",
   "metadata": {},
   "outputs": [
    {
     "name": "stdout",
     "output_type": "stream",
     "text": [
      "CPU times: user 6.02 ms, sys: 2.99 ms, total: 9.01 ms\n",
      "Wall time: 14.2 ms\n",
      "CPU times: user 22.3 ms, sys: 0 ns, total: 22.3 ms\n",
      "Wall time: 26.2 ms\n"
     ]
    },
    {
     "data": {
      "text/html": [
       "<div>\n",
       "<style scoped>\n",
       "    .dataframe tbody tr th:only-of-type {\n",
       "        vertical-align: middle;\n",
       "    }\n",
       "\n",
       "    .dataframe tbody tr th {\n",
       "        vertical-align: top;\n",
       "    }\n",
       "\n",
       "    .dataframe thead th {\n",
       "        text-align: right;\n",
       "    }\n",
       "</style>\n",
       "<table border=\"1\" class=\"dataframe\">\n",
       "  <thead>\n",
       "    <tr style=\"text-align: right;\">\n",
       "      <th></th>\n",
       "      <th>Quantity</th>\n",
       "      <th>Price</th>\n",
       "      <th>Customer ID</th>\n",
       "    </tr>\n",
       "  </thead>\n",
       "  <tbody>\n",
       "    <tr>\n",
       "      <th>count</th>\n",
       "      <td>10000.000000</td>\n",
       "      <td>10000.000000</td>\n",
       "      <td>7195.000000</td>\n",
       "    </tr>\n",
       "    <tr>\n",
       "      <th>mean</th>\n",
       "      <td>10.265500</td>\n",
       "      <td>4.430561</td>\n",
       "      <td>15488.444614</td>\n",
       "    </tr>\n",
       "    <tr>\n",
       "      <th>std</th>\n",
       "      <td>97.878045</td>\n",
       "      <td>26.527995</td>\n",
       "      <td>1590.150291</td>\n",
       "    </tr>\n",
       "    <tr>\n",
       "      <th>min</th>\n",
       "      <td>-1043.000000</td>\n",
       "      <td>0.000000</td>\n",
       "      <td>12362.000000</td>\n",
       "    </tr>\n",
       "    <tr>\n",
       "      <th>25%</th>\n",
       "      <td>1.000000</td>\n",
       "      <td>1.250000</td>\n",
       "      <td>14159.000000</td>\n",
       "    </tr>\n",
       "    <tr>\n",
       "      <th>50%</th>\n",
       "      <td>3.000000</td>\n",
       "      <td>2.570000</td>\n",
       "      <td>15581.000000</td>\n",
       "    </tr>\n",
       "    <tr>\n",
       "      <th>75%</th>\n",
       "      <td>8.000000</td>\n",
       "      <td>4.950000</td>\n",
       "      <td>16823.000000</td>\n",
       "    </tr>\n",
       "    <tr>\n",
       "      <th>max</th>\n",
       "      <td>5184.000000</td>\n",
       "      <td>1998.490000</td>\n",
       "      <td>18287.000000</td>\n",
       "    </tr>\n",
       "  </tbody>\n",
       "</table>\n",
       "</div>"
      ],
      "text/plain": [
       "           Quantity         Price   Customer ID\n",
       "count  10000.000000  10000.000000   7195.000000\n",
       "mean      10.265500      4.430561  15488.444614\n",
       "std       97.878045     26.527995   1590.150291\n",
       "min    -1043.000000      0.000000  12362.000000\n",
       "25%        1.000000      1.250000  14159.000000\n",
       "50%        3.000000      2.570000  15581.000000\n",
       "75%        8.000000      4.950000  16823.000000\n",
       "max     5184.000000   1998.490000  18287.000000"
      ]
     },
     "metadata": {},
     "output_type": "display_data"
    },
    {
     "data": {
      "text/html": [
       "<div>\n",
       "<style scoped>\n",
       "    .dataframe tbody tr th:only-of-type {\n",
       "        vertical-align: middle;\n",
       "    }\n",
       "\n",
       "    .dataframe tbody tr th {\n",
       "        vertical-align: top;\n",
       "    }\n",
       "\n",
       "    .dataframe thead th {\n",
       "        text-align: right;\n",
       "    }\n",
       "</style>\n",
       "<table border=\"1\" class=\"dataframe\">\n",
       "  <thead>\n",
       "    <tr style=\"text-align: right;\">\n",
       "      <th></th>\n",
       "      <th>Quantity</th>\n",
       "      <th>Price</th>\n",
       "      <th>Customer ID</th>\n",
       "    </tr>\n",
       "  </thead>\n",
       "  <tbody>\n",
       "    <tr>\n",
       "      <th>count</th>\n",
       "      <td>10000.000000</td>\n",
       "      <td>10000.000000</td>\n",
       "      <td>7195.000000</td>\n",
       "    </tr>\n",
       "    <tr>\n",
       "      <th>mean</th>\n",
       "      <td>10.265500</td>\n",
       "      <td>4.430561</td>\n",
       "      <td>15488.444614</td>\n",
       "    </tr>\n",
       "    <tr>\n",
       "      <th>std</th>\n",
       "      <td>97.878045</td>\n",
       "      <td>26.527995</td>\n",
       "      <td>1590.150291</td>\n",
       "    </tr>\n",
       "    <tr>\n",
       "      <th>min</th>\n",
       "      <td>-1043.000000</td>\n",
       "      <td>0.000000</td>\n",
       "      <td>12362.000000</td>\n",
       "    </tr>\n",
       "    <tr>\n",
       "      <th>25%</th>\n",
       "      <td>1.000000</td>\n",
       "      <td>1.250000</td>\n",
       "      <td>14159.000000</td>\n",
       "    </tr>\n",
       "    <tr>\n",
       "      <th>50%</th>\n",
       "      <td>3.000000</td>\n",
       "      <td>2.570000</td>\n",
       "      <td>15581.000000</td>\n",
       "    </tr>\n",
       "    <tr>\n",
       "      <th>75%</th>\n",
       "      <td>8.000000</td>\n",
       "      <td>4.950000</td>\n",
       "      <td>16823.000000</td>\n",
       "    </tr>\n",
       "    <tr>\n",
       "      <th>max</th>\n",
       "      <td>5184.000000</td>\n",
       "      <td>1998.490000</td>\n",
       "      <td>18287.000000</td>\n",
       "    </tr>\n",
       "  </tbody>\n",
       "</table>\n",
       "</div>"
      ],
      "text/plain": [
       "           Quantity         Price   Customer ID\n",
       "count  10000.000000  10000.000000   7195.000000\n",
       "mean      10.265500      4.430561  15488.444614\n",
       "std       97.878045     26.527995   1590.150291\n",
       "min    -1043.000000      0.000000  12362.000000\n",
       "25%        1.000000      1.250000  14159.000000\n",
       "50%        3.000000      2.570000  15581.000000\n",
       "75%        8.000000      4.950000  16823.000000\n",
       "max     5184.000000   1998.490000  18287.000000"
      ]
     },
     "metadata": {},
     "output_type": "display_data"
    }
   ],
   "source": [
    "%time cpu_descr = cpu_df.describe()\n",
    "%time gpu_descr = gpu_df.describe()\n",
    "display(cpu_descr)\n",
    "display(gpu_descr)"
   ]
  },
  {
   "cell_type": "code",
   "execution_count": 7,
   "id": "a0a3b360-6d48-477c-a2e2-3fd8e562e78e",
   "metadata": {},
   "outputs": [
    {
     "name": "stdout",
     "output_type": "stream",
     "text": [
      "CPU times: user 2.17 ms, sys: 0 ns, total: 2.17 ms\n",
      "Wall time: 1.37 ms\n",
      "CPU times: user 4.64 ms, sys: 52 µs, total: 4.7 ms\n",
      "Wall time: 4.61 ms\n",
      "\n"
     ]
    }
   ],
   "source": [
    "%time cpu_df.groupby(\"Country\").Price.sum()\n",
    "%time gpu_df.groupby(\"Country\").Price.sum()\n",
    "print()"
   ]
  },
  {
   "cell_type": "code",
   "execution_count": 8,
   "id": "612ecca0-3527-4241-b7bd-c2d7adbb117f",
   "metadata": {},
   "outputs": [
    {
     "name": "stdout",
     "output_type": "stream",
     "text": [
      "CPU times: user 2.47 ms, sys: 1.22 ms, total: 3.7 ms\n",
      "Wall time: 2.66 ms\n",
      "CPU times: user 6.96 ms, sys: 0 ns, total: 6.96 ms\n",
      "Wall time: 6.23 ms\n",
      "\n"
     ]
    }
   ],
   "source": [
    "%time cpu_df.groupby(\"Invoice\").Price.sum()\n",
    "%time gpu_df.groupby(\"Invoice\").Price.sum()\n",
    "print()"
   ]
  },
  {
   "cell_type": "code",
   "execution_count": null,
   "id": "31219a94-b698-4e4a-a8ad-20e8f8f0242b",
   "metadata": {},
   "outputs": [],
   "source": []
  }
 ],
 "metadata": {
  "kernelspec": {
   "display_name": "Python 3",
   "language": "python",
   "name": "python3"
  },
  "language_info": {
   "codemirror_mode": {
    "name": "ipython",
    "version": 3
   },
   "file_extension": ".py",
   "mimetype": "text/x-python",
   "name": "python",
   "nbconvert_exporter": "python",
   "pygments_lexer": "ipython3",
   "version": "3.8.10"
  }
 },
 "nbformat": 4,
 "nbformat_minor": 5
}
