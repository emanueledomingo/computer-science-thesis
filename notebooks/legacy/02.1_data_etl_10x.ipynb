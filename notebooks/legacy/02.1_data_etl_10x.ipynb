{
 "cells": [
  {
   "cell_type": "code",
   "execution_count": 1,
   "id": "3388d48e-dcf0-4325-ba32-1c4ee0aa2e20",
   "metadata": {},
   "outputs": [],
   "source": [
    "import cudf\n",
    "import pandas as pd"
   ]
  },
  {
   "cell_type": "code",
   "execution_count": 2,
   "id": "62ff7432-d940-4694-b80c-a8bba3830cdc",
   "metadata": {},
   "outputs": [
    {
     "name": "stdout",
     "output_type": "stream",
     "text": [
      "CPU times: user 6.23 s, sys: 596 ms, total: 6.83 s\n",
      "Wall time: 6.85 s\n"
     ]
    }
   ],
   "source": [
    "%%time\n",
    "cpu_df = pd.read_csv(\"../data/raw/online_retail_II_x10.csv\")"
   ]
  },
  {
   "cell_type": "code",
   "execution_count": 3,
   "id": "fed1e9fe-5551-4e8c-bdeb-a4578c73929f",
   "metadata": {},
   "outputs": [
    {
     "name": "stdout",
     "output_type": "stream",
     "text": [
      "CPU times: user 918 ms, sys: 297 ms, total: 1.21 s\n",
      "Wall time: 1.22 s\n"
     ]
    }
   ],
   "source": [
    "%%time\n",
    "gpu_df = cudf.read_csv(\"../data/raw/online_retail_II_x10.csv\") # più lento perché il csv è sul disco la prima volta, la seconda più veloce"
   ]
  },
  {
   "cell_type": "code",
   "execution_count": 4,
   "id": "3ab6e589-290f-46f9-a765-46fb74b0eb46",
   "metadata": {},
   "outputs": [
    {
     "name": "stdout",
     "output_type": "stream",
     "text": [
      "<class 'pandas.core.frame.DataFrame'>\n",
      "RangeIndex: 10673710 entries, 0 to 10673709\n",
      "Data columns (total 8 columns):\n",
      " #   Column       Dtype  \n",
      "---  ------       -----  \n",
      " 0   Invoice      object \n",
      " 1   StockCode    object \n",
      " 2   Description  object \n",
      " 3   Quantity     int64  \n",
      " 4   InvoiceDate  object \n",
      " 5   Price        float64\n",
      " 6   Customer ID  float64\n",
      " 7   Country      object \n",
      "dtypes: float64(2), int64(1), object(5)\n",
      "memory usage: 651.5+ MB\n",
      "CPU times: user 4.86 ms, sys: 146 µs, total: 5.01 ms\n",
      "Wall time: 4.63 ms\n",
      "<class 'cudf.core.dataframe.DataFrame'>\n",
      "RangeIndex: 10673710 entries, 0 to 10673709\n",
      "Data columns (total 8 columns):\n",
      " #   Column       Dtype\n",
      "---  ------       -----\n",
      " 0   Invoice      object\n",
      " 1   StockCode    object\n",
      " 2   Description  object\n",
      " 3   Quantity     int64\n",
      " 4   InvoiceDate  object\n",
      " 5   Price        float64\n",
      " 6   Customer ID  float64\n",
      " 7   Country      object\n",
      "dtypes: float64(2), int64(1), object(5)\n",
      "memory usage: 1.1+ GB\n",
      "CPU times: user 3.5 ms, sys: 1.83 ms, total: 5.33 ms\n",
      "Wall time: 4.37 ms\n"
     ]
    }
   ],
   "source": [
    "%time cpu_df.info()\n",
    "%time gpu_df.info()"
   ]
  },
  {
   "cell_type": "code",
   "execution_count": 5,
   "id": "2fd6faf1-1e4d-4404-a23c-a2d210f7e459",
   "metadata": {},
   "outputs": [
    {
     "name": "stdout",
     "output_type": "stream",
     "text": [
      "CPU times: user 3.86 s, sys: 108 ms, total: 3.97 s\n",
      "Wall time: 3.98 s\n",
      "CPU times: user 3.09 s, sys: 48 ms, total: 3.14 s\n",
      "Wall time: 3.19 s\n"
     ]
    },
    {
     "data": {
      "text/html": [
       "<div>\n",
       "<style scoped>\n",
       "    .dataframe tbody tr th:only-of-type {\n",
       "        vertical-align: middle;\n",
       "    }\n",
       "\n",
       "    .dataframe tbody tr th {\n",
       "        vertical-align: top;\n",
       "    }\n",
       "\n",
       "    .dataframe thead th {\n",
       "        text-align: right;\n",
       "    }\n",
       "</style>\n",
       "<table border=\"1\" class=\"dataframe\">\n",
       "  <thead>\n",
       "    <tr style=\"text-align: right;\">\n",
       "      <th></th>\n",
       "      <th>Invoice</th>\n",
       "      <th>StockCode</th>\n",
       "      <th>Description</th>\n",
       "      <th>InvoiceDate</th>\n",
       "      <th>Country</th>\n",
       "    </tr>\n",
       "  </thead>\n",
       "  <tbody>\n",
       "    <tr>\n",
       "      <th>count</th>\n",
       "      <td>10673710</td>\n",
       "      <td>10673710</td>\n",
       "      <td>10629890</td>\n",
       "      <td>10673710</td>\n",
       "      <td>10673710</td>\n",
       "    </tr>\n",
       "    <tr>\n",
       "      <th>unique</th>\n",
       "      <td>53628</td>\n",
       "      <td>5305</td>\n",
       "      <td>5698</td>\n",
       "      <td>47635</td>\n",
       "      <td>43</td>\n",
       "    </tr>\n",
       "    <tr>\n",
       "      <th>top</th>\n",
       "      <td>537434</td>\n",
       "      <td>85123A</td>\n",
       "      <td>WHITE HANGING HEART T-LIGHT HOLDER</td>\n",
       "      <td>2010-12-06 16:57:00</td>\n",
       "      <td>United Kingdom</td>\n",
       "    </tr>\n",
       "    <tr>\n",
       "      <th>freq</th>\n",
       "      <td>13500</td>\n",
       "      <td>58290</td>\n",
       "      <td>59180</td>\n",
       "      <td>13500</td>\n",
       "      <td>9813300</td>\n",
       "    </tr>\n",
       "  </tbody>\n",
       "</table>\n",
       "</div>"
      ],
      "text/plain": [
       "         Invoice StockCode                         Description  \\\n",
       "count   10673710  10673710                            10629890   \n",
       "unique     53628      5305                                5698   \n",
       "top       537434    85123A  WHITE HANGING HEART T-LIGHT HOLDER   \n",
       "freq       13500     58290                               59180   \n",
       "\n",
       "                InvoiceDate         Country  \n",
       "count              10673710        10673710  \n",
       "unique                47635              43  \n",
       "top     2010-12-06 16:57:00  United Kingdom  \n",
       "freq                  13500         9813300  "
      ]
     },
     "metadata": {},
     "output_type": "display_data"
    },
    {
     "data": {
      "text/html": [
       "<div>\n",
       "<style scoped>\n",
       "    .dataframe tbody tr th:only-of-type {\n",
       "        vertical-align: middle;\n",
       "    }\n",
       "\n",
       "    .dataframe tbody tr th {\n",
       "        vertical-align: top;\n",
       "    }\n",
       "\n",
       "    .dataframe thead th {\n",
       "        text-align: right;\n",
       "    }\n",
       "</style>\n",
       "<table border=\"1\" class=\"dataframe\">\n",
       "  <thead>\n",
       "    <tr style=\"text-align: right;\">\n",
       "      <th></th>\n",
       "      <th>Invoice</th>\n",
       "      <th>StockCode</th>\n",
       "      <th>Description</th>\n",
       "      <th>InvoiceDate</th>\n",
       "      <th>Country</th>\n",
       "    </tr>\n",
       "  </thead>\n",
       "  <tbody>\n",
       "    <tr>\n",
       "      <th>count</th>\n",
       "      <td>10673710</td>\n",
       "      <td>10673710</td>\n",
       "      <td>10629890</td>\n",
       "      <td>10673710</td>\n",
       "      <td>10673710</td>\n",
       "    </tr>\n",
       "    <tr>\n",
       "      <th>unique</th>\n",
       "      <td>53628</td>\n",
       "      <td>5305</td>\n",
       "      <td>5699</td>\n",
       "      <td>47635</td>\n",
       "      <td>43</td>\n",
       "    </tr>\n",
       "    <tr>\n",
       "      <th>top</th>\n",
       "      <td>537434</td>\n",
       "      <td>85123A</td>\n",
       "      <td>WHITE HANGING HEART T-LIGHT HOLDER</td>\n",
       "      <td>2010-12-06 16:57:00</td>\n",
       "      <td>United Kingdom</td>\n",
       "    </tr>\n",
       "    <tr>\n",
       "      <th>freq</th>\n",
       "      <td>13500</td>\n",
       "      <td>58290</td>\n",
       "      <td>59180</td>\n",
       "      <td>13500</td>\n",
       "      <td>9813300</td>\n",
       "    </tr>\n",
       "  </tbody>\n",
       "</table>\n",
       "</div>"
      ],
      "text/plain": [
       "         Invoice StockCode                         Description  \\\n",
       "count   10673710  10673710                            10629890   \n",
       "unique     53628      5305                                5699   \n",
       "top       537434    85123A  WHITE HANGING HEART T-LIGHT HOLDER   \n",
       "freq       13500     58290                               59180   \n",
       "\n",
       "                InvoiceDate         Country  \n",
       "count              10673710        10673710  \n",
       "unique                47635              43  \n",
       "top     2010-12-06 16:57:00  United Kingdom  \n",
       "freq                  13500         9813300  "
      ]
     },
     "metadata": {},
     "output_type": "display_data"
    }
   ],
   "source": [
    "%time cpu_descr = cpu_df.describe(include=\"O\")\n",
    "%time gpu_descr = gpu_df.describe(include=\"O\")\n",
    "display(cpu_descr)\n",
    "display(gpu_descr)"
   ]
  },
  {
   "cell_type": "code",
   "execution_count": 6,
   "id": "0d04d892-e137-4d33-adf6-9dac60f69d05",
   "metadata": {},
   "outputs": [
    {
     "name": "stdout",
     "output_type": "stream",
     "text": [
      "CPU times: user 841 ms, sys: 192 ms, total: 1.03 s\n",
      "Wall time: 1.04 s\n",
      "CPU times: user 167 ms, sys: 19.9 ms, total: 187 ms\n",
      "Wall time: 198 ms\n"
     ]
    },
    {
     "data": {
      "text/html": [
       "<div>\n",
       "<style scoped>\n",
       "    .dataframe tbody tr th:only-of-type {\n",
       "        vertical-align: middle;\n",
       "    }\n",
       "\n",
       "    .dataframe tbody tr th {\n",
       "        vertical-align: top;\n",
       "    }\n",
       "\n",
       "    .dataframe thead th {\n",
       "        text-align: right;\n",
       "    }\n",
       "</style>\n",
       "<table border=\"1\" class=\"dataframe\">\n",
       "  <thead>\n",
       "    <tr style=\"text-align: right;\">\n",
       "      <th></th>\n",
       "      <th>Quantity</th>\n",
       "      <th>Price</th>\n",
       "      <th>Customer ID</th>\n",
       "    </tr>\n",
       "  </thead>\n",
       "  <tbody>\n",
       "    <tr>\n",
       "      <th>count</th>\n",
       "      <td>1.067371e+07</td>\n",
       "      <td>1.067371e+07</td>\n",
       "      <td>8.243640e+06</td>\n",
       "    </tr>\n",
       "    <tr>\n",
       "      <th>mean</th>\n",
       "      <td>9.938898e+00</td>\n",
       "      <td>4.649388e+00</td>\n",
       "      <td>1.532464e+04</td>\n",
       "    </tr>\n",
       "    <tr>\n",
       "      <th>std</th>\n",
       "      <td>1.727057e+02</td>\n",
       "      <td>1.235530e+02</td>\n",
       "      <td>1.697464e+03</td>\n",
       "    </tr>\n",
       "    <tr>\n",
       "      <th>min</th>\n",
       "      <td>-8.099500e+04</td>\n",
       "      <td>-5.359436e+04</td>\n",
       "      <td>1.234600e+04</td>\n",
       "    </tr>\n",
       "    <tr>\n",
       "      <th>25%</th>\n",
       "      <td>1.000000e+00</td>\n",
       "      <td>1.250000e+00</td>\n",
       "      <td>1.397500e+04</td>\n",
       "    </tr>\n",
       "    <tr>\n",
       "      <th>50%</th>\n",
       "      <td>3.000000e+00</td>\n",
       "      <td>2.100000e+00</td>\n",
       "      <td>1.525500e+04</td>\n",
       "    </tr>\n",
       "    <tr>\n",
       "      <th>75%</th>\n",
       "      <td>1.000000e+01</td>\n",
       "      <td>4.150000e+00</td>\n",
       "      <td>1.679700e+04</td>\n",
       "    </tr>\n",
       "    <tr>\n",
       "      <th>max</th>\n",
       "      <td>8.099500e+04</td>\n",
       "      <td>3.897000e+04</td>\n",
       "      <td>1.828700e+04</td>\n",
       "    </tr>\n",
       "  </tbody>\n",
       "</table>\n",
       "</div>"
      ],
      "text/plain": [
       "           Quantity         Price   Customer ID\n",
       "count  1.067371e+07  1.067371e+07  8.243640e+06\n",
       "mean   9.938898e+00  4.649388e+00  1.532464e+04\n",
       "std    1.727057e+02  1.235530e+02  1.697464e+03\n",
       "min   -8.099500e+04 -5.359436e+04  1.234600e+04\n",
       "25%    1.000000e+00  1.250000e+00  1.397500e+04\n",
       "50%    3.000000e+00  2.100000e+00  1.525500e+04\n",
       "75%    1.000000e+01  4.150000e+00  1.679700e+04\n",
       "max    8.099500e+04  3.897000e+04  1.828700e+04"
      ]
     },
     "metadata": {},
     "output_type": "display_data"
    },
    {
     "data": {
      "text/html": [
       "<div>\n",
       "<style scoped>\n",
       "    .dataframe tbody tr th:only-of-type {\n",
       "        vertical-align: middle;\n",
       "    }\n",
       "\n",
       "    .dataframe tbody tr th {\n",
       "        vertical-align: top;\n",
       "    }\n",
       "\n",
       "    .dataframe thead th {\n",
       "        text-align: right;\n",
       "    }\n",
       "</style>\n",
       "<table border=\"1\" class=\"dataframe\">\n",
       "  <thead>\n",
       "    <tr style=\"text-align: right;\">\n",
       "      <th></th>\n",
       "      <th>Quantity</th>\n",
       "      <th>Price</th>\n",
       "      <th>Customer ID</th>\n",
       "    </tr>\n",
       "  </thead>\n",
       "  <tbody>\n",
       "    <tr>\n",
       "      <th>count</th>\n",
       "      <td>1.067371e+07</td>\n",
       "      <td>1.067371e+07</td>\n",
       "      <td>8.243640e+06</td>\n",
       "    </tr>\n",
       "    <tr>\n",
       "      <th>mean</th>\n",
       "      <td>9.938898e+00</td>\n",
       "      <td>4.649388e+00</td>\n",
       "      <td>1.532464e+04</td>\n",
       "    </tr>\n",
       "    <tr>\n",
       "      <th>std</th>\n",
       "      <td>1.727057e+02</td>\n",
       "      <td>1.235530e+02</td>\n",
       "      <td>1.697464e+03</td>\n",
       "    </tr>\n",
       "    <tr>\n",
       "      <th>min</th>\n",
       "      <td>-8.099500e+04</td>\n",
       "      <td>-5.359436e+04</td>\n",
       "      <td>1.234600e+04</td>\n",
       "    </tr>\n",
       "    <tr>\n",
       "      <th>25%</th>\n",
       "      <td>1.000000e+00</td>\n",
       "      <td>1.250000e+00</td>\n",
       "      <td>1.397500e+04</td>\n",
       "    </tr>\n",
       "    <tr>\n",
       "      <th>50%</th>\n",
       "      <td>3.000000e+00</td>\n",
       "      <td>2.100000e+00</td>\n",
       "      <td>1.525500e+04</td>\n",
       "    </tr>\n",
       "    <tr>\n",
       "      <th>75%</th>\n",
       "      <td>1.000000e+01</td>\n",
       "      <td>4.150000e+00</td>\n",
       "      <td>1.679700e+04</td>\n",
       "    </tr>\n",
       "    <tr>\n",
       "      <th>max</th>\n",
       "      <td>8.099500e+04</td>\n",
       "      <td>3.897000e+04</td>\n",
       "      <td>1.828700e+04</td>\n",
       "    </tr>\n",
       "  </tbody>\n",
       "</table>\n",
       "</div>"
      ],
      "text/plain": [
       "           Quantity         Price   Customer ID\n",
       "count  1.067371e+07  1.067371e+07  8.243640e+06\n",
       "mean   9.938898e+00  4.649388e+00  1.532464e+04\n",
       "std    1.727057e+02  1.235530e+02  1.697464e+03\n",
       "min   -8.099500e+04 -5.359436e+04  1.234600e+04\n",
       "25%    1.000000e+00  1.250000e+00  1.397500e+04\n",
       "50%    3.000000e+00  2.100000e+00  1.525500e+04\n",
       "75%    1.000000e+01  4.150000e+00  1.679700e+04\n",
       "max    8.099500e+04  3.897000e+04  1.828700e+04"
      ]
     },
     "metadata": {},
     "output_type": "display_data"
    }
   ],
   "source": [
    "%time cpu_descr = cpu_df.describe()\n",
    "%time gpu_descr = gpu_df.describe()\n",
    "display(cpu_descr)\n",
    "display(gpu_descr)"
   ]
  },
  {
   "cell_type": "code",
   "execution_count": 7,
   "id": "a0a3b360-6d48-477c-a2e2-3fd8e562e78e",
   "metadata": {},
   "outputs": [
    {
     "name": "stdout",
     "output_type": "stream",
     "text": [
      "CPU times: user 447 ms, sys: 44.2 ms, total: 491 ms\n",
      "Wall time: 492 ms\n",
      "CPU times: user 22.6 ms, sys: 3.85 ms, total: 26.4 ms\n",
      "Wall time: 26.5 ms\n",
      "\n"
     ]
    }
   ],
   "source": [
    "%time cpu_df.groupby(\"Country\").Price.sum()\n",
    "%time gpu_df.groupby(\"Country\").Price.sum()\n",
    "print()"
   ]
  },
  {
   "cell_type": "code",
   "execution_count": 8,
   "id": "612ecca0-3527-4241-b7bd-c2d7adbb117f",
   "metadata": {},
   "outputs": [
    {
     "name": "stdout",
     "output_type": "stream",
     "text": [
      "CPU times: user 398 ms, sys: 52.1 ms, total: 450 ms\n",
      "Wall time: 452 ms\n",
      "CPU times: user 9.3 ms, sys: 4.15 ms, total: 13.4 ms\n",
      "Wall time: 13.4 ms\n",
      "\n"
     ]
    }
   ],
   "source": [
    "%time cpu_df.groupby(\"Invoice\").Price.sum()\n",
    "%time gpu_df.groupby(\"Invoice\").Price.sum()\n",
    "print()"
   ]
  },
  {
   "cell_type": "code",
   "execution_count": null,
   "id": "31219a94-b698-4e4a-a8ad-20e8f8f0242b",
   "metadata": {},
   "outputs": [],
   "source": []
  }
 ],
 "metadata": {
  "kernelspec": {
   "display_name": "Python 3",
   "language": "python",
   "name": "python3"
  },
  "language_info": {
   "codemirror_mode": {
    "name": "ipython",
    "version": 3
   },
   "file_extension": ".py",
   "mimetype": "text/x-python",
   "name": "python",
   "nbconvert_exporter": "python",
   "pygments_lexer": "ipython3",
   "version": "3.8.10"
  }
 },
 "nbformat": 4,
 "nbformat_minor": 5
}
