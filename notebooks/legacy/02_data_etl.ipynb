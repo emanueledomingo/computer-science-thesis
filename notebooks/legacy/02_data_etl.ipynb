{
 "cells": [
  {
   "cell_type": "code",
   "execution_count": 10,
   "id": "3388d48e-dcf0-4325-ba32-1c4ee0aa2e20",
   "metadata": {},
   "outputs": [],
   "source": [
    "import cudf\n",
    "import pandas as pd\n",
    "import modin.pandas as mpd\n",
    "import os\n",
    "\n",
    "os.environ[\"MODIN_ENGINE\"] = \"dask\"\n",
    "os.environ[\"MODIN_CPUS\"] = \"4\""
   ]
  },
  {
   "cell_type": "code",
   "execution_count": 2,
   "id": "62ff7432-d940-4694-b80c-a8bba3830cdc",
   "metadata": {},
   "outputs": [
    {
     "name": "stdout",
     "output_type": "stream",
     "text": [
      "CPU times: user 575 ms, sys: 74.8 ms, total: 650 ms\n",
      "Wall time: 649 ms\n"
     ]
    }
   ],
   "source": [
    "%%time\n",
    "cpu_df = pd.read_csv(\"../data/raw/online_retail_II.csv\")"
   ]
  },
  {
   "cell_type": "code",
   "execution_count": 11,
   "id": "9f5735fa-c8e9-48cd-8e22-6f3bf4a4e156",
   "metadata": {},
   "outputs": [
    {
     "name": "stdout",
     "output_type": "stream",
     "text": [
      "CPU times: user 90.1 ms, sys: 27 ms, total: 117 ms\n",
      "Wall time: 313 ms\n"
     ]
    }
   ],
   "source": [
    "%%time\n",
    "multi_cpu_df = mpd.read_csv(\"../data/raw/online_retail_II.csv\")"
   ]
  },
  {
   "cell_type": "code",
   "execution_count": 4,
   "id": "fed1e9fe-5551-4e8c-bdeb-a4578c73929f",
   "metadata": {},
   "outputs": [
    {
     "name": "stdout",
     "output_type": "stream",
     "text": [
      "CPU times: user 433 ms, sys: 242 ms, total: 675 ms\n",
      "Wall time: 642 ms\n"
     ]
    }
   ],
   "source": [
    "%%time\n",
    "gpu_df = cudf.read_csv(\"../data/raw/online_retail_II.csv\") # più lento perché il csv è sul disco la prima volta, la seconda più veloce"
   ]
  },
  {
   "cell_type": "code",
   "execution_count": 12,
   "id": "3ab6e589-290f-46f9-a765-46fb74b0eb46",
   "metadata": {},
   "outputs": [
    {
     "name": "stdout",
     "output_type": "stream",
     "text": [
      "<class 'pandas.core.frame.DataFrame'>\n",
      "RangeIndex: 1067371 entries, 0 to 1067370\n",
      "Data columns (total 8 columns):\n",
      " #   Column       Non-Null Count    Dtype  \n",
      "---  ------       --------------    -----  \n",
      " 0   Invoice      1067371 non-null  object \n",
      " 1   StockCode    1067371 non-null  object \n",
      " 2   Description  1062989 non-null  object \n",
      " 3   Quantity     1067371 non-null  int64  \n",
      " 4   InvoiceDate  1067371 non-null  object \n",
      " 5   Price        1067371 non-null  float64\n",
      " 6   Customer ID  824364 non-null   float64\n",
      " 7   Country      1067371 non-null  object \n",
      "dtypes: float64(2), int64(1), object(5)\n",
      "memory usage: 65.1+ MB\n",
      "CPU times: user 112 ms, sys: 0 ns, total: 112 ms\n",
      "Wall time: 108 ms\n",
      "<class 'modin.pandas.dataframe.DataFrame'>\n",
      "RangeIndex: 1067371 entries, 0 to 1067370\n",
      "Data columns (total 8 columns):\n",
      " #   Column       Non-Null Count    Dtype  \n",
      "---  -----------  ----------------  -----  \n",
      " 0   Invoice      1067371 non-null  object\n",
      " 1   StockCode    1067371 non-null  object\n",
      " 2   Description  1062989 non-null  object\n",
      " 3   Quantity     1067371 non-null  int64\n",
      " 4   InvoiceDate  1067371 non-null  object\n",
      " 5   Price        1067371 non-null  float64\n",
      " 6   Customer ID  824364 non-null   float64\n",
      " 7   Country      1067371 non-null  object\n",
      "dtypes: object(5), float64(2), int64(1)\n",
      "memory usage: 65.1 MB\n",
      "CPU times: user 220 ms, sys: 0 ns, total: 220 ms\n",
      "Wall time: 328 ms\n",
      "<class 'cudf.core.dataframe.DataFrame'>\n",
      "RangeIndex: 1067371 entries, 0 to 1067370\n",
      "Data columns (total 8 columns):\n",
      " #   Column       Non-Null Count    Dtype\n",
      "---  ------       --------------    -----\n",
      " 0   Invoice      1067371 non-null  object\n",
      " 1   StockCode    1067371 non-null  object\n",
      " 2   Description  1062989 non-null  object\n",
      " 3   Quantity     1067371 non-null  int64\n",
      " 4   InvoiceDate  1067371 non-null  object\n",
      " 5   Price        1067371 non-null  float64\n",
      " 6   Customer ID  824364 non-null   float64\n",
      " 7   Country      1067371 non-null  object\n",
      "dtypes: float64(2), int64(1), object(5)\n",
      "memory usage: 116.4+ MB\n",
      "CPU times: user 12.5 ms, sys: 7 ms, total: 19.5 ms\n",
      "Wall time: 18.3 ms\n"
     ]
    },
    {
     "name": "stderr",
     "output_type": "stream",
     "text": [
      "UserWarning: Distributing <class 'int'> object. This may take some time.\n"
     ]
    }
   ],
   "source": [
    "%time cpu_df.info()\n",
    "%time multi_cpu_df.info()\n",
    "%time gpu_df.info()"
   ]
  },
  {
   "cell_type": "code",
   "execution_count": 13,
   "id": "2fd6faf1-1e4d-4404-a23c-a2d210f7e459",
   "metadata": {},
   "outputs": [
    {
     "name": "stdout",
     "output_type": "stream",
     "text": [
      "CPU times: user 377 ms, sys: 16.1 ms, total: 393 ms\n",
      "Wall time: 381 ms\n",
      "CPU times: user 85.3 ms, sys: 0 ns, total: 85.3 ms\n",
      "Wall time: 739 ms\n",
      "CPU times: user 318 ms, sys: 3.92 ms, total: 322 ms\n",
      "Wall time: 307 ms\n"
     ]
    }
   ],
   "source": [
    "%time cpu_descr = cpu_df.describe(include=\"O\")\n",
    "%time multi_cpu_descr = multi_cpu_df.describe(include=\"O\")\n",
    "%time gpu_descr = gpu_df.describe(include=\"O\")\n",
    "# display(cpu_descr)\n",
    "# display(gpu_descr)"
   ]
  },
  {
   "cell_type": "code",
   "execution_count": 14,
   "id": "0d04d892-e137-4d33-adf6-9dac60f69d05",
   "metadata": {},
   "outputs": [
    {
     "name": "stdout",
     "output_type": "stream",
     "text": [
      "CPU times: user 93.1 ms, sys: 0 ns, total: 93.1 ms\n",
      "Wall time: 88.8 ms\n",
      "CPU times: user 46.7 ms, sys: 5.62 ms, total: 52.3 ms\n",
      "Wall time: 255 ms\n",
      "CPU times: user 22.1 ms, sys: 17 ms, total: 39.1 ms\n",
      "Wall time: 36.7 ms\n"
     ]
    }
   ],
   "source": [
    "%time cpu_descr = cpu_df.describe()\n",
    "%time multi_cpu_descr = multi_cpu_df.describe()\n",
    "%time gpu_descr = gpu_df.describe()\n",
    "# display(cpu_descr)\n",
    "# display(gpu_descr)"
   ]
  },
  {
   "cell_type": "code",
   "execution_count": 15,
   "id": "a0a3b360-6d48-477c-a2e2-3fd8e562e78e",
   "metadata": {},
   "outputs": [
    {
     "name": "stdout",
     "output_type": "stream",
     "text": [
      "CPU times: user 55.9 ms, sys: 2.92 ms, total: 58.8 ms\n",
      "Wall time: 54.5 ms\n",
      "CPU times: user 68.2 ms, sys: 13.9 ms, total: 82.1 ms\n",
      "Wall time: 161 ms\n",
      "CPU times: user 5.69 ms, sys: 3.52 ms, total: 9.2 ms\n",
      "Wall time: 8.65 ms\n",
      "\n"
     ]
    }
   ],
   "source": [
    "%time cpu_df.groupby(\"Country\").Price.sum()\n",
    "%time multi_cpu_df.groupby(\"Country\").Price.sum()\n",
    "%time gpu_df.groupby(\"Country\").Price.sum()\n",
    "print()"
   ]
  },
  {
   "cell_type": "code",
   "execution_count": 9,
   "id": "612ecca0-3527-4241-b7bd-c2d7adbb117f",
   "metadata": {},
   "outputs": [
    {
     "name": "stdout",
     "output_type": "stream",
     "text": [
      "CPU times: user 63.6 ms, sys: 7.63 ms, total: 71.2 ms\n",
      "Wall time: 67.7 ms\n",
      "CPU times: user 86.3 ms, sys: 7.92 ms, total: 94.2 ms\n",
      "Wall time: 184 ms\n",
      "CPU times: user 6.39 ms, sys: 2.09 ms, total: 8.48 ms\n",
      "Wall time: 7.09 ms\n",
      "\n"
     ]
    }
   ],
   "source": [
    "%time cpu_df.groupby(\"Invoice\").Price.sum()\n",
    "%time multi_cpu_df.groupby(\"Invoice\").Price.sum()\n",
    "%time gpu_df.groupby(\"Invoice\").Price.sum()\n",
    "print()"
   ]
  },
  {
   "cell_type": "code",
   "execution_count": null,
   "id": "31219a94-b698-4e4a-a8ad-20e8f8f0242b",
   "metadata": {},
   "outputs": [],
   "source": []
  }
 ],
 "metadata": {
  "kernelspec": {
   "display_name": "Python 3",
   "language": "python",
   "name": "python3"
  },
  "language_info": {
   "codemirror_mode": {
    "name": "ipython",
    "version": 3
   },
   "file_extension": ".py",
   "mimetype": "text/x-python",
   "name": "python",
   "nbconvert_exporter": "python",
   "pygments_lexer": "ipython3",
   "version": "3.8.10"
  }
 },
 "nbformat": 4,
 "nbformat_minor": 5
}
