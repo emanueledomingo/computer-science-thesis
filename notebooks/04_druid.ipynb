{
 "cells": [
  {
   "cell_type": "code",
   "execution_count": 5,
   "metadata": {},
   "outputs": [],
   "source": [
    "import pandas as pd\n",
    "from pydruid.db import connect\n",
    "import json\n",
    "from time import time"
   ]
  },
  {
   "cell_type": "code",
   "execution_count": 2,
   "metadata": {},
   "outputs": [],
   "source": [
    "with open('test_result.json') as json_file:\n",
    "    test_result = json.load(json_file)"
   ]
  },
  {
   "cell_type": "code",
   "execution_count": 7,
   "metadata": {},
   "outputs": [],
   "source": [
    "con = connect(host='localhost', port=8889, path='/druid/v2/sql/', scheme='http')"
   ]
  },
  {
   "cell_type": "code",
   "execution_count": 11,
   "metadata": {},
   "outputs": [
    {
     "name": "stdout",
     "output_type": "stream",
     "text": [
      "Executing Q1\n",
      "Executing Q2\n",
      "Executing Q3\n",
      "Executing Q4\n",
      "Executing Q5\n",
      "Executing Q6\n",
      "Query SELECT CustomerID, Price*Quantity as total_price FROM online_retail WHERE Quantity > 20 ORDER BY total_price DESC not executed.\n",
      "Executing Q7\n"
     ]
    }
   ],
   "source": [
    "test_result[\"timings\"][\"druid\"] = {}\n",
    "query_index = 1\n",
    "\n",
    "for query in test_result[\"queries\"]:\n",
    "    label = f\"Q{query_index}\"\n",
    "    print(f\"Executing {label}\")\n",
    "    test_result[\"timings\"][\"druid\"][label] = []\n",
    "\n",
    "    for i in range(0, 10):\n",
    "        try:\n",
    "            start = time()\n",
    "            pd.read_sql_query(query.replace(\"InvoiceDate\", \"__time\"), con=con)\n",
    "            end = time()\n",
    "\n",
    "            total = end-start\n",
    "            test_result[\"timings\"][\"druid\"][label].append(total)\n",
    "        except:\n",
    "            test_result[\"timings\"][\"druid\"][label].append(0)\n",
    "            print(f\"Query {query} not executed.\")\n",
    "            break\n",
    "\n",
    "    query_index += 1\n",
    "\n",
    "with open('test_result.json', 'w') as outfile:\n",
    "    json.dump(test_result, outfile)"
   ]
  },
  {
   "cell_type": "code",
   "execution_count": null,
   "metadata": {},
   "outputs": [],
   "source": []
  }
 ],
 "metadata": {
  "interpreter": {
   "hash": "18f7f49abb2c137ed8fe56c6b300ca98e453bdc23055101ee93214d572b38065"
  },
  "kernelspec": {
   "display_name": "Python 3.8.10 64-bit ('druid': conda)",
   "name": "python3"
  },
  "language_info": {
   "codemirror_mode": {
    "name": "ipython",
    "version": 3
   },
   "file_extension": ".py",
   "mimetype": "text/x-python",
   "name": "python",
   "nbconvert_exporter": "python",
   "pygments_lexer": "ipython3",
   "version": "3.8.10"
  },
  "metadata": {
   "interpreter": {
    "hash": "18f7f49abb2c137ed8fe56c6b300ca98e453bdc23055101ee93214d572b38065"
   }
  },
  "orig_nbformat": 2
 },
 "nbformat": 4,
 "nbformat_minor": 2
}