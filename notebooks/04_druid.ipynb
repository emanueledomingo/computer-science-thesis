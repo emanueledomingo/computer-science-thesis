{
 "cells": [
  {
   "cell_type": "code",
   "execution_count": 17,
   "metadata": {},
   "outputs": [],
   "source": [
    "import pandas as pd\n",
    "from pydruid.db import connect"
   ]
  },
  {
   "cell_type": "code",
   "execution_count": 20,
   "metadata": {},
   "outputs": [],
   "source": [
    "con = connect(host='localhost', port=8889, path='/druid/v2/sql/', scheme='http')"
   ]
  },
  {
   "cell_type": "code",
   "execution_count": 21,
   "metadata": {},
   "outputs": [
    {
     "data": {
      "text/html": "<div>\n<style scoped>\n    .dataframe tbody tr th:only-of-type {\n        vertical-align: middle;\n    }\n\n    .dataframe tbody tr th {\n        vertical-align: top;\n    }\n\n    .dataframe thead th {\n        text-align: right;\n    }\n</style>\n<table border=\"1\" class=\"dataframe\">\n  <thead>\n    <tr style=\"text-align: right;\">\n      <th></th>\n      <th>Invoice</th>\n      <th>invoice_sum</th>\n    </tr>\n  </thead>\n  <tbody>\n    <tr>\n      <th>0</th>\n      <td>581483</td>\n      <td>168469.60</td>\n    </tr>\n    <tr>\n      <th>1</th>\n      <td>541431</td>\n      <td>77183.60</td>\n    </tr>\n    <tr>\n      <th>2</th>\n      <td>574941</td>\n      <td>52940.94</td>\n    </tr>\n    <tr>\n      <th>3</th>\n      <td>576365</td>\n      <td>50653.91</td>\n    </tr>\n    <tr>\n      <th>4</th>\n      <td>533027</td>\n      <td>49844.99</td>\n    </tr>\n    <tr>\n      <th>...</th>\n      <td>...</td>\n      <td>...</td>\n    </tr>\n    <tr>\n      <th>53623</th>\n      <td>C556445</td>\n      <td>-38970.00</td>\n    </tr>\n    <tr>\n      <th>53624</th>\n      <td>A516228</td>\n      <td>-44031.79</td>\n    </tr>\n    <tr>\n      <th>53625</th>\n      <td>A506401</td>\n      <td>-53594.36</td>\n    </tr>\n    <tr>\n      <th>53626</th>\n      <td>C541433</td>\n      <td>-77183.60</td>\n    </tr>\n    <tr>\n      <th>53627</th>\n      <td>C581484</td>\n      <td>-168469.60</td>\n    </tr>\n  </tbody>\n</table>\n<p>53628 rows × 2 columns</p>\n</div>",
      "text/plain": "       Invoice  invoice_sum\n0       581483    168469.60\n1       541431     77183.60\n2       574941     52940.94\n3       576365     50653.91\n4       533027     49844.99\n...        ...          ...\n53623  C556445    -38970.00\n53624  A516228    -44031.79\n53625  A506401    -53594.36\n53626  C541433    -77183.60\n53627  C581484   -168469.60\n\n[53628 rows x 2 columns]"
     },
     "execution_count": 21,
     "metadata": {},
     "output_type": "execute_result"
    }
   ],
   "source": [
    "pd.read_sql_query(\"SELECT Invoice, SUM(Price*Quantity) as invoice_sum FROM online_retail GROUP BY Invoice ORDER BY invoice_sum DESC\", con=con)"
   ]
  }
 ],
 "metadata": {
  "kernelspec": {
   "display_name": "Python 3.8.10 64-bit ('druid': conda)",
   "name": "python3810jvsc74a57bd018f7f49abb2c137ed8fe56c6b300ca98e453bdc23055101ee93214d572b38065"
  },
  "language_info": {
   "codemirror_mode": {
    "name": "ipython",
    "version": 3
   },
   "file_extension": ".py",
   "mimetype": "text/x-python",
   "name": "python",
   "nbconvert_exporter": "python",
   "pygments_lexer": "ipython3",
   "version": "3.8.10"
  },
  "metadata": {
   "interpreter": {
    "hash": "18f7f49abb2c137ed8fe56c6b300ca98e453bdc23055101ee93214d572b38065"
   }
  },
  "orig_nbformat": 2
 },
 "nbformat": 4,
 "nbformat_minor": 2
}