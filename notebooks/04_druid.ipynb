{
 "cells": [
  {
   "cell_type": "code",
   "execution_count": 1,
   "metadata": {},
   "outputs": [],
   "source": [
    "import pandas as pd\n",
    "from pydruid.db import connect\n",
    "import json\n",
    "from time import time"
   ]
  },
  {
   "cell_type": "code",
   "execution_count": 2,
   "metadata": {},
   "outputs": [],
   "source": [
    "with open('test_result.json') as json_file:\n",
    "    test_result = json.load(json_file)"
   ]
  },
  {
   "cell_type": "code",
   "execution_count": 3,
   "metadata": {},
   "outputs": [],
   "source": [
    "con = connect(host='localhost', port=8890, path='/druid/v2/sql/', scheme='http')"
   ]
  },
  {
   "cell_type": "code",
   "execution_count": 6,
   "metadata": {},
   "outputs": [
    {
     "name": "stdout",
     "output_type": "stream",
     "text": [
      "Executing Q1 -> SELECT Invoice, SUM(Price*Quantity) as invoice_sum FROM online_retail GROUP BY Invoice\n",
      "Executing Q2 -> SELECT CustomerID, SUM(Price*Quantity) as customer_sum FROM online_retail GROUP BY CustomerID\n",
      "Executing Q3 -> SELECT Country, SUM(Price*Quantity) as country_sum FROM online_retail GROUP BY Country\n",
      "Executing Q4 -> SELECT StockCode, COUNT(*) as n_items FROM online_retail GROUP BY StockCode ORDER BY n_items DESC\n",
      "Executing Q5 -> SELECT Invoice, SUM(Price*Quantity) as invoice_sum FROM online_retail GROUP BY Invoice ORDER BY invoice_sum DESC\n",
      "Executing Q6 -> SELECT InvoiceDate, AVG(Price*Quantity) as avg_total FROM online_retail GROUP BY InvoiceDate ORDER BY avg_total\n",
      "Executing Q7 -> SELECT Invoice, SUM(Price*Quantity) as invoice_sum FROM online_retail WHERE Country='France' GROUP BY Invoice ORDER BY invoice_sum DESC\n",
      "Executing Q8 -> SELECT CustomerID, Price*Quantity as total_price FROM online_retail WHERE Quantity > 20 ORDER BY total_price DESC\n",
      "Query SELECT CustomerID, Price*Quantity as total_price FROM online_retail WHERE Quantity > 20 ORDER BY total_price DESC not executed.\n",
      "Executing Q9 -> SELECT CustomerID, Invoice, InvoiceDate FROM online_retail WHERE Invoice LIKE 'C%'\n"
     ]
    }
   ],
   "source": [
    "test_result[\"timings\"][\"druid\"] = {}\n",
    "\n",
    "for label, query in test_result[\"queries\"].items():\n",
    "    print(f\"Executing {label} -> {query}\")\n",
    "    test_result[\"timings\"][\"druid\"][label] = []\n",
    "\n",
    "    for i in range(0, 30):\n",
    "        try:\n",
    "            start = time()\n",
    "            pd.read_sql_query(query.replace(\"InvoiceDate\", \"__time\"), con=con)\n",
    "            end = time()\n",
    "\n",
    "            total = end-start\n",
    "            test_result[\"timings\"][\"druid\"][label].append(total)\n",
    "        except:\n",
    "            test_result[\"timings\"][\"druid\"][label].append(0)\n",
    "            print(f\"Query {query} not executed.\")\n",
    "            break\n",
    "\n",
    "with open('test_result.json', 'w') as outfile:\n",
    "    json.dump(test_result, outfile, indent=2)"
   ]
  },
  {
   "cell_type": "code",
   "execution_count": null,
   "metadata": {},
   "outputs": [],
   "source": []
  }
 ],
 "metadata": {
  "interpreter": {
   "hash": "18f7f49abb2c137ed8fe56c6b300ca98e453bdc23055101ee93214d572b38065"
  },
  "kernelspec": {
   "display_name": "Python 3.8.10 64-bit ('druid': conda)",
   "name": "python3"
  },
  "language_info": {
   "codemirror_mode": {
    "name": "ipython",
    "version": 3
   },
   "file_extension": ".py",
   "mimetype": "text/x-python",
   "name": "python",
   "nbconvert_exporter": "python",
   "pygments_lexer": "ipython3",
   "version": "3.8.10"
  },
  "metadata": {
   "interpreter": {
    "hash": "18f7f49abb2c137ed8fe56c6b300ca98e453bdc23055101ee93214d572b38065"
   }
  },
  "orig_nbformat": 2
 },
 "nbformat": 4,
 "nbformat_minor": 2
}