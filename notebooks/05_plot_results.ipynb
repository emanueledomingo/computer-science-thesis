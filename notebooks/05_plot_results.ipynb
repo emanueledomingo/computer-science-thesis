{
 "cells": [
  {
   "cell_type": "code",
   "execution_count": 1,
   "id": "7c9f9480-a2c3-4329-9e7c-994e8907aaf2",
   "metadata": {},
   "outputs": [],
   "source": [
    "import matplotlib.pyplot as plt\n",
    "import seaborn as sns\n",
    "sns.set()\n",
    "import numpy as np\n",
    "import pandas as pd\n",
    "import itertools\n",
    "from statistics import mean\n",
    "import statsmodels.api as sm\n",
    "from statsmodels.formula.api import ols\n",
    "import json"
   ]
  },
  {
   "cell_type": "code",
   "execution_count": 102,
   "id": "afd31ad7-71d1-4836-a475-660c6f52d4d2",
   "metadata": {},
   "outputs": [],
   "source": [
    "with open('test_result.json') as json_file:\n",
    "    test_result = json.load(json_file)"
   ]
  },
  {
   "cell_type": "code",
   "execution_count": 65,
   "id": "b2377e4d-bbdb-427d-8c8e-428c4ca19631",
   "metadata": {},
   "outputs": [],
   "source": [
    "data_DO = pd.DataFrame(columns=['Query_ID', 'ExecutionTime', 'Context'])"
   ]
  },
  {
   "cell_type": "code",
   "execution_count": 66,
   "id": "f2c18fa9-1d8e-417e-9849-7296af5655d3",
   "metadata": {},
   "outputs": [],
   "source": [
    "for context in [\"druid\", \"omnisci\"]:\n",
    "    for query, timings in test_result[\"timings\"][context].items():\n",
    "        # print(f\"Adding {query} with values {timings}\")\n",
    "        for timing in timings:\n",
    "            # print(f\"Inserted row is: [{query}, {timing}, {context}]\")\n",
    "            data_DO = data_DO.append({'Query_ID': query, 'ExecutionTime': timing, 'Context': context}, ignore_index=True)\n",
    "        # print(\"Done\")\n",
    "        # print(data_DO)"
   ]
  },
  {
   "cell_type": "code",
   "execution_count": 67,
   "id": "4903850a-341b-4488-871c-05a873943ae1",
   "metadata": {},
   "outputs": [
    {
     "data": {
      "text/html": [
       "<div>\n",
       "<style scoped>\n",
       "    .dataframe tbody tr th:only-of-type {\n",
       "        vertical-align: middle;\n",
       "    }\n",
       "\n",
       "    .dataframe tbody tr th {\n",
       "        vertical-align: top;\n",
       "    }\n",
       "\n",
       "    .dataframe thead th {\n",
       "        text-align: right;\n",
       "    }\n",
       "</style>\n",
       "<table border=\"1\" class=\"dataframe\">\n",
       "  <thead>\n",
       "    <tr style=\"text-align: right;\">\n",
       "      <th></th>\n",
       "      <th>Query_ID</th>\n",
       "      <th>ExecutionTime</th>\n",
       "      <th>Context</th>\n",
       "    </tr>\n",
       "  </thead>\n",
       "  <tbody>\n",
       "    <tr>\n",
       "      <th>0</th>\n",
       "      <td>Q1</td>\n",
       "      <td>0.420828</td>\n",
       "      <td>druid</td>\n",
       "    </tr>\n",
       "    <tr>\n",
       "      <th>1</th>\n",
       "      <td>Q1</td>\n",
       "      <td>0.394000</td>\n",
       "      <td>druid</td>\n",
       "    </tr>\n",
       "    <tr>\n",
       "      <th>2</th>\n",
       "      <td>Q1</td>\n",
       "      <td>0.576804</td>\n",
       "      <td>druid</td>\n",
       "    </tr>\n",
       "    <tr>\n",
       "      <th>3</th>\n",
       "      <td>Q1</td>\n",
       "      <td>0.384480</td>\n",
       "      <td>druid</td>\n",
       "    </tr>\n",
       "    <tr>\n",
       "      <th>4</th>\n",
       "      <td>Q1</td>\n",
       "      <td>0.563681</td>\n",
       "      <td>druid</td>\n",
       "    </tr>\n",
       "    <tr>\n",
       "      <th>...</th>\n",
       "      <td>...</td>\n",
       "      <td>...</td>\n",
       "      <td>...</td>\n",
       "    </tr>\n",
       "    <tr>\n",
       "      <th>477</th>\n",
       "      <td>Q9</td>\n",
       "      <td>0.847989</td>\n",
       "      <td>omnisci</td>\n",
       "    </tr>\n",
       "    <tr>\n",
       "      <th>478</th>\n",
       "      <td>Q9</td>\n",
       "      <td>0.832185</td>\n",
       "      <td>omnisci</td>\n",
       "    </tr>\n",
       "    <tr>\n",
       "      <th>479</th>\n",
       "      <td>Q9</td>\n",
       "      <td>0.839815</td>\n",
       "      <td>omnisci</td>\n",
       "    </tr>\n",
       "    <tr>\n",
       "      <th>480</th>\n",
       "      <td>Q9</td>\n",
       "      <td>0.859804</td>\n",
       "      <td>omnisci</td>\n",
       "    </tr>\n",
       "    <tr>\n",
       "      <th>481</th>\n",
       "      <td>Q9</td>\n",
       "      <td>0.855518</td>\n",
       "      <td>omnisci</td>\n",
       "    </tr>\n",
       "  </tbody>\n",
       "</table>\n",
       "<p>482 rows × 3 columns</p>\n",
       "</div>"
      ],
      "text/plain": [
       "    Query_ID  ExecutionTime  Context\n",
       "0         Q1       0.420828    druid\n",
       "1         Q1       0.394000    druid\n",
       "2         Q1       0.576804    druid\n",
       "3         Q1       0.384480    druid\n",
       "4         Q1       0.563681    druid\n",
       "..       ...            ...      ...\n",
       "477       Q9       0.847989  omnisci\n",
       "478       Q9       0.832185  omnisci\n",
       "479       Q9       0.839815  omnisci\n",
       "480       Q9       0.859804  omnisci\n",
       "481       Q9       0.855518  omnisci\n",
       "\n",
       "[482 rows x 3 columns]"
      ]
     },
     "execution_count": 67,
     "metadata": {},
     "output_type": "execute_result"
    }
   ],
   "source": [
    "data_DO"
   ]
  },
  {
   "cell_type": "code",
   "execution_count": 68,
   "id": "adf7b2d1-6fc5-4854-92bd-f596bbb446f1",
   "metadata": {},
   "outputs": [],
   "source": [
    "for x, group in data_DO.groupby(\"Query_ID\"):\n",
    "    group_mean = group.query(\"Context == 'druid'\")[\"ExecutionTime\"].mean()\n",
    "    group = group.eval(\"ExecutionTimeSTD = ExecutionTime / @group_mean\")\n",
    "    data_DO.loc[group.index, \"ExecutionTimeSTD\"] = group[\"ExecutionTimeSTD\"]"
   ]
  },
  {
   "cell_type": "code",
   "execution_count": 70,
   "id": "66b5a890-33b4-458e-853f-6f4f9938285b",
   "metadata": {},
   "outputs": [
    {
     "data": {
      "image/png": "[encoded data removed]",
      "text/plain": [
       "<Figure size 432x432 with 1 Axes>"
      ]
     },
     "metadata": {},
     "output_type": "display_data"
    }
   ],
   "source": [
    "g = sns.catplot(\n",
    "    data=data_DO, kind=\"bar\",\n",
    "    x=\"Query_ID\", y=\"ExecutionTime\", hue=\"Context\",\n",
    "    ci=\"sd\", palette=\"dark\", alpha=.6, height=6, legend=False\n",
    ")\n",
    "\n",
    "g.despine(left=True)\n",
    "g.set_axis_labels(\"\", \"Execution Time\")\n",
    "plt.legend(loc='upper left')\n",
    "g.savefig(\"../plots/queries_execution.png\", dpi=100, bbox_inches='tight', pad_inches=0.1)"
   ]
  },
  {
   "cell_type": "code",
   "execution_count": 71,
   "id": "43c6cbc6-195d-471c-b35e-e4ca78691879",
   "metadata": {},
   "outputs": [
    {
     "data": {
      "image/png": "[encoded data removed]",
      "text/plain": [
       "<Figure size 432x432 with 1 Axes>"
      ]
     },
     "metadata": {},
     "output_type": "display_data"
    }
   ],
   "source": [
    "g = sns.catplot(\n",
    "    data=data_DO, kind=\"bar\",\n",
    "    x=\"Query_ID\", y=\"ExecutionTimeSTD\", hue=\"Context\",\n",
    "    ci=\"sd\", palette=\"dark\", alpha=.6, height=6, legend=False\n",
    ")\n",
    "\n",
    "g.despine(left=True)\n",
    "g.set_axis_labels(\"\", \"Execution Time Standard\")\n",
    "plt.legend(loc='upper right')\n",
    "g.savefig(\"../plots/queries_execution_standardized.png\", dpi=100, bbox_inches='tight', pad_inches=0.1)"
   ]
  },
  {
   "cell_type": "code",
   "execution_count": 108,
   "id": "19a2bcaf-3227-40f2-bf5f-6faf2c45f712",
   "metadata": {},
   "outputs": [
    {
     "data": {
      "image/png": "[encoded data removed]",
      "text/plain": [
       "<Figure size 432x288 with 1 Axes>"
      ]
     },
     "metadata": {},
     "output_type": "display_data"
    }
   ],
   "source": [
    "g = sns.violinplot(data=data_DO, x=\"Query_ID\", y=\"ExecutionTimeSTD\", hue=\"Context\",\n",
    "               split=True, inner=\"quart\", linewidth=1)\n",
    "sns.despine(left=True)\n",
    "g.set(xlabel=None)\n",
    "g.legend_.set_title(None)\n",
    "g.get_figure().savefig(\"../plots/violin_plot.png\", dpi=100, bbox_inches='tight', pad_inches=0.1)"
   ]
  },
  {
   "cell_type": "code",
   "execution_count": 103,
   "id": "1c69ba96-ed86-421d-a136-7879f8e2a100",
   "metadata": {},
   "outputs": [],
   "source": [
    "data_DP = pd.DataFrame(columns=['Query_ID', 'ExecutionTime', 'Context'])"
   ]
  },
  {
   "cell_type": "code",
   "execution_count": 104,
   "id": "9ee9964b-8893-4519-8d48-37c53d58d4d5",
   "metadata": {},
   "outputs": [
    {
     "data": {
      "text/html": [
       "<div>\n",
       "<style scoped>\n",
       "    .dataframe tbody tr th:only-of-type {\n",
       "        vertical-align: middle;\n",
       "    }\n",
       "\n",
       "    .dataframe tbody tr th {\n",
       "        vertical-align: top;\n",
       "    }\n",
       "\n",
       "    .dataframe thead th {\n",
       "        text-align: right;\n",
       "    }\n",
       "</style>\n",
       "<table border=\"1\" class=\"dataframe\">\n",
       "  <thead>\n",
       "    <tr style=\"text-align: right;\">\n",
       "      <th></th>\n",
       "      <th>Query_ID</th>\n",
       "      <th>ExecutionTime</th>\n",
       "      <th>Context</th>\n",
       "    </tr>\n",
       "  </thead>\n",
       "  <tbody>\n",
       "    <tr>\n",
       "      <th>0</th>\n",
       "      <td>Q1</td>\n",
       "      <td>0.420828</td>\n",
       "      <td>druid</td>\n",
       "    </tr>\n",
       "    <tr>\n",
       "      <th>1</th>\n",
       "      <td>Q1</td>\n",
       "      <td>0.394000</td>\n",
       "      <td>druid</td>\n",
       "    </tr>\n",
       "    <tr>\n",
       "      <th>2</th>\n",
       "      <td>Q1</td>\n",
       "      <td>0.576804</td>\n",
       "      <td>druid</td>\n",
       "    </tr>\n",
       "    <tr>\n",
       "      <th>3</th>\n",
       "      <td>Q1</td>\n",
       "      <td>0.384480</td>\n",
       "      <td>druid</td>\n",
       "    </tr>\n",
       "    <tr>\n",
       "      <th>4</th>\n",
       "      <td>Q1</td>\n",
       "      <td>0.563681</td>\n",
       "      <td>druid</td>\n",
       "    </tr>\n",
       "    <tr>\n",
       "      <th>...</th>\n",
       "      <td>...</td>\n",
       "      <td>...</td>\n",
       "      <td>...</td>\n",
       "    </tr>\n",
       "    <tr>\n",
       "      <th>175</th>\n",
       "      <td>Q3</td>\n",
       "      <td>0.007002</td>\n",
       "      <td>cudf</td>\n",
       "    </tr>\n",
       "    <tr>\n",
       "      <th>176</th>\n",
       "      <td>Q3</td>\n",
       "      <td>0.007831</td>\n",
       "      <td>cudf</td>\n",
       "    </tr>\n",
       "    <tr>\n",
       "      <th>177</th>\n",
       "      <td>Q3</td>\n",
       "      <td>0.006744</td>\n",
       "      <td>cudf</td>\n",
       "    </tr>\n",
       "    <tr>\n",
       "      <th>178</th>\n",
       "      <td>Q3</td>\n",
       "      <td>0.008370</td>\n",
       "      <td>cudf</td>\n",
       "    </tr>\n",
       "    <tr>\n",
       "      <th>179</th>\n",
       "      <td>Q3</td>\n",
       "      <td>0.010153</td>\n",
       "      <td>cudf</td>\n",
       "    </tr>\n",
       "  </tbody>\n",
       "</table>\n",
       "<p>180 rows × 3 columns</p>\n",
       "</div>"
      ],
      "text/plain": [
       "    Query_ID  ExecutionTime Context\n",
       "0         Q1       0.420828   druid\n",
       "1         Q1       0.394000   druid\n",
       "2         Q1       0.576804   druid\n",
       "3         Q1       0.384480   druid\n",
       "4         Q1       0.563681   druid\n",
       "..       ...            ...     ...\n",
       "175       Q3       0.007002    cudf\n",
       "176       Q3       0.007831    cudf\n",
       "177       Q3       0.006744    cudf\n",
       "178       Q3       0.008370    cudf\n",
       "179       Q3       0.010153    cudf\n",
       "\n",
       "[180 rows x 3 columns]"
      ]
     },
     "execution_count": 104,
     "metadata": {},
     "output_type": "execute_result"
    }
   ],
   "source": [
    "for context in [\"druid\", \"pandas\", \"cudf\"]:\n",
    "    for query in [\"Q1\",\"Q3\"]:\n",
    "        for timing in test_result[\"timings\"][context][query]:\n",
    "            data_DP = data_DP.append({'Query_ID': query, 'ExecutionTime': timing, 'Context': context}, ignore_index=True)\n",
    "data_DP"
   ]
  },
  {
   "cell_type": "code",
   "execution_count": 105,
   "id": "bd5e5856-0a1b-4127-a16c-efcb7d2d2cdf",
   "metadata": {},
   "outputs": [],
   "source": [
    "for x, group in data_DP.groupby(\"Query_ID\"):\n",
    "    group_mean = group.query(\"Context == 'pandas'\")[\"ExecutionTime\"].mean()\n",
    "    group = group.eval(\"ExecutionTimeSTD = ExecutionTime / @group_mean\")\n",
    "    data_DP.loc[group.index, \"ExecutionTimeSTD\"] = group[\"ExecutionTimeSTD\"]"
   ]
  },
  {
   "cell_type": "code",
   "execution_count": 106,
   "id": "75b83981-e536-415e-8d57-9459dbe59134",
   "metadata": {},
   "outputs": [
    {
     "data": {
      "image/png": "[encoded data removed]",
      "text/plain": [
       "<Figure size 511.85x432 with 1 Axes>"
      ]
     },
     "metadata": {},
     "output_type": "display_data"
    }
   ],
   "source": [
    "g = sns.catplot(\n",
    "    data=data_DP, kind=\"bar\",\n",
    "    x=\"Query_ID\", y=\"ExecutionTimeSTD\", hue=\"Context\",\n",
    "    ci=\"sd\", palette=\"dark\", alpha=.6, height=6\n",
    ")\n",
    "\n",
    "g.despine(left=True)\n",
    "g.set_axis_labels(\"\", \"Execution Time Standard\")\n",
    "g.legend.set_title(\"\")\n",
    "g.savefig(\"../plots/queries_execution_druid_pandas_standardized.png\", dpi=100, bbox_inches='tight', pad_inches=0.1)"
   ]
  },
  {
   "cell_type": "code",
   "execution_count": 79,
   "id": "a9e8c201-7faf-4517-93a5-f1dac33df6cb",
   "metadata": {},
   "outputs": [
    {
     "name": "stdout",
     "output_type": "stream",
     "text": [
      "\tQ1\n",
      "                   sum_sq    df           F        PR(>F)\n",
      "C(Context, Sum)  1.961241   1.0  714.855693  2.625831e-34\n",
      "Residual         0.159126  58.0         NaN           NaN\n",
      "\n",
      "\tQ2\n",
      "                   sum_sq    df           F        PR(>F)\n",
      "C(Context, Sum)  0.268404   1.0  951.463172  1.126033e-37\n",
      "Residual         0.016362  58.0         NaN           NaN\n",
      "\n",
      "\tQ3\n",
      "                   sum_sq    df            F        PR(>F)\n",
      "C(Context, Sum)  0.007933   1.0  5994.111277  3.051313e-60\n",
      "Residual         0.000077  58.0          NaN           NaN\n",
      "\n",
      "\tQ4\n",
      "                   sum_sq    df          F        PR(>F)\n",
      "C(Context, Sum)  0.024033   1.0  199.62092  1.961651e-20\n",
      "Residual         0.006983  58.0        NaN           NaN\n",
      "\n",
      "\tQ5\n",
      "                   sum_sq    df            F        PR(>F)\n",
      "C(Context, Sum)  2.020496   1.0  1516.749414  2.795801e-43\n",
      "Residual         0.077263  58.0          NaN           NaN\n",
      "\n",
      "\tQ6\n",
      "                   sum_sq    df            F        PR(>F)\n",
      "C(Context, Sum)  1.695106   1.0  1278.251301  3.283356e-41\n",
      "Residual         0.076915  58.0          NaN           NaN\n",
      "\n",
      "\tQ7\n",
      "                   sum_sq    df           F        PR(>F)\n",
      "C(Context, Sum)  0.001950   1.0  331.579086  1.159417e-25\n",
      "Residual         0.000341  58.0         NaN           NaN\n",
      "\n",
      "\tQ9\n",
      "                    sum_sq    df           F        PR(>F)\n",
      "C(Context, Sum)  58.709721   1.0  837.645148  3.629617e-36\n",
      "Residual          4.065163  58.0         NaN           NaN\n",
      "\n"
     ]
    }
   ],
   "source": [
    "for query in test_result[\"queries\"].keys():\n",
    "    if query != \"Q8\":\n",
    "    filtered_df = data_DO.query(\"Query_ID == @query\")\n",
    "    results_lm = ols('ExecutionTime ~ C(Context, Sum)', data=filtered_df).fit()\n",
    "    table = sm.stats.anova_lm(results_lm, typ=2)\n",
    "    print(f\"\\t{query}\\n{table}\\n\")"
   ]
  },
  {
   "cell_type": "code",
   "execution_count": null,
   "id": "2d21722e-7389-4bd1-9835-b429f3a5c340",
   "metadata": {},
   "outputs": [],
   "source": []
  }
 ],
 "metadata": {
  "kernelspec": {
   "display_name": "Python 3",
   "language": "python",
   "name": "python3"
  },
  "language_info": {
   "codemirror_mode": {
    "name": "ipython",
    "version": 3
   },
   "file_extension": ".py",
   "mimetype": "text/x-python",
   "name": "python",
   "nbconvert_exporter": "python",
   "pygments_lexer": "ipython3",
   "version": "3.7.10"
  }
 },
 "nbformat": 4,
 "nbformat_minor": 5
}
