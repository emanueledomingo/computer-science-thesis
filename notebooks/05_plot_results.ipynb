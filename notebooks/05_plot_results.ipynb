{
 "cells": [
  {
   "cell_type": "code",
   "execution_count": 1,
   "id": "7c9f9480-a2c3-4329-9e7c-994e8907aaf2",
   "metadata": {},
   "outputs": [],
   "source": [
    "import matplotlib.pyplot as plt\n",
    "import numpy as np\n",
    "from statistics import mean\n",
    "import json"
   ]
  },
  {
   "cell_type": "code",
   "execution_count": 2,
   "id": "afd31ad7-71d1-4836-a475-660c6f52d4d2",
   "metadata": {},
   "outputs": [],
   "source": [
    "with open('test_result.json') as json_file:\n",
    "    test_result = json.load(json_file)"
   ]
  },
  {
   "cell_type": "code",
   "execution_count": 8,
   "id": "c23df5a0-3cbb-4fd1-a68a-3d9017d71dee",
   "metadata": {},
   "outputs": [
    {
     "data": {
      "image/png": "[encoded data removed]",
      "text/plain": [
       "<Figure size 432x288 with 1 Axes>"
      ]
     },
     "metadata": {
      "needs_background": "light"
     },
     "output_type": "display_data"
    }
   ],
   "source": [
    "labels = test_result[\"queries\"].keys()\n",
    "\n",
    "x = np.arange(len(labels))  # the label locations\n",
    "width = 0.35  # the width of the bars\n",
    "\n",
    "druid_means = [mean(test_result[\"timings\"][\"druid\"][label]) for label in labels]\n",
    "omnisci_means = [mean(test_result[\"timings\"][\"omnisci\"][label]) for label in labels]\n",
    "\n",
    "\n",
    "fig, ax = plt.subplots()\n",
    "ax.bar(x - width/2, druid_means, width, label='Druid')\n",
    "ax.bar(x + width/2, omnisci_means, width, label='OmniSci')\n",
    "\n",
    "ax.set_title('Queries by time')\n",
    "ax.set_xlabel('Queries')\n",
    "ax.set_ylabel('Seconds')\n",
    "ax.set_xticks(x)\n",
    "ax.set_xticklabels(labels)\n",
    "ax.legend()\n",
    "\n",
    "plt.show()"
   ]
  },
  {
   "cell_type": "code",
   "execution_count": null,
   "id": "b2377e4d-bbdb-427d-8c8e-428c4ca19631",
   "metadata": {},
   "outputs": [],
   "source": []
  }
 ],
 "metadata": {
  "kernelspec": {
   "display_name": "Python 3",
   "language": "python",
   "name": "python3"
  },
  "language_info": {
   "codemirror_mode": {
    "name": "ipython",
    "version": 3
   },
   "file_extension": ".py",
   "mimetype": "text/x-python",
   "name": "python",
   "nbconvert_exporter": "python",
   "pygments_lexer": "ipython3",
   "version": "3.8.10"
  }
 },
 "nbformat": 4,
 "nbformat_minor": 5
}
