{
 "cells": [
  {
   "cell_type": "code",
   "execution_count": 42,
   "id": "8a10cb98-249d-45c1-9bc4-ae03c2136fad",
   "metadata": {},
   "outputs": [
    {
     "name": "stdout",
     "output_type": "stream",
     "text": [
      "3a361389908bf0f2ca7200c5ada3b47f1dba385c86e9d9d6d0d773f9eca5b78e\n"
     ]
    }
   ],
   "source": [
    "%%bash\n",
    "docker run \\\n",
    "  --rm \\\n",
    "  --name omnisci_test \\\n",
    "  --ipc=host \\\n",
    "  -d --runtime=nvidia \\\n",
    "  -v $(readlink -f ..)/data:/data \\\n",
    "  -v $(readlink -f ..)/scripts:/src \\\n",
    "  -p 6273-6280:6273-6280 \\\n",
    "  omnisci/core-os-cuda:v5.2.1"
   ]
  },
  {
   "cell_type": "code",
   "execution_count": 43,
   "id": "55362d27-cf80-4bea-a387-e5be09626382",
   "metadata": {},
   "outputs": [
    {
     "name": "stdout",
     "output_type": "stream",
     "text": [
      "User admin connected to database omnisci\n",
      "Result\n",
      "Loaded: 1067371 recs, Rejected: 0 recs in 0.440000 secs\n",
      "1 rows returned.\n",
      "Execution time: 545 ms, Total time: 546 ms\n",
      "User admin disconnected from database omnisci\n"
     ]
    }
   ],
   "source": [
    "%%bash\n",
    "docker exec omnisci_test /bin/bash -c \\\n",
    "    \"cat /src/load_dataset.sql | /omnisci/bin/omnisql -p 'HyperInteractive' -t\""
   ]
  },
  {
   "cell_type": "code",
   "execution_count": 8,
   "id": "c4676b06-185c-40b4-ac7c-caabfc8a2692",
   "metadata": {},
   "outputs": [],
   "source": [
    "%%bash\n",
    "docker exec omnisci_test /bin/bash -c \\\n",
    "    \"echo 'SELECT Invoice, SUM(Price) as price_sum FROM online_retail GROUP BY Invoice ORDER BY price_sum DESC LIMIT 10;' | /omnisci/bin/omnisql -p 'HyperInteractive' -t\""
   ]
  },
  {
   "cell_type": "code",
   "execution_count": 44,
   "id": "345ef1d9-69cd-49de-91cf-85f70403f0b9",
   "metadata": {},
   "outputs": [
    {
     "name": "stdout",
     "output_type": "stream",
     "text": [
      "User admin connected to database omnisci\n",
      "Invoice|StockCode|Description|Quantity|InvoiceDate|Price|CustomerID|Country\n",
      "490286|21706|FOLDING UMBRELLA , RED/WHITE SPOT|1|2009-12-04 12:59:00|4.95|14527|United Kingdom\n",
      "490286|85123A|WHITE HANGING HEART T-LIGHT HOLDER|6|2009-12-04 12:59:00|2.95|14527|United Kingdom\n",
      "490286|84828|JUNGLE POPSICLES ICE LOLLY HOLDERS|6|2009-12-04 12:59:00|1.25|14527|United Kingdom\n",
      "491041|90003D|CRYSTAL PAIR HEART HAIR SLIDES|1|2009-12-09 09:42:00|3.9|NULL|United Kingdom\n",
      "490353|22042|CHRISTMAS CARD SINGING ANGEL|12|2009-12-04 16:37:00|0.42|15514|United Kingdom\n",
      "490286|35004S|SET OF 3 SILVER FLYING DUCKS|1|2009-12-04 12:59:00|6.35|14527|United Kingdom\n",
      "490353|18098C|PORCELAIN BUTTERFLY OIL BURNER|2|2009-12-04 16:37:00|2.95|15514|United Kingdom\n",
      "491041|90013E|AMBER VINTAGE EARRINGS|1|2009-12-09 09:42:00|4.33|NULL|United Kingdom\n",
      "490937|22086|PAPER CHAIN KIT 50'S CHRISTMAS|24|2009-12-08 13:58:00|2.95|13081|United Kingdom\n",
      "490514|21784|SHOE SHINE BOX|1|2009-12-06 15:01:00|9.949999999999999|16773|United Kingdom\n",
      "10 rows returned.\n",
      "Execution time: 28960 ms, Total time: 28961 ms\n",
      "User admin disconnected from database omnisci\n"
     ]
    }
   ],
   "source": [
    "%%bash\n",
    "docker exec omnisci_test /bin/bash -c \\\n",
    "    \"echo 'SELECT * FROM online_retail LIMIT 10;' | /omnisci/bin/omnisql -p 'HyperInteractive' -t\""
   ]
  },
  {
   "cell_type": "code",
   "execution_count": 55,
   "id": "636d7c3a-622e-471b-b794-bd1e2585ae68",
   "metadata": {},
   "outputs": [],
   "source": [
    "from pymapd import connect\n",
    "from time import time\n",
    "import pandas as pd"
   ]
  },
  {
   "cell_type": "code",
   "execution_count": 47,
   "id": "435385ac-d9e9-47a2-865f-e31507b2b1fd",
   "metadata": {},
   "outputs": [],
   "source": [
    "con = connect(user=\"admin\", password=\"HyperInteractive\", host=\"localhost\", dbname=\"omnisci\")"
   ]
  },
  {
   "cell_type": "code",
   "execution_count": 38,
   "id": "76715312-4614-46b3-b0c6-eda3af984900",
   "metadata": {},
   "outputs": [
    {
     "name": "stdout",
     "output_type": "stream",
     "text": [
      "0.24244356155395508\n"
     ]
    }
   ],
   "source": [
    "start = time()\n",
    "df = con.select_ipc_gpu(\"SELECT Invoice, SUM(Price) as price_sum FROM online_retail GROUP BY Invoice ORDER BY price_sum DESC LIMIT 10;\") #<. un po' più veloce ma usa ipc\n",
    "end = time()\n",
    "\n",
    "print(end-start)"
   ]
  },
  {
   "cell_type": "code",
   "execution_count": 52,
   "id": "59599e1a-a2d6-4aa2-ab4d-d7b44ecb8e9a",
   "metadata": {},
   "outputs": [
    {
     "name": "stdout",
     "output_type": "stream",
     "text": [
      "0.03366565704345703\n"
     ]
    }
   ],
   "source": [
    "start = time()\n",
    "df = con.execute(\"SELECT Invoice, SUM(Price) as price_sum FROM online_retail GROUP BY Invoice ORDER BY price_sum DESC LIMIT 10;\")\n",
    "end = time()\n",
    "\n",
    "print(end-start)"
   ]
  },
  {
   "cell_type": "code",
   "execution_count": 56,
   "id": "4525e662-6e48-430e-a71e-e708c66e9fee",
   "metadata": {},
   "outputs": [
    {
     "data": {
      "text/html": [
       "<div>\n",
       "<style scoped>\n",
       "    .dataframe tbody tr th:only-of-type {\n",
       "        vertical-align: middle;\n",
       "    }\n",
       "\n",
       "    .dataframe tbody tr th {\n",
       "        vertical-align: top;\n",
       "    }\n",
       "\n",
       "    .dataframe thead th {\n",
       "        text-align: right;\n",
       "    }\n",
       "</style>\n",
       "<table border=\"1\" class=\"dataframe\">\n",
       "  <thead>\n",
       "    <tr style=\"text-align: right;\">\n",
       "      <th></th>\n",
       "      <th>Invoice</th>\n",
       "      <th>price_sum</th>\n",
       "    </tr>\n",
       "  </thead>\n",
       "  <tbody>\n",
       "    <tr>\n",
       "      <th>0</th>\n",
       "      <td>C556445</td>\n",
       "      <td>38970.00</td>\n",
       "    </tr>\n",
       "    <tr>\n",
       "      <th>1</th>\n",
       "      <td>C537651</td>\n",
       "      <td>27082.66</td>\n",
       "    </tr>\n",
       "    <tr>\n",
       "      <th>2</th>\n",
       "      <td>537632</td>\n",
       "      <td>27082.66</td>\n",
       "    </tr>\n",
       "    <tr>\n",
       "      <th>3</th>\n",
       "      <td>C537630</td>\n",
       "      <td>27082.66</td>\n",
       "    </tr>\n",
       "    <tr>\n",
       "      <th>4</th>\n",
       "      <td>C537644</td>\n",
       "      <td>26949.58</td>\n",
       "    </tr>\n",
       "    <tr>\n",
       "      <th>5</th>\n",
       "      <td>512771</td>\n",
       "      <td>25111.09</td>\n",
       "    </tr>\n",
       "    <tr>\n",
       "      <th>6</th>\n",
       "      <td>C512770</td>\n",
       "      <td>25111.09</td>\n",
       "    </tr>\n",
       "    <tr>\n",
       "      <th>7</th>\n",
       "      <td>C520667</td>\n",
       "      <td>18910.69</td>\n",
       "    </tr>\n",
       "    <tr>\n",
       "      <th>8</th>\n",
       "      <td>C580605</td>\n",
       "      <td>17836.46</td>\n",
       "    </tr>\n",
       "    <tr>\n",
       "      <th>9</th>\n",
       "      <td>C540117</td>\n",
       "      <td>16888.02</td>\n",
       "    </tr>\n",
       "  </tbody>\n",
       "</table>\n",
       "</div>"
      ],
      "text/plain": [
       "   Invoice  price_sum\n",
       "0  C556445   38970.00\n",
       "1  C537651   27082.66\n",
       "2   537632   27082.66\n",
       "3  C537630   27082.66\n",
       "4  C537644   26949.58\n",
       "5   512771   25111.09\n",
       "6  C512770   25111.09\n",
       "7  C520667   18910.69\n",
       "8  C580605   17836.46\n",
       "9  C540117   16888.02"
      ]
     },
     "execution_count": 56,
     "metadata": {},
     "output_type": "execute_result"
    }
   ],
   "source": [
    "pd.read_sql_query(\"SELECT Invoice, SUM(Price) as price_sum FROM online_retail GROUP BY Invoice ORDER BY price_sum DESC LIMIT 10;\", con=con)"
   ]
  },
  {
   "cell_type": "code",
   "execution_count": 57,
   "id": "d45bd275-d27c-4c91-a364-8e49cbf1f606",
   "metadata": {},
   "outputs": [
    {
     "name": "stdout",
     "output_type": "stream",
     "text": [
      "omnisci_test\n"
     ]
    }
   ],
   "source": [
    "%%bash\n",
    "docker stop omnisci_test"
   ]
  },
  {
   "cell_type": "code",
   "execution_count": null,
   "id": "c090a0f0-92f2-45a8-9e15-8624b78a63cd",
   "metadata": {},
   "outputs": [],
   "source": []
  }
 ],
 "metadata": {
  "kernelspec": {
   "display_name": "Python 3",
   "language": "python",
   "name": "python3"
  },
  "language_info": {
   "codemirror_mode": {
    "name": "ipython",
    "version": 3
   },
   "file_extension": ".py",
   "mimetype": "text/x-python",
   "name": "python",
   "nbconvert_exporter": "python",
   "pygments_lexer": "ipython3",
   "version": "3.8.10"
  }
 },
 "nbformat": 4,
 "nbformat_minor": 5
}
