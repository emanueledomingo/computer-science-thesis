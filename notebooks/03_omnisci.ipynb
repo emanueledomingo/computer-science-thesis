{
 "cells": [
  {
   "cell_type": "code",
   "execution_count": 1,
   "id": "8a10cb98-249d-45c1-9bc4-ae03c2136fad",
   "metadata": {},
   "outputs": [
    {
     "name": "stdout",
     "output_type": "stream",
     "text": [
      "64abb6ded633700a851752ad6e1a045fb35ffda1ba7b505a91e0b86ea315d24c\n"
     ]
    }
   ],
   "source": [
    "%%bash\n",
    "docker run \\\n",
    "  --rm \\\n",
    "  --name omnisci_test \\\n",
    "  --ipc=host \\\n",
    "  -d --runtime=nvidia \\\n",
    "  -v $(readlink -f ..)/data:/data \\\n",
    "  -v $(readlink -f ..)/scripts:/src \\\n",
    "  -p 6273-6280:6273-6280 \\\n",
    "  omnisci/core-os-cuda:v5.2.1"
   ]
  },
  {
   "cell_type": "code",
   "execution_count": 2,
   "id": "55362d27-cf80-4bea-a387-e5be09626382",
   "metadata": {},
   "outputs": [
    {
     "name": "stdout",
     "output_type": "stream",
     "text": [
      "User admin connected to database omnisci\n",
      "Result\n",
      "Loaded: 1067371 recs, Rejected: 0 recs in 0.331000 secs\n",
      "1 rows returned.\n",
      "Execution time: 422 ms, Total time: 423 ms\n",
      "User admin disconnected from database omnisci\n"
     ]
    }
   ],
   "source": [
    "%%bash\n",
    "docker exec omnisci_test /bin/bash -c \\\n",
    "    \"cat /src/load_dataset.sql | /omnisci/bin/omnisql -p 'HyperInteractive' -t\""
   ]
  },
  {
   "cell_type": "code",
   "execution_count": 3,
   "id": "345ef1d9-69cd-49de-91cf-85f70403f0b9",
   "metadata": {},
   "outputs": [
    {
     "name": "stdout",
     "output_type": "stream",
     "text": [
      "User admin connected to database omnisci\n",
      "Invoice|StockCode|Description|Quantity|InvoiceDate|Price|CustomerID|Country\n",
      "489612|22086|PAPER CHAIN KIT 50'S CHRISTMAS|6|2009-12-01 14:55:00|6.04|NULL|United Kingdom\n",
      "489612|22136|LOVE HEART SOCK HANGER|1|2009-12-01 14:55:00|3.43|NULL|United Kingdom\n",
      "491634|21017|RED BIRD HOUSE TREE DECORATION|2|2009-12-11 15:40:00|0.85|17841.0|United Kingdom\n",
      "489612|22144|CHRISTMAS CRAFT LITTLE FRIENDS|2|2009-12-01 14:55:00|4.3|NULL|United Kingdom\n",
      "490741|21872|GLAMOROUS  MUG|1|2009-12-07 17:56:00|3.43|NULL|United Kingdom\n",
      "491966|22285|DECORATION HEN ON NEST, HANGING|1|2009-12-14 17:16:00|3.43|NULL|United Kingdom\n",
      "491634|20831|GOLD PHOTO FRAME|1|2009-12-11 15:40:00|2.1|17841.0|United Kingdom\n",
      "491691|21819|GLITTER CHRISTMAS STAR|10|2009-12-13 13:17:00|0.85|17211.0|United Kingdom\n",
      "490209|22200|FRYING PAN PINK POLKADOT|72|2009-12-04 12:06:00|4.25|17389.0|United Kingdom\n",
      "489612|22174|PHOTO CUBE|1|2009-12-01 14:55:00|3.43|NULL|United Kingdom\n",
      "10 rows returned.\n",
      "Execution time: 21603 ms, Total time: 21604 ms\n",
      "User admin disconnected from database omnisci\n"
     ]
    }
   ],
   "source": [
    "%%bash\n",
    "docker exec omnisci_test /bin/bash -c \\\n",
    "    \"echo 'SELECT * FROM online_retail LIMIT 10;' | /omnisci/bin/omnisql -p 'HyperInteractive' -t\""
   ]
  },
  {
   "cell_type": "code",
   "execution_count": 4,
   "id": "636d7c3a-622e-471b-b794-bd1e2585ae68",
   "metadata": {},
   "outputs": [],
   "source": [
    "from pymapd import connect\n",
    "from time import time\n",
    "import pandas as pd\n",
    "import numpy as np\n",
    "import json"
   ]
  },
  {
   "cell_type": "code",
   "execution_count": 5,
   "id": "388fed36-e111-4cb0-acaa-735c9ecf93ae",
   "metadata": {},
   "outputs": [],
   "source": [
    "with open('test_result.json') as json_file:\n",
    "    test_result = json.load(json_file)"
   ]
  },
  {
   "cell_type": "code",
   "execution_count": 6,
   "id": "435385ac-d9e9-47a2-865f-e31507b2b1fd",
   "metadata": {},
   "outputs": [],
   "source": [
    "con = connect(user=\"admin\", password=\"HyperInteractive\", host=\"localhost\", dbname=\"omnisci\")"
   ]
  },
  {
   "cell_type": "code",
   "execution_count": 7,
   "id": "a9e9d946-629a-47a9-b2e2-4de85c14561d",
   "metadata": {},
   "outputs": [
    {
     "name": "stdout",
     "output_type": "stream",
     "text": [
      "Executing Q1 -> SELECT Invoice, SUM(Price*Quantity) as invoice_sum FROM online_retail GROUP BY Invoice\n",
      "Executing Q2 -> SELECT CustomerID, SUM(Price*Quantity) as customer_sum FROM online_retail GROUP BY CustomerID\n",
      "Executing Q3 -> SELECT Country, SUM(Price*Quantity) as country_sum FROM online_retail GROUP BY Country\n",
      "Executing Q4 -> SELECT StockCode, COUNT(*) as n_items FROM online_retail GROUP BY StockCode ORDER BY n_items DESC\n",
      "Executing Q5 -> SELECT Invoice, SUM(Price*Quantity) as invoice_sum FROM online_retail GROUP BY Invoice ORDER BY invoice_sum DESC\n",
      "Executing Q6 -> SELECT InvoiceDate, AVG(Price*Quantity) as avg_total FROM online_retail GROUP BY InvoiceDate ORDER BY avg_total\n",
      "Executing Q7 -> SELECT Invoice, SUM(Price*Quantity) as invoice_sum FROM online_retail WHERE Country='France' GROUP BY Invoice ORDER BY invoice_sum DESC\n",
      "Executing Q8 -> SELECT CustomerID, Price*Quantity as total_price FROM online_retail WHERE Quantity > 20 ORDER BY total_price DESC\n",
      "Executing Q9 -> SELECT CustomerID, Invoice, InvoiceDate FROM online_retail WHERE Invoice LIKE 'C%'\n"
     ]
    }
   ],
   "source": [
    "test_result[\"timings\"][\"omnisci\"] = {}\n",
    "\n",
    "for label, query in test_result[\"queries\"].items():\n",
    "    print(f\"Executing {label} -> {query}\")\n",
    "    test_result[\"timings\"][\"omnisci\"][label] = []\n",
    "    for i in range(0, 30):\n",
    "        start = time()\n",
    "        pd.read_sql_query(query, con=con)  # <-un po' più veloce ma usa ipc (arrow)\n",
    "        # df = con.select_ipc_gpu(query)  # <-analogo\n",
    "        # result = list(con.execute(query))  #NO IPC\n",
    "        end = time()\n",
    "\n",
    "        total = end-start\n",
    "        test_result[\"timings\"][\"omnisci\"][label].append(total)\n",
    "\n",
    "with open('test_result.json', 'w') as outfile:\n",
    "    json.dump(test_result, outfile, indent=2)"
   ]
  },
  {
   "cell_type": "markdown",
   "id": "fc7f3a73-1f15-4a46-be6f-630ba8917585",
   "metadata": {},
   "source": [
    "## Join tests"
   ]
  },
  {
   "cell_type": "code",
   "execution_count": 10,
   "id": "c090a0f0-92f2-45a8-9e15-8624b78a63cd",
   "metadata": {},
   "outputs": [
    {
     "name": "stdout",
     "output_type": "stream",
     "text": [
      "1.6789634227752686\n"
     ]
    }
   ],
   "source": [
    "# query = \"SELECT Invoice, stock_codes.Price FROM online_retail JOIN stock_codes ON online_retail.StockCode = stock_codes.StockCode\"\n",
    "\n",
    "# start = time()\n",
    "# pd.read_sql_query(query, con=con)\n",
    "# end = time()\n",
    "\n",
    "# total = end-start\n",
    "# print(total)"
   ]
  },
  {
   "cell_type": "code",
   "execution_count": 11,
   "id": "a12544ef-ff40-479d-a524-5bba17f6ce7b",
   "metadata": {},
   "outputs": [
    {
     "name": "stdout",
     "output_type": "stream",
     "text": [
      "1.4988090991973877\n"
     ]
    }
   ],
   "source": [
    "# query = \"SELECT Invoice, Price FROM online_retail\"\n",
    "\n",
    "# start = time()\n",
    "# pd.read_sql_query(query, con=con)\n",
    "# end = time()\n",
    "\n",
    "# total = end-start\n",
    "# print(total)"
   ]
  },
  {
   "cell_type": "code",
   "execution_count": 8,
   "id": "d45bd275-d27c-4c91-a364-8e49cbf1f606",
   "metadata": {},
   "outputs": [
    {
     "name": "stdout",
     "output_type": "stream",
     "text": [
      "omnisci_test\n"
     ]
    }
   ],
   "source": [
    "%%bash\n",
    "docker stop omnisci_test"
   ]
  },
  {
   "cell_type": "code",
   "execution_count": null,
   "id": "0f145651-09ea-4d9c-9ec4-f74f1021077e",
   "metadata": {},
   "outputs": [],
   "source": []
  }
 ],
 "metadata": {
  "kernelspec": {
   "display_name": "Python 3",
   "language": "python",
   "name": "python3"
  },
  "language_info": {
   "codemirror_mode": {
    "name": "ipython",
    "version": 3
   },
   "file_extension": ".py",
   "mimetype": "text/x-python",
   "name": "python",
   "nbconvert_exporter": "python",
   "pygments_lexer": "ipython3",
   "version": "3.7.10"
  }
 },
 "nbformat": 4,
 "nbformat_minor": 5
}
