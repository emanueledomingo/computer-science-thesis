{
 "cells": [
  {
   "cell_type": "code",
   "execution_count": 2,
   "id": "8a10cb98-249d-45c1-9bc4-ae03c2136fad",
   "metadata": {},
   "outputs": [
    {
     "name": "stdout",
     "output_type": "stream",
     "text": [
      "9644dfaa52636635103cfd3cac970beafc9b5e8bbced932663e4d0712bb83423\n"
     ]
    }
   ],
   "source": [
    "%%bash\n",
    "docker run \\\n",
    "  --rm \\\n",
    "  --name omnisci_test \\\n",
    "  --ipc=host \\\n",
    "  -d --runtime=nvidia \\\n",
    "  -v $(readlink -f ..)/data:/data \\\n",
    "  -v $(readlink -f ..)/scripts:/src \\\n",
    "  -p 6273-6280:6273-6280 \\\n",
    "  omnisci/core-os-cuda:v5.2.1"
   ]
  },
  {
   "cell_type": "code",
   "execution_count": 6,
   "id": "55362d27-cf80-4bea-a387-e5be09626382",
   "metadata": {},
   "outputs": [
    {
     "name": "stdout",
     "output_type": "stream",
     "text": [
      "User admin connected to database omnisci\n",
      "Result\n",
      "Loaded: 1067371 recs, Rejected: 0 recs in 0.398000 secs\n",
      "1 rows returned.\n",
      "Execution time: 460 ms, Total time: 461 ms\n",
      "User admin disconnected from database omnisci\n"
     ]
    }
   ],
   "source": [
    "%%bash\n",
    "docker exec omnisci_test /bin/bash -c \\\n",
    "    \"cat /src/load_dataset.sql | /omnisci/bin/omnisql -p 'HyperInteractive' -t\""
   ]
  },
  {
   "cell_type": "code",
   "execution_count": 8,
   "id": "c4676b06-185c-40b4-ac7c-caabfc8a2692",
   "metadata": {},
   "outputs": [],
   "source": [
    "%%bash\n",
    "docker exec omnisci_test /bin/bash -c \\\n",
    "    \"echo 'SELECT Invoice, SUM(Price) as price_sum FROM online_retail GROUP BY Invoice ORDER BY price_sum DESC LIMIT 10;' | /omnisci/bin/omnisql -p 'HyperInteractive' -t\""
   ]
  },
  {
   "cell_type": "code",
   "execution_count": 44,
   "id": "345ef1d9-69cd-49de-91cf-85f70403f0b9",
   "metadata": {},
   "outputs": [
    {
     "name": "stdout",
     "output_type": "stream",
     "text": [
      "User admin connected to database omnisci\n",
      "Invoice|StockCode|Description|Quantity|InvoiceDate|Price|CustomerID|Country\n",
      "490286|21706|FOLDING UMBRELLA , RED/WHITE SPOT|1|2009-12-04 12:59:00|4.95|14527|United Kingdom\n",
      "490286|85123A|WHITE HANGING HEART T-LIGHT HOLDER|6|2009-12-04 12:59:00|2.95|14527|United Kingdom\n",
      "490286|84828|JUNGLE POPSICLES ICE LOLLY HOLDERS|6|2009-12-04 12:59:00|1.25|14527|United Kingdom\n",
      "491041|90003D|CRYSTAL PAIR HEART HAIR SLIDES|1|2009-12-09 09:42:00|3.9|NULL|United Kingdom\n",
      "490353|22042|CHRISTMAS CARD SINGING ANGEL|12|2009-12-04 16:37:00|0.42|15514|United Kingdom\n",
      "490286|35004S|SET OF 3 SILVER FLYING DUCKS|1|2009-12-04 12:59:00|6.35|14527|United Kingdom\n",
      "490353|18098C|PORCELAIN BUTTERFLY OIL BURNER|2|2009-12-04 16:37:00|2.95|15514|United Kingdom\n",
      "491041|90013E|AMBER VINTAGE EARRINGS|1|2009-12-09 09:42:00|4.33|NULL|United Kingdom\n",
      "490937|22086|PAPER CHAIN KIT 50'S CHRISTMAS|24|2009-12-08 13:58:00|2.95|13081|United Kingdom\n",
      "490514|21784|SHOE SHINE BOX|1|2009-12-06 15:01:00|9.949999999999999|16773|United Kingdom\n",
      "10 rows returned.\n",
      "Execution time: 28960 ms, Total time: 28961 ms\n",
      "User admin disconnected from database omnisci\n"
     ]
    }
   ],
   "source": [
    "%%bash\n",
    "docker exec omnisci_test /bin/bash -c \\\n",
    "    \"echo 'SELECT * FROM online_retail LIMIT 10;' | /omnisci/bin/omnisql -p 'HyperInteractive' -t\""
   ]
  },
  {
   "cell_type": "code",
   "execution_count": 1,
   "id": "636d7c3a-622e-471b-b794-bd1e2585ae68",
   "metadata": {},
   "outputs": [],
   "source": [
    "from pymapd import connect\n",
    "from time import time\n",
    "import pandas as pd"
   ]
  },
  {
   "cell_type": "code",
   "execution_count": 2,
   "id": "435385ac-d9e9-47a2-865f-e31507b2b1fd",
   "metadata": {},
   "outputs": [],
   "source": [
    "con = connect(user=\"admin\", password=\"HyperInteractive\", host=\"localhost\", dbname=\"omnisci\")"
   ]
  },
  {
   "cell_type": "code",
   "execution_count": 38,
   "id": "76715312-4614-46b3-b0c6-eda3af984900",
   "metadata": {},
   "outputs": [
    {
     "name": "stdout",
     "output_type": "stream",
     "text": [
      "0.24244356155395508\n"
     ]
    }
   ],
   "source": [
    "start = time()\n",
    "df = con.select_ipc_gpu(\"SELECT Invoice, SUM(Price) as price_sum FROM online_retail GROUP BY Invoice ORDER BY price_sum DESC LIMIT 10;\") #<. un po' più veloce ma usa ipc\n",
    "end = time()\n",
    "\n",
    "print(end-start)"
   ]
  },
  {
   "cell_type": "code",
   "execution_count": 10,
   "id": "59599e1a-a2d6-4aa2-ab4d-d7b44ecb8e9a",
   "metadata": {},
   "outputs": [
    {
     "name": "stdout",
     "output_type": "stream",
     "text": [
      "0.038672685623168945\n"
     ]
    }
   ],
   "source": [
    "start = time()\n",
    "df = con.execute(\"SELECT Invoice, SUM(Price) as price_sum FROM online_retail GROUP BY Invoice ORDER BY price_sum DESC LIMIT 10;\")\n",
    "end = time()\n",
    "\n",
    "print(end-start)"
   ]
  },
  {
   "cell_type": "code",
   "execution_count": 3,
   "id": "4525e662-6e48-430e-a71e-e708c66e9fee",
   "metadata": {},
   "outputs": [
    {
     "name": "stdout",
     "output_type": "stream",
     "text": [
      "0.04732990264892578\n"
     ]
    }
   ],
   "source": [
    "start = time()\n",
    "pd.read_sql_query(\"SELECT Invoice, SUM(Price) as price_sum FROM online_retail GROUP BY Invoice ORDER BY price_sum DESC LIMIT 10;\", con=con)\n",
    "end = time()\n",
    "\n",
    "print(end-start)"
   ]
  },
  {
   "cell_type": "code",
   "execution_count": 57,
   "id": "d45bd275-d27c-4c91-a364-8e49cbf1f606",
   "metadata": {},
   "outputs": [
    {
     "name": "stdout",
     "output_type": "stream",
     "text": [
      "omnisci_test\n"
     ]
    }
   ],
   "source": [
    "%%bash\n",
    "docker stop omnisci_test"
   ]
  },
  {
   "cell_type": "code",
   "execution_count": null,
   "id": "c090a0f0-92f2-45a8-9e15-8624b78a63cd",
   "metadata": {},
   "outputs": [],
   "source": []
  }
 ],
 "metadata": {
  "kernelspec": {
   "display_name": "Python 3",
   "language": "python",
   "name": "python3"
  },
  "language_info": {
   "codemirror_mode": {
    "name": "ipython",
    "version": 3
   },
   "file_extension": ".py",
   "mimetype": "text/x-python",
   "name": "python",
   "nbconvert_exporter": "python",
   "pygments_lexer": "ipython3",
   "version": "3.8.10"
  }
 },
 "nbformat": 4,
 "nbformat_minor": 5
}
