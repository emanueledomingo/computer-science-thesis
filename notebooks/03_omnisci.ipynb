{
 "cells": [
  {
   "cell_type": "code",
   "execution_count": 4,
   "id": "8a10cb98-249d-45c1-9bc4-ae03c2136fad",
   "metadata": {},
   "outputs": [
    {
     "name": "stdout",
     "output_type": "stream",
     "text": [
      "f8e5ac0b806f7557148c476698900f9cde8103e593f316ba9d1fe34e0f9d7fdf\n"
     ]
    }
   ],
   "source": [
    "%%bash\n",
    "docker run \\\n",
    "  --rm \\\n",
    "  --name omnisci_test \\\n",
    "  --ipc=host \\\n",
    "  -d --runtime=nvidia \\\n",
    "  -v $(readlink -f ..)/data:/data \\\n",
    "  -v $(readlink -f ..)/scripts:/src \\\n",
    "  -p 6273-6280:6273-6280 \\\n",
    "  omnisci/core-os-cuda:v5.2.1"
   ]
  },
  {
   "cell_type": "code",
   "execution_count": 5,
   "id": "55362d27-cf80-4bea-a387-e5be09626382",
   "metadata": {},
   "outputs": [
    {
     "name": "stdout",
     "output_type": "stream",
     "text": [
      "User admin connected to database omnisci\n",
      "Result\n",
      "Loaded: 1067371 recs, Rejected: 0 recs in 0.362000 secs\n",
      "1 rows returned.\n",
      "Execution time: 445 ms, Total time: 445 ms\n",
      "User admin disconnected from database omnisci\n"
     ]
    }
   ],
   "source": [
    "%%bash\n",
    "docker exec omnisci_test /bin/bash -c \\\n",
    "    \"cat /src/load_dataset.sql | /omnisci/bin/omnisql -p 'HyperInteractive' -t\""
   ]
  },
  {
   "cell_type": "code",
   "execution_count": 6,
   "id": "345ef1d9-69cd-49de-91cf-85f70403f0b9",
   "metadata": {},
   "outputs": [
    {
     "name": "stdout",
     "output_type": "stream",
     "text": [
      "User admin connected to database omnisci\n",
      "Invoice|StockCode|Description|Quantity|InvoiceDate|Price|CustomerID|Country\n",
      "491675|21484|CHICK GREY HOT WATER BOTTLE|1|2009-12-13 12:04:00|3.45|16710|United Kingdom\n",
      "490899|21774|DECORATIVE CATS BATHROOM BOTTLE|12|2009-12-08 13:04:00|1.25|16732|United Kingdom\n",
      "491675|22113|GREY HEART HOT WATER BOTTLE|1|2009-12-13 12:04:00|3.45|16710|United Kingdom\n",
      "490899|21773|DECORATIVE ROSE BATHROOM BOTTLE|12|2009-12-08 13:04:00|1.25|16732|United Kingdom\n",
      "491675|21479|WHITE SKULL HOT WATER BOTTLE|1|2009-12-13 12:04:00|3.75|16710|United Kingdom\n",
      "490741|21872|GLAMOROUS  MUG|1|2009-12-07 17:56:00|3.43|NULL|United Kingdom\n",
      "490899|72008|FROSTED BOX 9 WHITE T-LIGHT CANDLES|12|2009-12-08 13:04:00|0.42|16732|United Kingdom\n",
      "491662|84406B|CREAM CUPID HEARTS COAT HANGER|1|2009-12-13 11:16:00|3.25|15169|United Kingdom\n",
      "491675|21481|FAWN BLUE HOT WATER BOTTLE|2|2009-12-13 12:04:00|2.95|16710|United Kingdom\n",
      "490741|21874|GIN AND TONIC MUG|3|2009-12-07 17:56:00|3.43|NULL|United Kingdom\n",
      "10 rows returned.\n",
      "Execution time: 22438 ms, Total time: 22438 ms\n",
      "User admin disconnected from database omnisci\n"
     ]
    }
   ],
   "source": [
    "%%bash\n",
    "docker exec omnisci_test /bin/bash -c \\\n",
    "    \"echo 'SELECT * FROM online_retail LIMIT 10;' | /omnisci/bin/omnisql -p 'HyperInteractive' -t\""
   ]
  },
  {
   "cell_type": "code",
   "execution_count": 16,
   "id": "636d7c3a-622e-471b-b794-bd1e2585ae68",
   "metadata": {},
   "outputs": [],
   "source": [
    "from pymapd import connect\n",
    "from time import time\n",
    "import pandas as pd\n",
    "import numpy as np\n",
    "import matplotlib.pyplot as plt"
   ]
  },
  {
   "cell_type": "code",
   "execution_count": 11,
   "id": "388fed36-e111-4cb0-acaa-735c9ecf93ae",
   "metadata": {},
   "outputs": [],
   "source": [
    "queries = [\n",
    "    \"SELECT Invoice, SUM(Price*Quantity) as invoice_sum FROM online_retail GROUP BY Invoice ORDER BY invoice_sum DESC\", #druid 2.77s\n",
    "    \"SELECT Country, SUM(Price*Quantity) as country_sum FROM online_retail GROUP BY Country ORDER BY country_sum DESC\", #druid 1.39s\n",
    "    \"SELECT StockCode, COUNT(*) as n_items FROM online_retail GROUP BY StockCode\", #druid 13.94s\n",
    "    \"SELECT CustomerID, SUM(Price*Quantity) as customer_sum FROM online_retail GROUP BY CustomerID ORDER BY customer_sum DESC\", #druid 2.55s\n",
    "    \"SELECT InvoiceDate, SUM(Price*Quantity) as price_sum FROM online_retail GROUP BY InvoiceDate  ORDER BY price_sum\", #druid 2.81s\n",
    "    \"SELECT CustomerID, Price*Quantity as total_price FROM online_retail WHERE Quantity > 20 ORDER BY total_price DESC\", #druid X\n",
    "    \"SELECT InvoiceDate, AVG(Price*Quantity) as avg_total FROM online_retail GROUP BY InvoiceDate\", #druid 7.66s\n",
    "]\n",
    "\n",
    "execution_timings = {\n",
    "    \"druid\": [2.77, 1.39, 13.94, 2.55, 2.81, 0, 7.66],\n",
    "    \"omnisci\": []\n",
    "}"
   ]
  },
  {
   "cell_type": "code",
   "execution_count": 9,
   "id": "435385ac-d9e9-47a2-865f-e31507b2b1fd",
   "metadata": {},
   "outputs": [],
   "source": [
    "con = connect(user=\"admin\", password=\"HyperInteractive\", host=\"localhost\", dbname=\"omnisci\")"
   ]
  },
  {
   "cell_type": "code",
   "execution_count": 12,
   "id": "a9e9d946-629a-47a9-b2e2-4de85c14561d",
   "metadata": {},
   "outputs": [
    {
     "name": "stdout",
     "output_type": "stream",
     "text": [
      "QUERY:\n",
      "SELECT Invoice, SUM(Price*Quantity) as invoice_sum FROM online_retail GROUP BY Invoice ORDER BY invoice_sum DESC\n",
      "tooks: 0.17s\n",
      "\n",
      "QUERY:\n",
      "SELECT Country, SUM(Price*Quantity) as country_sum FROM online_retail GROUP BY Country ORDER BY country_sum DESC\n",
      "tooks: 0.02s\n",
      "\n",
      "QUERY:\n",
      "SELECT StockCode, COUNT(*) as n_items FROM online_retail GROUP BY StockCode\n",
      "tooks: 0.02s\n",
      "\n",
      "QUERY:\n",
      "SELECT CustomerID, SUM(Price*Quantity) as customer_sum FROM online_retail GROUP BY CustomerID ORDER BY customer_sum DESC\n",
      "tooks: 0.78s\n",
      "\n",
      "QUERY:\n",
      "SELECT InvoiceDate, SUM(Price*Quantity) as price_sum FROM online_retail GROUP BY InvoiceDate  ORDER BY price_sum\n",
      "tooks: 0.14s\n",
      "\n",
      "QUERY:\n",
      "SELECT CustomerID, Price*Quantity as total_price FROM online_retail WHERE Quantity > 20 ORDER BY total_price DESC\n",
      "tooks: 0.22s\n",
      "\n",
      "QUERY:\n",
      "SELECT InvoiceDate, AVG(Price*Quantity) as avg_total FROM online_retail GROUP BY InvoiceDate\n",
      "tooks: 0.10s\n",
      "\n"
     ]
    }
   ],
   "source": [
    "for query in queries:\n",
    "    start = time()\n",
    "    pd.read_sql_query(query, con=con)  # <-un po' più veloce ma usa ipc (arrow)\n",
    "    # df = con.select_ipc_gpu(query)  # <-analogo\n",
    "    # result = list(con.execute(query))  #NO IPC\n",
    "    end = time()\n",
    "\n",
    "    total = end-start\n",
    "    execution_timings[\"omnisci\"].append(total)\n",
    "    print(\"QUERY:\\n{}\\ntooks: {:.2f}s\\n\".format(query, total))"
   ]
  },
  {
   "cell_type": "code",
   "execution_count": 30,
   "id": "76dbe396-74c3-461b-ba5b-2f6ca620b7c4",
   "metadata": {},
   "outputs": [
    {
     "data": {
      "image/png": "[encoded data removed]",
      "text/plain": [
       "<Figure size 432x288 with 1 Axes>"
      ]
     },
     "metadata": {
      "needs_background": "light"
     },
     "output_type": "display_data"
    }
   ],
   "source": [
    "execution_timings\n",
    "\n",
    "labels = ['Q1', 'Q2', 'Q3', 'Q4', 'Q5', 'Q6', 'Q7', ]\n",
    "\n",
    "x = np.arange(len(labels))  # the label locations\n",
    "width = 0.35  # the width of the bars\n",
    "\n",
    "fig, ax = plt.subplots()\n",
    "ax.bar(x - width/2, execution_timings[\"druid\"], width, label='Druid')\n",
    "ax.bar(x + width/2, execution_timings[\"omnisci\"], width, label='OmniSci')\n",
    "\n",
    "ax.set_title('Queries by time')\n",
    "ax.set_xlabel('Queries')\n",
    "ax.set_ylabel('Seconds')\n",
    "ax.set_xticks(x)\n",
    "ax.set_xticklabels(labels)\n",
    "ax.legend()\n",
    "\n",
    "ax.annotate('Not executed\\non Druid', xy=(5, 1), xytext=(4, 4),\n",
    "            arrowprops=dict(facecolor='red', shrink=0.05))\n",
    "\n",
    "plt.show()"
   ]
  },
  {
   "cell_type": "code",
   "execution_count": 57,
   "id": "d45bd275-d27c-4c91-a364-8e49cbf1f606",
   "metadata": {},
   "outputs": [
    {
     "name": "stdout",
     "output_type": "stream",
     "text": [
      "omnisci_test\n"
     ]
    }
   ],
   "source": [
    "%%bash\n",
    "docker stop omnisci_test"
   ]
  },
  {
   "cell_type": "code",
   "execution_count": null,
   "id": "c090a0f0-92f2-45a8-9e15-8624b78a63cd",
   "metadata": {},
   "outputs": [],
   "source": []
  }
 ],
 "metadata": {
  "kernelspec": {
   "display_name": "Python 3",
   "language": "python",
   "name": "python3"
  },
  "language_info": {
   "codemirror_mode": {
    "name": "ipython",
    "version": 3
   },
   "file_extension": ".py",
   "mimetype": "text/x-python",
   "name": "python",
   "nbconvert_exporter": "python",
   "pygments_lexer": "ipython3",
   "version": "3.8.10"
  }
 },
 "nbformat": 4,
 "nbformat_minor": 5
}
