{
 "cells": [
  {
   "cell_type": "code",
   "execution_count": 1,
   "id": "8a10cb98-249d-45c1-9bc4-ae03c2136fad",
   "metadata": {},
   "outputs": [
    {
     "name": "stdout",
     "output_type": "stream",
     "text": [
      "aff058fe8244af0da38dbcf65bc4cdc0c602194d58ac95797f979579a2621a48\n"
     ]
    }
   ],
   "source": [
    "%%bash\n",
    "docker run \\\n",
    "  --rm \\\n",
    "  --name omnisci_test \\\n",
    "  -d --runtime=nvidia \\\n",
    "  -v $(readlink -f ..)/data:/data \\\n",
    "  -v $(readlink -f ..)/scripts:/src \\\n",
    "  -p 6273-6280:6273-6280 \\\n",
    "  omnisci/core-os-cuda:v5.2.1"
   ]
  },
  {
   "cell_type": "code",
   "execution_count": 2,
   "id": "55362d27-cf80-4bea-a387-e5be09626382",
   "metadata": {},
   "outputs": [
    {
     "name": "stdout",
     "output_type": "stream",
     "text": [
      "User admin connected to database omnisci\n",
      "Result\n",
      "Loaded: 1067371 recs, Rejected: 0 recs in 0.355000 secs\n",
      "1 rows returned.\n",
      "Execution time: 460 ms, Total time: 460 ms\n",
      "User admin disconnected from database omnisci\n"
     ]
    }
   ],
   "source": [
    "%%bash\n",
    "docker exec omnisci_test /bin/bash -c \\\n",
    "    \"cat /src/load_dataset.sql | /omnisci/bin/omnisql -p 'HyperInteractive' -t\""
   ]
  },
  {
   "cell_type": "code",
   "execution_count": 12,
   "id": "c4676b06-185c-40b4-ac7c-caabfc8a2692",
   "metadata": {},
   "outputs": [
    {
     "name": "stdout",
     "output_type": "stream",
     "text": [
      "User admin connected to database omnisci\n",
      "Country|price_sum\n",
      "United Kingdom|4453169.287\n",
      "France|67231.31000000001\n",
      "USA|1755.88\n",
      "Belgium|14766.88\n",
      "Australia|8111.07\n",
      "EIRE|125305.45\n",
      "Germany|67564.45099999997\n",
      "Portugal|17125.84\n",
      "Japan|1258.61\n",
      "Denmark|2397.890000000001\n",
      "Nigeria|109.28\n",
      "Netherlands|15663.23000000001\n",
      "Poland|1940.22\n",
      "Spain|20539.47\n",
      "Channel Islands|9056.799999999999\n",
      "Italy|8479.459999999999\n",
      "Cyprus|6333.95\n",
      "Greece|2600.73\n",
      "Norway|41129.90999999999\n",
      "Austria|4184.319999999999\n",
      "Sweden|8709.920000000002\n",
      "United Arab Emirates|2552.53\n",
      "Finland|5234.610000000001\n",
      "Switzerland|12049.88\n",
      "Unspecified|3416.4\n",
      "Malta|6575.589999999999\n",
      "Bahrain|439.49\n",
      "RSA|3353.85\n",
      "Bermuda|84.70000000000002\n",
      "Hong Kong|20956.87999999999\n",
      "Singapore|25481.4\n",
      "Thailand|227.97\n",
      "Israel|1323.47\n",
      "Lithuania|494.4100000000001\n",
      "West Indies|122.77\n",
      "Lebanon|358.61\n",
      "Korea|150.24\n",
      "Brazil|256.31\n",
      "Canada|1058.09\n",
      "Iceland|644.16\n",
      "European Community|294.05\n",
      "Saudi Arabia|24.11\n",
      "Czech Republic|88.15000000000001\n",
      "43 rows returned.\n",
      "Execution time: 162 ms, Total time: 163 ms\n",
      "User admin disconnected from database omnisci\n"
     ]
    }
   ],
   "source": [
    "%%bash\n",
    "docker exec omnisci_test /bin/bash -c \\\n",
    "    \"echo 'SELECT Country, SUM(Price) as price_sum FROM online_retail GROUP BY Country;' | /omnisci/bin/omnisql -p 'HyperInteractive' -t\""
   ]
  },
  {
   "cell_type": "code",
   "execution_count": 11,
   "id": "d45bd275-d27c-4c91-a364-8e49cbf1f606",
   "metadata": {},
   "outputs": [
    {
     "name": "stdout",
     "output_type": "stream",
     "text": [
      "omnisci_test\n"
     ]
    }
   ],
   "source": [
    "%%bash\n",
    "docker stop omnisci_test"
   ]
  },
  {
   "cell_type": "code",
   "execution_count": null,
   "id": "636d7c3a-622e-471b-b794-bd1e2585ae68",
   "metadata": {},
   "outputs": [],
   "source": []
  }
 ],
 "metadata": {
  "kernelspec": {
   "display_name": "Python 3",
   "language": "python",
   "name": "python3"
  },
  "language_info": {
   "codemirror_mode": {
    "name": "ipython",
    "version": 3
   },
   "file_extension": ".py",
   "mimetype": "text/x-python",
   "name": "python",
   "nbconvert_exporter": "python",
   "pygments_lexer": "ipython3",
   "version": "3.8.10"
  }
 },
 "nbformat": 4,
 "nbformat_minor": 5
}
