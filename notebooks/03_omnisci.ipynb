{
 "cells": [
  {
   "cell_type": "code",
   "execution_count": 1,
   "id": "8a10cb98-249d-45c1-9bc4-ae03c2136fad",
   "metadata": {},
   "outputs": [
    {
     "name": "stdout",
     "output_type": "stream",
     "text": [
      "ff8887943e2e1e62f4eac3fa0856053f1310a7bf8c3f7a961d0547fe0ade39b3\n"
     ]
    }
   ],
   "source": [
    "%%bash\n",
    "docker run \\\n",
    "  --rm \\\n",
    "  --name omnisci_test \\\n",
    "  --ipc=host \\\n",
    "  -d --runtime=nvidia \\\n",
    "  -v $(readlink -f ..)/data:/data \\\n",
    "  -v $(readlink -f ..)/scripts:/src \\\n",
    "  -p 6273-6280:6273-6280 \\\n",
    "  omnisci/core-os-cuda:v5.2.1"
   ]
  },
  {
   "cell_type": "code",
   "execution_count": 2,
   "id": "55362d27-cf80-4bea-a387-e5be09626382",
   "metadata": {},
   "outputs": [
    {
     "name": "stdout",
     "output_type": "stream",
     "text": [
      "User admin connected to database omnisci\n",
      "Result\n",
      "Loaded: 1067371 recs, Rejected: 0 recs in 0.349000 secs\n",
      "1 rows returned.\n",
      "Execution time: 438 ms, Total time: 438 ms\n",
      "Result\n",
      "Loaded: 5305 recs, Rejected: 0 recs in 0.027000 secs\n",
      "1 rows returned.\n",
      "Execution time: 33 ms, Total time: 33 ms\n",
      "User admin disconnected from database omnisci\n"
     ]
    }
   ],
   "source": [
    "%%bash\n",
    "docker exec omnisci_test /bin/bash -c \\\n",
    "    \"cat /src/load_dataset.sql | /omnisci/bin/omnisql -p 'HyperInteractive' -t\""
   ]
  },
  {
   "cell_type": "code",
   "execution_count": 3,
   "id": "345ef1d9-69cd-49de-91cf-85f70403f0b9",
   "metadata": {},
   "outputs": [
    {
     "name": "stdout",
     "output_type": "stream",
     "text": [
      "User admin connected to database omnisci\n",
      "Invoice|StockCode|Description|Quantity|InvoiceDate|Price|CustomerID|Country\n",
      "490209|22200|FRYING PAN PINK POLKADOT|72|2009-12-04 12:06:00|4.25|17389|United Kingdom\n",
      "490209|85099B|JUMBO BAG RED WHITE SPOTTY|100|2009-12-04 12:06:00|1.65|17389|United Kingdom\n",
      "490209|21916|SET 12 RETRO WHITE CHALK STICKS|96|2009-12-04 12:06:00|0.42|17389|United Kingdom\n",
      "491888|21171|BATHROOM METAL SIGN|4|2009-12-14 15:16:00|1.45|15867|United Kingdom\n",
      "490212|21231|SWEETHEART CERAMIC TRINKET BOX|8|2009-12-04 12:07:00|1.25|16883|United Kingdom\n",
      "491665|82552|WASHROOM METAL SIGN|3|2009-12-13 11:32:00|1.25|14685|United Kingdom\n",
      "491888|85047|WHITE BEADED GARLAND STRING 20LIGHT|24|2009-12-14 15:16:00|5.55|15867|United Kingdom\n",
      "490212|22296|HEART IVORY TRELLIS LARGE|3|2009-12-04 12:07:00|1.65|16883|United Kingdom\n",
      "490803|22197|POPCORN HOLDER , SMALL |24|2009-12-08 12:04:00|0.85|17067|United Kingdom\n",
      "491888|72807A|SET/3 ROSE CANDLE IN JEWELLED BOX|9|2009-12-14 15:16:00|4.25|15867|United Kingdom\n",
      "10 rows returned.\n",
      "Execution time: 21207 ms, Total time: 21208 ms\n",
      "User admin disconnected from database omnisci\n"
     ]
    }
   ],
   "source": [
    "%%bash\n",
    "docker exec omnisci_test /bin/bash -c \\\n",
    "    \"echo 'SELECT * FROM online_retail LIMIT 10;' | /omnisci/bin/omnisql -p 'HyperInteractive' -t\""
   ]
  },
  {
   "cell_type": "code",
   "execution_count": 27,
   "id": "636d7c3a-622e-471b-b794-bd1e2585ae68",
   "metadata": {},
   "outputs": [],
   "source": [
    "from pymapd import connect\n",
    "from time import time\n",
    "import pandas as pd\n",
    "import numpy as np\n",
    "import json"
   ]
  },
  {
   "cell_type": "code",
   "execution_count": 28,
   "id": "388fed36-e111-4cb0-acaa-735c9ecf93ae",
   "metadata": {},
   "outputs": [],
   "source": [
    "with open('test_result.json') as json_file:\n",
    "    test_result = json.load(json_file)"
   ]
  },
  {
   "cell_type": "code",
   "execution_count": 6,
   "id": "435385ac-d9e9-47a2-865f-e31507b2b1fd",
   "metadata": {},
   "outputs": [],
   "source": [
    "con = connect(user=\"admin\", password=\"HyperInteractive\", host=\"localhost\", dbname=\"omnisci\")"
   ]
  },
  {
   "cell_type": "code",
   "execution_count": 31,
   "id": "a9e9d946-629a-47a9-b2e2-4de85c14561d",
   "metadata": {},
   "outputs": [
    {
     "name": "stdout",
     "output_type": "stream",
     "text": [
      "Executing Q1\n",
      "Executing Q2\n",
      "Executing Q3\n",
      "Executing Q4\n",
      "Executing Q5\n",
      "Executing Q6\n",
      "Executing Q7\n"
     ]
    }
   ],
   "source": [
    "test_result[\"timings\"][\"omnisci\"] = {}\n",
    "query_index = 1\n",
    "\n",
    "for query in test_result[\"queries\"]:\n",
    "    label = f\"Q{query_index}\"\n",
    "    print(f\"Executing {label}\")\n",
    "    test_result[\"timings\"][\"omnisci\"][label] = []\n",
    "    for i in range(0, 10):\n",
    "        start = time()\n",
    "        pd.read_sql_query(query, con=con)  # <-un po' più veloce ma usa ipc (arrow)\n",
    "        # df = con.select_ipc_gpu(query)  # <-analogo\n",
    "        # result = list(con.execute(query))  #NO IPC\n",
    "        end = time()\n",
    "\n",
    "        total = end-start\n",
    "        test_result[\"timings\"][\"omnisci\"][label].append(total)\n",
    "    query_index += 1\n",
    "\n",
    "with open('test_result.json', 'w') as outfile:\n",
    "    json.dump(test_result, outfile)"
   ]
  },
  {
   "cell_type": "code",
   "execution_count": 18,
   "id": "c090a0f0-92f2-45a8-9e15-8624b78a63cd",
   "metadata": {},
   "outputs": [
    {
     "name": "stdout",
     "output_type": "stream",
     "text": [
      "1.3599514961242676\n"
     ]
    }
   ],
   "source": [
    "# TEST ON JOINS\n",
    "\n",
    "query = \"SELECT Invoice, stock_codes.Price FROM online_retail JOIN stock_codes ON online_retail.StockCode = stock_codes.StockCode\"\n",
    "\n",
    "start = time()\n",
    "pd.read_sql_query(query, con=con)\n",
    "end = time()\n",
    "\n",
    "total = end-start\n",
    "print(total)"
   ]
  },
  {
   "cell_type": "code",
   "execution_count": 19,
   "id": "a12544ef-ff40-479d-a524-5bba17f6ce7b",
   "metadata": {},
   "outputs": [
    {
     "name": "stdout",
     "output_type": "stream",
     "text": [
      "1.328507900238037\n"
     ]
    }
   ],
   "source": [
    "# TEST ON JOINS\n",
    "\n",
    "query = \"SELECT Invoice, Price FROM online_retail\"\n",
    "\n",
    "start = time()\n",
    "pd.read_sql_query(query, con=con)\n",
    "end = time()\n",
    "\n",
    "total = end-start\n",
    "print(total)"
   ]
  },
  {
   "cell_type": "code",
   "execution_count": 57,
   "id": "d45bd275-d27c-4c91-a364-8e49cbf1f606",
   "metadata": {},
   "outputs": [
    {
     "name": "stdout",
     "output_type": "stream",
     "text": [
      "omnisci_test\n"
     ]
    }
   ],
   "source": [
    "%%bash\n",
    "docker stop omnisci_test"
   ]
  }
 ],
 "metadata": {
  "kernelspec": {
   "display_name": "Python 3",
   "language": "python",
   "name": "python3"
  },
  "language_info": {
   "codemirror_mode": {
    "name": "ipython",
    "version": 3
   },
   "file_extension": ".py",
   "mimetype": "text/x-python",
   "name": "python",
   "nbconvert_exporter": "python",
   "pygments_lexer": "ipython3",
   "version": "3.8.10"
  }
 },
 "nbformat": 4,
 "nbformat_minor": 5
}
