{
 "cells": [
  {
   "cell_type": "code",
   "execution_count": null,
   "id": "8a10cb98-249d-45c1-9bc4-ae03c2136fad",
   "metadata": {},
   "outputs": [],
   "source": [
    "%%bash\n",
    "docker run \\\n",
    "  --rm \\\n",
    "  --name omnisci_test \\\n",
    "  -d --runtime=nvidia \\\n",
    "  -v $(readlink -f ..)/data:/data \\\n",
    "  -p 6273-6280:6273-6280 \\\n",
    "  omnisci/core-os-cuda:v5.2.1"
   ]
  },
  {
   "cell_type": "code",
   "execution_count": 2,
   "id": "fab2b3b7-fd36-415b-9cd7-ea4f1c0c6ba9",
   "metadata": {},
   "outputs": [
    {
     "name": "stdout",
     "output_type": "stream",
     "text": [
      "hello world\n"
     ]
    }
   ],
   "source": [
    "%%bash\n",
    "docker exec omnisci_test /omnisci/bin/omnisql"
   ]
  },
  {
   "cell_type": "code",
   "execution_count": null,
   "id": "b0efceed-6286-47ee-b596-fb600f2129a8",
   "metadata": {},
   "outputs": [],
   "source": [
    "CREATE TABLE IF NOT EXISTS online_retail (\n",
    "    Invoice      TEXT,\n",
    "    StockCode    TEXT,\n",
    "    Description  TEXT,\n",
    "    Quantity     BIGINT,\n",
    "    InvoiceDate  TEXT,\n",
    "    Price        DOUBLE,\n",
    "    CustomerID  DOUBLE,\n",
    "    Country      TEXT\n",
    ");\n",
    "\n",
    "COPY online_retail FROM '/data/raw/online_retail_II.csv';"
   ]
  },
  {
   "cell_type": "code",
   "execution_count": 3,
   "id": "d45bd275-d27c-4c91-a364-8e49cbf1f606",
   "metadata": {},
   "outputs": [
    {
     "name": "stdout",
     "output_type": "stream",
     "text": [
      "omnisci_test\n"
     ]
    }
   ],
   "source": [
    "%%bash\n",
    "docker stop omnisci_test"
   ]
  },
  {
   "cell_type": "code",
   "execution_count": null,
   "id": "636d7c3a-622e-471b-b794-bd1e2585ae68",
   "metadata": {},
   "outputs": [],
   "source": []
  }
 ],
 "metadata": {
  "kernelspec": {
   "display_name": "Python 3",
   "language": "python",
   "name": "python3"
  },
  "language_info": {
   "codemirror_mode": {
    "name": "ipython",
    "version": 3
   },
   "file_extension": ".py",
   "mimetype": "text/x-python",
   "name": "python",
   "nbconvert_exporter": "python",
   "pygments_lexer": "ipython3",
   "version": "3.8.10"
  }
 },
 "nbformat": 4,
 "nbformat_minor": 5
}
