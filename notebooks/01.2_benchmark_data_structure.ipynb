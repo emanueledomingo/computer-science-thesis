{
 "cells": [
  {
   "cell_type": "code",
   "execution_count": 1,
   "id": "f4939ec8-91ed-47f2-91e0-568d1598f1b5",
   "metadata": {},
   "outputs": [],
   "source": [
    "import json"
   ]
  },
  {
   "cell_type": "code",
   "execution_count": 2,
   "id": "dde1038f-382d-4cd6-b602-7da933113500",
   "metadata": {},
   "outputs": [],
   "source": [
    "test_result = {\n",
    "    \"queries\": {\n",
    "        \"Q1\": \"SELECT Invoice, SUM(Price*Quantity) as invoice_sum FROM online_retail GROUP BY Invoice;\",\n",
    "        \"Q2\": \"SELECT CustomerID, SUM(Price*Quantity) as customer_sum FROM online_retail GROUP BY CustomerID;\",\n",
    "        \"Q3\": \"SELECT Country, SUM(Price*Quantity) as country_sum FROM online_retail GROUP BY Country;\",\n",
    "        \"Q4\": \"SELECT StockCode, COUNT(*) as n_items FROM online_retail GROUP BY StockCode ORDER BY n_items DESC;\",\n",
    "        \"Q5\": \"SELECT Invoice, SUM(Price*Quantity) as invoice_sum FROM online_retail GROUP BY Invoice ORDER BY invoice_sum DESC;\",\n",
    "        \"Q6\": \"SELECT InvoiceDate, AVG(Price*Quantity) as avg_total FROM online_retail GROUP BY InvoiceDate ORDER BY avg_total;\",\n",
    "        \"Q7\": \"SELECT Invoice, SUM(Price*Quantity) as invoice_sum FROM online_retail WHERE Country='France' GROUP BY Invoice ORDER BY invoice_sum DESC;\",\n",
    "        \"Q8\": \"SELECT CustomerID, Price*Quantity as total_price FROM online_retail WHERE Quantity > 20 ORDER BY total_price DESC;\",\n",
    "        \"Q9\": \"SELECT CustomerID, Invoice, InvoiceDate FROM online_retail WHERE Invoice LIKE 'C%';\"\n",
    "    },\n",
    "    \"timings\": {\n",
    "        \"druid\": {},\n",
    "        \"omnisci\": {}\n",
    "    }\n",
    "}"
   ]
  },
  {
   "cell_type": "code",
   "execution_count": 3,
   "id": "6638ee91-e385-4445-83ae-75fc0251caa1",
   "metadata": {},
   "outputs": [],
   "source": [
    "with open('test_result.json', 'w') as outfile:\n",
    "    json.dump(test_result, outfile)"
   ]
  },
  {
   "cell_type": "code",
   "execution_count": null,
   "id": "a3c5c75a-e588-4b50-909a-3f83ffea1df0",
   "metadata": {},
   "outputs": [],
   "source": []
  }
 ],
 "metadata": {
  "kernelspec": {
   "display_name": "Python 3",
   "language": "python",
   "name": "python3"
  },
  "language_info": {
   "codemirror_mode": {
    "name": "ipython",
    "version": 3
   },
   "file_extension": ".py",
   "mimetype": "text/x-python",
   "name": "python",
   "nbconvert_exporter": "python",
   "pygments_lexer": "ipython3",
   "version": "3.7.10"
  }
 },
 "nbformat": 4,
 "nbformat_minor": 5
}
