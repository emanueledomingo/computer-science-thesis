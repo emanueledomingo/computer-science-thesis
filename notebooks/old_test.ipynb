{
 "cells": [
  {
   "cell_type": "code",
   "execution_count": 1,
   "id": "5a246f40-03b2-4a10-b486-e2e4fcce5692",
   "metadata": {},
   "outputs": [],
   "source": [
    "import cudf\n",
    "import pandas as pd\n",
    "from time import time\n",
    "import matplotlib.pyplot as plt\n",
    "from statistics import mean\n",
    "\n",
    "import numpy as np"
   ]
  },
  {
   "cell_type": "code",
   "execution_count": 2,
   "id": "a2adf0b6-70d5-40fe-906f-877fe639938f",
   "metadata": {},
   "outputs": [],
   "source": [
    "results = {\n",
    "    \"cpu\": {},\n",
    "    \"gpu\": {}\n",
    "}"
   ]
  },
  {
   "cell_type": "markdown",
   "id": "80baa6d3-4092-4a6d-918f-dfe93cf8ccc7",
   "metadata": {},
   "source": [
    "## Scale 1"
   ]
  },
  {
   "cell_type": "markdown",
   "id": "b28edb50-40c4-4383-b996-793c23692933",
   "metadata": {},
   "source": [
    "### I/O Operations"
   ]
  },
  {
   "cell_type": "markdown",
   "id": "3777eb60-eaa2-4dee-9b9a-6d8acd52c227",
   "metadata": {},
   "source": [
    "#### CPU"
   ]
  },
  {
   "cell_type": "code",
   "execution_count": 3,
   "id": "24c74aa7-4bac-4671-a1d3-733959502e2f",
   "metadata": {},
   "outputs": [],
   "source": [
    "results['cpu']['x1'] = {}"
   ]
  },
  {
   "cell_type": "code",
   "execution_count": 4,
   "id": "f90b9d75-92d0-4231-bc6d-2283448b472d",
   "metadata": {},
   "outputs": [],
   "source": [
    "results['cpu']['x1'][\"io_opt\"] = {}\n",
    "\n",
    "start = time()\n",
    "cpu_df = pd.read_csv(\"../data/raw/online_retail_II.csv\")\n",
    "end = time()\n",
    "\n",
    "results[\"cpu\"][\"x1\"][\"io_opt\"][\"load_csv\"] = end-start"
   ]
  },
  {
   "cell_type": "code",
   "execution_count": 5,
   "id": "515da84e-3251-481a-b4b4-7c77d1e08fdb",
   "metadata": {},
   "outputs": [
    {
     "name": "stdout",
     "output_type": "stream",
     "text": [
      "<class 'pandas.core.frame.DataFrame'>\n",
      "RangeIndex: 1067371 entries, 0 to 1067370\n",
      "Data columns (total 8 columns):\n",
      " #   Column       Non-Null Count    Dtype  \n",
      "---  ------       --------------    -----  \n",
      " 0   Invoice      1067371 non-null  object \n",
      " 1   StockCode    1067371 non-null  object \n",
      " 2   Description  1062989 non-null  object \n",
      " 3   Quantity     1067371 non-null  int64  \n",
      " 4   InvoiceDate  1067371 non-null  object \n",
      " 5   Price        1067371 non-null  float64\n",
      " 6   Customer ID  824364 non-null   float64\n",
      " 7   Country      1067371 non-null  object \n",
      "dtypes: float64(2), int64(1), object(5)\n",
      "memory usage: 65.1+ MB\n"
     ]
    }
   ],
   "source": [
    "start = time()\n",
    "cpu_df.info()\n",
    "end = time()\n",
    "\n",
    "results[\"cpu\"][\"x1\"][\"io_opt\"][\"info\"] = end-start"
   ]
  },
  {
   "cell_type": "code",
   "execution_count": 6,
   "id": "9ed2dbd5-6ea9-4c67-8219-f231e1210f1a",
   "metadata": {},
   "outputs": [],
   "source": [
    "start = time()\n",
    "cpu_df.describe(include=\"O\")\n",
    "end = time()\n",
    "\n",
    "results[\"cpu\"][\"x1\"][\"io_opt\"][\"describe\"] = end-start"
   ]
  },
  {
   "cell_type": "markdown",
   "id": "243372de-ae2d-4015-a33c-cf19546c9e83",
   "metadata": {},
   "source": [
    "#### GPU"
   ]
  },
  {
   "cell_type": "code",
   "execution_count": 7,
   "id": "c66a8345-3f3a-4eb6-a751-0bd9e3ec0e1a",
   "metadata": {},
   "outputs": [],
   "source": [
    "results['gpu']['x1'] = {}"
   ]
  },
  {
   "cell_type": "code",
   "execution_count": 8,
   "id": "201ba693-4f3d-45cc-8592-2ce027430261",
   "metadata": {},
   "outputs": [],
   "source": [
    "results['gpu']['x1'][\"io_opt\"] = {}\n",
    "\n",
    "start = time()\n",
    "gpu_df = cudf.read_csv(\"../data/raw/online_retail_II.csv\")\n",
    "end = time()\n",
    "\n",
    "results[\"gpu\"][\"x1\"][\"io_opt\"][\"load_csv\"] = end-start"
   ]
  },
  {
   "cell_type": "code",
   "execution_count": 9,
   "id": "6174f3aa-f4a3-446a-917d-17ca306238bb",
   "metadata": {},
   "outputs": [
    {
     "name": "stdout",
     "output_type": "stream",
     "text": [
      "<class 'cudf.core.dataframe.DataFrame'>\n",
      "RangeIndex: 1067371 entries, 0 to 1067370\n",
      "Data columns (total 8 columns):\n",
      " #   Column       Non-Null Count    Dtype\n",
      "---  ------       --------------    -----\n",
      " 0   Invoice      1067371 non-null  object\n",
      " 1   StockCode    1067371 non-null  object\n",
      " 2   Description  1062989 non-null  object\n",
      " 3   Quantity     1067371 non-null  int64\n",
      " 4   InvoiceDate  1067371 non-null  object\n",
      " 5   Price        1067371 non-null  float64\n",
      " 6   Customer ID  824364 non-null   float64\n",
      " 7   Country      1067371 non-null  object\n",
      "dtypes: float64(2), int64(1), object(5)\n",
      "memory usage: 116.4+ MB\n"
     ]
    }
   ],
   "source": [
    "start = time()\n",
    "gpu_df.info()\n",
    "end = time()\n",
    "\n",
    "results[\"gpu\"][\"x1\"][\"io_opt\"][\"info\"] = end-start"
   ]
  },
  {
   "cell_type": "code",
   "execution_count": 10,
   "id": "7f7a2a3c-4572-42b7-bbeb-ab868199705f",
   "metadata": {},
   "outputs": [],
   "source": [
    "start = time()\n",
    "gpu_df.describe(include=\"O\")\n",
    "end = time()\n",
    "\n",
    "results[\"gpu\"][\"x1\"][\"io_opt\"][\"describe\"] = end-start"
   ]
  },
  {
   "cell_type": "markdown",
   "id": "d182a0e6-ea9a-4fd6-a037-c40c3bdb1ca5",
   "metadata": {},
   "source": [
    "### Queries"
   ]
  },
  {
   "cell_type": "markdown",
   "id": "f4a99648-3156-4f63-a192-440364583e59",
   "metadata": {},
   "source": [
    "#### CPU"
   ]
  },
  {
   "cell_type": "code",
   "execution_count": 11,
   "id": "4d32598b-7265-44fd-bf8b-2cdbf36e0273",
   "metadata": {},
   "outputs": [],
   "source": [
    "results['cpu']['x1'][\"queries\"] = {}"
   ]
  },
  {
   "cell_type": "code",
   "execution_count": 12,
   "id": "b10ec4c4-4c0c-4389-86a3-d480a4fe04f1",
   "metadata": {},
   "outputs": [],
   "source": [
    "start = time()\n",
    "cpu_df.groupby(\"Country\").Price.sum()\n",
    "end = time()\n",
    "\n",
    "results[\"cpu\"][\"x1\"][\"queries\"][\"q1\"] = end-start"
   ]
  },
  {
   "cell_type": "code",
   "execution_count": 13,
   "id": "b6aa52cf-794c-4896-af07-fb703d66fccd",
   "metadata": {},
   "outputs": [],
   "source": [
    "start = time()\n",
    "cpu_df.groupby(\"Invoice\").Price.sum()\n",
    "end = time()\n",
    "\n",
    "results[\"cpu\"][\"x1\"][\"queries\"][\"q2\"] = end-start"
   ]
  },
  {
   "cell_type": "markdown",
   "id": "77c26904-612f-4d34-93f3-c5a2d15ee424",
   "metadata": {},
   "source": [
    "#### GPU"
   ]
  },
  {
   "cell_type": "code",
   "execution_count": 14,
   "id": "8d77dabc-1567-440d-950c-505320530002",
   "metadata": {},
   "outputs": [],
   "source": [
    "results['gpu']['x1'][\"queries\"] = {}"
   ]
  },
  {
   "cell_type": "code",
   "execution_count": 15,
   "id": "a09b796a-534f-404f-b4c6-0ddc00caac0f",
   "metadata": {},
   "outputs": [],
   "source": [
    "start = time()\n",
    "gpu_df.groupby(\"Country\").Price.sum()\n",
    "end = time()\n",
    "\n",
    "results[\"gpu\"][\"x1\"][\"queries\"][\"q1\"] = end-start"
   ]
  },
  {
   "cell_type": "code",
   "execution_count": 16,
   "id": "8f0ab777-4fec-476e-8b54-b0b8c584cc38",
   "metadata": {},
   "outputs": [],
   "source": [
    "start = time()\n",
    "gpu_df.groupby(\"Invoice\").Price.sum()\n",
    "end = time()\n",
    "\n",
    "results[\"gpu\"][\"x1\"][\"queries\"][\"q2\"] = end-start"
   ]
  },
  {
   "cell_type": "markdown",
   "id": "789d989c-391d-4aa6-a260-b0732a815115",
   "metadata": {},
   "source": [
    "## Scale x10"
   ]
  },
  {
   "cell_type": "markdown",
   "id": "793d8691-5587-4bb1-8d0d-3215ee3b9347",
   "metadata": {},
   "source": [
    "### I/O operations"
   ]
  },
  {
   "cell_type": "markdown",
   "id": "b62363e0-75cd-4acd-85a6-698cd4787eb4",
   "metadata": {},
   "source": [
    "#### CPU"
   ]
  },
  {
   "cell_type": "code",
   "execution_count": 17,
   "id": "9828b3e2-b86d-45aa-92db-0819b017b59c",
   "metadata": {},
   "outputs": [],
   "source": [
    "results['cpu']['x10'] = {}"
   ]
  },
  {
   "cell_type": "code",
   "execution_count": 18,
   "id": "728c06ad-d49c-425e-ae95-9d8c9cf248a4",
   "metadata": {},
   "outputs": [],
   "source": [
    "results['cpu']['x10'][\"io_opt\"] = {}\n",
    "\n",
    "start = time()\n",
    "cpu_df = pd.read_csv(\"../data/raw/online_retail_II_x10.csv\")\n",
    "end = time()\n",
    "\n",
    "results[\"cpu\"][\"x10\"][\"io_opt\"][\"load_csv\"] = end-start"
   ]
  },
  {
   "cell_type": "code",
   "execution_count": 19,
   "id": "4832b265-490f-45e1-82f2-1c0e53447dc3",
   "metadata": {},
   "outputs": [
    {
     "name": "stdout",
     "output_type": "stream",
     "text": [
      "<class 'pandas.core.frame.DataFrame'>\n",
      "RangeIndex: 10673710 entries, 0 to 10673709\n",
      "Data columns (total 8 columns):\n",
      " #   Column       Dtype  \n",
      "---  ------       -----  \n",
      " 0   Invoice      object \n",
      " 1   StockCode    object \n",
      " 2   Description  object \n",
      " 3   Quantity     int64  \n",
      " 4   InvoiceDate  object \n",
      " 5   Price        float64\n",
      " 6   Customer ID  float64\n",
      " 7   Country      object \n",
      "dtypes: float64(2), int64(1), object(5)\n",
      "memory usage: 651.5+ MB\n"
     ]
    }
   ],
   "source": [
    "start = time()\n",
    "cpu_df.info()\n",
    "end = time()\n",
    "\n",
    "results[\"cpu\"][\"x10\"][\"io_opt\"][\"info\"] = end-start"
   ]
  },
  {
   "cell_type": "code",
   "execution_count": 20,
   "id": "11ee7c23-f2a5-417c-af76-d810e9229117",
   "metadata": {},
   "outputs": [],
   "source": [
    "start = time()\n",
    "cpu_df.describe(include=\"O\")\n",
    "end = time()\n",
    "\n",
    "results[\"cpu\"][\"x10\"][\"io_opt\"][\"describe\"] = end-start"
   ]
  },
  {
   "cell_type": "markdown",
   "id": "067c9a3f-e6cf-4fc7-8459-f6e4c9e8a55d",
   "metadata": {},
   "source": [
    "#### GPU"
   ]
  },
  {
   "cell_type": "code",
   "execution_count": 21,
   "id": "2d934ba5-f3e7-47dc-94e3-e037ef1d507f",
   "metadata": {},
   "outputs": [],
   "source": [
    "results['gpu']['x10'] = {}"
   ]
  },
  {
   "cell_type": "code",
   "execution_count": 24,
   "id": "20af3cfb-c9ed-4acb-82c6-3120265d293f",
   "metadata": {},
   "outputs": [],
   "source": [
    "results['gpu']['x10'][\"io_opt\"] = {}\n",
    "\n",
    "start = time()\n",
    "gpu_df = cudf.read_csv(\"../data/raw/online_retail_II_x10.csv\")\n",
    "end = time()\n",
    "\n",
    "results[\"gpu\"][\"x10\"][\"io_opt\"][\"load_csv\"] = end-start"
   ]
  },
  {
   "cell_type": "code",
   "execution_count": 25,
   "id": "a00fc821-a449-4249-b3cc-c24351867503",
   "metadata": {},
   "outputs": [
    {
     "name": "stdout",
     "output_type": "stream",
     "text": [
      "<class 'cudf.core.dataframe.DataFrame'>\n",
      "RangeIndex: 10673710 entries, 0 to 10673709\n",
      "Data columns (total 8 columns):\n",
      " #   Column       Dtype\n",
      "---  ------       -----\n",
      " 0   Invoice      object\n",
      " 1   StockCode    object\n",
      " 2   Description  object\n",
      " 3   Quantity     int64\n",
      " 4   InvoiceDate  object\n",
      " 5   Price        float64\n",
      " 6   Customer ID  float64\n",
      " 7   Country      object\n",
      "dtypes: float64(2), int64(1), object(5)\n",
      "memory usage: 1.1+ GB\n"
     ]
    }
   ],
   "source": [
    "start = time()\n",
    "gpu_df.info()\n",
    "end = time()\n",
    "\n",
    "results[\"gpu\"][\"x10\"][\"io_opt\"][\"info\"] = end-start"
   ]
  },
  {
   "cell_type": "code",
   "execution_count": 26,
   "id": "d583b1f4-b3e9-4f7c-81f9-c87ea11ca0a6",
   "metadata": {},
   "outputs": [],
   "source": [
    "start = time()\n",
    "gpu_df.describe(include=\"O\")\n",
    "end = time()\n",
    "\n",
    "results[\"gpu\"][\"x10\"][\"io_opt\"][\"describe\"] = end-start"
   ]
  },
  {
   "cell_type": "markdown",
   "id": "fc146a14-0da3-40a5-83b5-3edfc1a17255",
   "metadata": {},
   "source": [
    "### Queries"
   ]
  },
  {
   "cell_type": "markdown",
   "id": "44f1437a-f1f4-4aa1-bcb3-8cd6c646c75e",
   "metadata": {},
   "source": [
    "#### CPU"
   ]
  },
  {
   "cell_type": "code",
   "execution_count": 27,
   "id": "e2256e09-ba0e-4652-b21e-502a5dd818e3",
   "metadata": {},
   "outputs": [],
   "source": [
    "results['cpu']['x10'][\"queries\"] = {}"
   ]
  },
  {
   "cell_type": "code",
   "execution_count": 28,
   "id": "6b8ccf5b-ee09-4acf-9319-17a11198d496",
   "metadata": {},
   "outputs": [],
   "source": [
    "start = time()\n",
    "cpu_df.groupby(\"Country\").Price.sum()\n",
    "end = time()\n",
    "\n",
    "results[\"cpu\"][\"x10\"][\"queries\"][\"q1\"] = end-start"
   ]
  },
  {
   "cell_type": "code",
   "execution_count": 29,
   "id": "6ddbaac6-f0af-48f6-a335-970d231b45aa",
   "metadata": {},
   "outputs": [],
   "source": [
    "start = time()\n",
    "cpu_df.groupby(\"Invoice\").Price.sum()\n",
    "end = time()\n",
    "\n",
    "results[\"cpu\"][\"x10\"][\"queries\"][\"q2\"] = end-start"
   ]
  },
  {
   "cell_type": "markdown",
   "id": "16087cea-d36e-4ecf-bc39-ed7692012c70",
   "metadata": {},
   "source": [
    "#### GPU"
   ]
  },
  {
   "cell_type": "code",
   "execution_count": 30,
   "id": "91952190-0821-460f-99fe-544ebd5841a5",
   "metadata": {},
   "outputs": [],
   "source": [
    "results['gpu']['x10'][\"queries\"] = {}"
   ]
  },
  {
   "cell_type": "code",
   "execution_count": 31,
   "id": "cb9803fa-97e2-422c-8b0b-eb4ca55cbbc1",
   "metadata": {},
   "outputs": [],
   "source": [
    "start = time()\n",
    "gpu_df.groupby(\"Country\").Price.sum()\n",
    "end = time()\n",
    "\n",
    "results[\"gpu\"][\"x10\"][\"queries\"][\"q1\"] = end-start"
   ]
  },
  {
   "cell_type": "code",
   "execution_count": 32,
   "id": "8ec3b463-0c10-4b57-a32e-1b9f9f0ab155",
   "metadata": {},
   "outputs": [],
   "source": [
    "start = time()\n",
    "gpu_df.groupby(\"Invoice\").Price.sum()\n",
    "end = time()\n",
    "\n",
    "results[\"gpu\"][\"x10\"][\"queries\"][\"q2\"] = end-start"
   ]
  },
  {
   "cell_type": "markdown",
   "id": "e350d621-2e2e-4f2b-b694-ded45d9be9f7",
   "metadata": {},
   "source": [
    "## Scale x0.1"
   ]
  },
  {
   "cell_type": "markdown",
   "id": "b0bac79f-c31d-40ce-9c86-6421d7539f87",
   "metadata": {},
   "source": [
    "### I/O operations"
   ]
  },
  {
   "cell_type": "markdown",
   "id": "2e0e10bc-708a-408b-9b9a-3bbb995a1fd7",
   "metadata": {},
   "source": [
    "#### CPU"
   ]
  },
  {
   "cell_type": "code",
   "execution_count": 33,
   "id": "6bb0005f-2c60-4381-8b23-dcf86880433d",
   "metadata": {},
   "outputs": [],
   "source": [
    "results['cpu']['x0.1'] = {}"
   ]
  },
  {
   "cell_type": "code",
   "execution_count": 53,
   "id": "6171ee47-8242-4d63-9a69-f22549c5b27a",
   "metadata": {},
   "outputs": [],
   "source": [
    "results['cpu']['x0.1'][\"io_opt\"] = {}\n",
    "\n",
    "start = time()\n",
    "cpu_df = pd.read_csv(\"../data/raw/online_retail_II_x0_1.csv\")\n",
    "end = time()\n",
    "\n",
    "results[\"cpu\"][\"x0.1\"][\"io_opt\"][\"load_csv\"] = end-start"
   ]
  },
  {
   "cell_type": "code",
   "execution_count": 35,
   "id": "44a0ecd9-f2ff-4bef-a371-2928d08c05dd",
   "metadata": {},
   "outputs": [
    {
     "name": "stdout",
     "output_type": "stream",
     "text": [
      "<class 'pandas.core.frame.DataFrame'>\n",
      "RangeIndex: 100000 entries, 0 to 99999\n",
      "Data columns (total 8 columns):\n",
      " #   Column       Non-Null Count   Dtype  \n",
      "---  ------       --------------   -----  \n",
      " 0   Invoice      100000 non-null  object \n",
      " 1   StockCode    100000 non-null  object \n",
      " 2   Description  99130 non-null   object \n",
      " 3   Quantity     100000 non-null  int64  \n",
      " 4   InvoiceDate  100000 non-null  object \n",
      " 5   Price        100000 non-null  float64\n",
      " 6   Customer ID  72861 non-null   float64\n",
      " 7   Country      100000 non-null  object \n",
      "dtypes: float64(2), int64(1), object(5)\n",
      "memory usage: 6.1+ MB\n"
     ]
    }
   ],
   "source": [
    "start = time()\n",
    "cpu_df.info()\n",
    "end = time()\n",
    "\n",
    "results[\"cpu\"][\"x0.1\"][\"io_opt\"][\"info\"] = end-start"
   ]
  },
  {
   "cell_type": "code",
   "execution_count": 36,
   "id": "2e4ab173-e027-4af9-920c-5b51a457bc3a",
   "metadata": {},
   "outputs": [],
   "source": [
    "start = time()\n",
    "cpu_df.describe(include=\"O\")\n",
    "end = time()\n",
    "\n",
    "results[\"cpu\"][\"x0.1\"][\"io_opt\"][\"describe\"] = end-start"
   ]
  },
  {
   "cell_type": "markdown",
   "id": "33c85c07-6609-46dd-82a3-029a5ab31405",
   "metadata": {},
   "source": [
    "#### GPU"
   ]
  },
  {
   "cell_type": "code",
   "execution_count": 37,
   "id": "2510fb2a-e506-448f-be6b-7ab988d807d0",
   "metadata": {},
   "outputs": [],
   "source": [
    "results['gpu'][\"x0.1\"] = {}"
   ]
  },
  {
   "cell_type": "code",
   "execution_count": 38,
   "id": "62194aa3-311b-44c9-a95b-b028d14bb626",
   "metadata": {},
   "outputs": [],
   "source": [
    "results['gpu'][\"x0.1\"][\"io_opt\"] = {}\n",
    "\n",
    "start = time()\n",
    "gpu_df = cudf.read_csv(\"../data/raw/online_retail_II_x0_1.csv\")\n",
    "end = time()\n",
    "\n",
    "results[\"gpu\"][\"x0.1\"][\"io_opt\"][\"load_csv\"] = end-start"
   ]
  },
  {
   "cell_type": "code",
   "execution_count": 39,
   "id": "ece54adb-e7d1-46b5-8998-9715ed11ff49",
   "metadata": {},
   "outputs": [
    {
     "name": "stdout",
     "output_type": "stream",
     "text": [
      "<class 'cudf.core.dataframe.DataFrame'>\n",
      "RangeIndex: 100000 entries, 0 to 99999\n",
      "Data columns (total 8 columns):\n",
      " #   Column       Non-Null Count   Dtype\n",
      "---  ------       --------------   -----\n",
      " 0   Invoice      100000 non-null  object\n",
      " 1   StockCode    100000 non-null  object\n",
      " 2   Description  99130 non-null   object\n",
      " 3   Quantity     100000 non-null  int64\n",
      " 4   InvoiceDate  100000 non-null  object\n",
      " 5   Price        100000 non-null  float64\n",
      " 6   Customer ID  72861 non-null   float64\n",
      " 7   Country      100000 non-null  object\n",
      "dtypes: float64(2), int64(1), object(5)\n",
      "memory usage: 10.9+ MB\n"
     ]
    }
   ],
   "source": [
    "start = time()\n",
    "gpu_df.info()\n",
    "end = time()\n",
    "\n",
    "results[\"gpu\"][\"x0.1\"][\"io_opt\"][\"info\"] = end-start"
   ]
  },
  {
   "cell_type": "code",
   "execution_count": 40,
   "id": "fcccc2a1-f042-4461-bea5-098a64f57e57",
   "metadata": {},
   "outputs": [],
   "source": [
    "start = time()\n",
    "gpu_df.describe(include=\"O\")\n",
    "end = time()\n",
    "\n",
    "results[\"gpu\"][\"x0.1\"][\"io_opt\"][\"describe\"] = end-start"
   ]
  },
  {
   "cell_type": "markdown",
   "id": "d52e2d12-c167-43c7-8198-4d174436a699",
   "metadata": {},
   "source": [
    "### Queries"
   ]
  },
  {
   "cell_type": "markdown",
   "id": "cc474198-1db3-42ab-ab81-37fc23a2c768",
   "metadata": {},
   "source": [
    "#### CPU"
   ]
  },
  {
   "cell_type": "code",
   "execution_count": 41,
   "id": "c9917e70-0011-473b-8a40-cda2a07aeb77",
   "metadata": {},
   "outputs": [],
   "source": [
    "results['cpu']['x0.1'][\"queries\"] = {}"
   ]
  },
  {
   "cell_type": "code",
   "execution_count": 42,
   "id": "6bacab05-27b2-4e91-aa0a-9396564ee3d2",
   "metadata": {},
   "outputs": [],
   "source": [
    "start = time()\n",
    "cpu_df.groupby(\"Country\").Price.sum()\n",
    "end = time()\n",
    "\n",
    "results[\"cpu\"][\"x0.1\"][\"queries\"][\"q1\"] = end-start"
   ]
  },
  {
   "cell_type": "code",
   "execution_count": 43,
   "id": "803d608f-b6dd-4b29-8a2b-c2a9f213dc30",
   "metadata": {},
   "outputs": [],
   "source": [
    "start = time()\n",
    "cpu_df.groupby(\"Invoice\").Price.sum()\n",
    "end = time()\n",
    "\n",
    "results[\"cpu\"][\"x0.1\"][\"queries\"][\"q2\"] = end-start"
   ]
  },
  {
   "cell_type": "markdown",
   "id": "b202a927-c9b5-4390-b7dd-e68289f61ffe",
   "metadata": {},
   "source": [
    "#### GPU"
   ]
  },
  {
   "cell_type": "code",
   "execution_count": 44,
   "id": "b479fda5-b1c7-4768-9ad0-28a9ac9dfcad",
   "metadata": {},
   "outputs": [],
   "source": [
    "results['gpu']['x0.1'][\"queries\"] = {}"
   ]
  },
  {
   "cell_type": "code",
   "execution_count": 45,
   "id": "e9fceb71-ae53-44de-b2fe-8b9532a83c05",
   "metadata": {},
   "outputs": [],
   "source": [
    "start = time()\n",
    "gpu_df.groupby(\"Country\").Price.sum()\n",
    "end = time()\n",
    "\n",
    "results[\"gpu\"][\"x0.1\"][\"queries\"][\"q1\"] = end-start"
   ]
  },
  {
   "cell_type": "code",
   "execution_count": 46,
   "id": "e630a64e-e0d6-47bb-b5ea-9ae767455954",
   "metadata": {},
   "outputs": [],
   "source": [
    "start = time()\n",
    "gpu_df.groupby(\"Invoice\").Price.sum()\n",
    "end = time()\n",
    "\n",
    "results[\"gpu\"][\"x0.1\"][\"queries\"][\"q2\"] = end-start"
   ]
  },
  {
   "cell_type": "markdown",
   "id": "855b199a-9e19-409c-bab6-319759a9f30d",
   "metadata": {},
   "source": [
    "## Plots"
   ]
  },
  {
   "cell_type": "code",
   "execution_count": 47,
   "id": "d1f15750-2749-4e3b-a4d7-b3c358692c4c",
   "metadata": {},
   "outputs": [],
   "source": [
    "def plot(cpu_io, gpu_io, cpu_queries, gpu_queries):\n",
    "    # PLOT 1\n",
    "    labels = ['Load\\ndataset', '.info()', '.describe()']\n",
    "    # cpu_values = [i[1] for i in results[\"cpu\"][\"x1\"][\"io_opt\"].items()]\n",
    "    # gpu_values = [i[1] for i in results[\"gpu\"][\"x1\"][\"io_opt\"].items()]\n",
    "\n",
    "    x = np.arange(len(labels))  # the label locations\n",
    "    width = 0.35  # the width of the bars\n",
    "\n",
    "    ax1 = plt.subplot(1, 2, 1)\n",
    "    ax1.bar(x - width/2, cpu_io, width, label='CPU')\n",
    "    ax1.bar(x + width/2, gpu_io, width, label='GPU')\n",
    "\n",
    "    ax1.set_ylabel('seconds')\n",
    "    ax1.set_title('I/O operations by time')\n",
    "    ax1.set_xticks(x)\n",
    "    ax1.set_xticklabels(labels)\n",
    "    ax1.legend()\n",
    "\n",
    "    # PLOT 2\n",
    "    labels = ['Q1', 'Q2']\n",
    "    # cpu_queries = [i[1] for i in results[\"cpu\"][\"x1\"][\"queries\"].items()]\n",
    "    # gpu_queries = [i[1] for i in results[\"gpu\"][\"x1\"][\"queries\"].items()]\n",
    "\n",
    "    x = np.arange(len(labels))  # the label locations\n",
    "    width = 0.35  # the width of the bars\n",
    "\n",
    "    ax2 = plt.subplot(1, 2, 2)\n",
    "    ax2.bar(x - width/2, cpu_queries, width, label='CPU')\n",
    "    ax2.bar(x + width/2, gpu_queries, width, label='GPU')\n",
    "\n",
    "    ax2.set_ylabel('seconds')\n",
    "    ax2.set_title('Queries by time')\n",
    "    ax2.set_xticks(x)\n",
    "    ax2.set_xticklabels(labels)\n",
    "    ax2.legend()\n",
    "\n",
    "    plt.show()"
   ]
  },
  {
   "cell_type": "markdown",
   "id": "7a7ffdad-eb1c-4e8f-aa3a-a29a34497fd4",
   "metadata": {},
   "source": [
    "### Scale 1 results"
   ]
  },
  {
   "cell_type": "code",
   "execution_count": 48,
   "id": "2feb43e3-6a39-42f4-b19c-fbc4c9a63356",
   "metadata": {},
   "outputs": [
    {
     "name": "stdout",
     "output_type": "stream",
     "text": [
      "{'cpu': {'x1': {'io_opt': {'load_csv': 0.6064379215240479, 'info': 0.10498738288879395, 'describe': 0.36641407012939453}, 'queries': {'q1': 0.05308842658996582, 'q2': 0.07305502891540527}}, 'x10': {'io_opt': {'load_csv': 5.95487642288208, 'info': 0.004050493240356445, 'describe': 3.437549352645874}, 'queries': {'q1': 0.4261815547943115, 'q2': 0.41337132453918457}}, 'x0.1': {'io_opt': {'load_csv': -1.315638780593872, 'info': 0.03019881248474121, 'describe': 0.05685114860534668}, 'queries': {'q1': 0.012850522994995117, 'q2': 0.014202594757080078}}}, 'gpu': {'x1': {'io_opt': {'load_csv': 0.6453456878662109, 'info': 0.007930517196655273, 'describe': 0.38254857063293457}, 'queries': {'q1': 0.00872182846069336, 'q2': 0.0077419281005859375}}, 'x10': {'io_opt': {'load_csv': 0.508018970489502, 'info': 0.003490924835205078, 'describe': 2.862375259399414}, 'queries': {'q1': 0.03486967086791992, 'q2': 0.0119476318359375}}, 'x0.1': {'io_opt': {'load_csv': 0.03344368934631348, 'info': 0.006281375885009766, 'describe': 0.08012223243713379}, 'queries': {'q1': 0.013210773468017578, 'q2': 0.013202428817749023}}}}\n"
     ]
    }
   ],
   "source": [
    "print(results)"
   ]
  },
  {
   "cell_type": "code",
   "execution_count": 49,
   "id": "93cf5561-ac80-4b12-a546-e42e29e5b7d2",
   "metadata": {},
   "outputs": [
    {
     "data": {
      "image/png": "[encoded data removed]",
      "text/plain": [
       "<Figure size 432x288 with 2 Axes>"
      ]
     },
     "metadata": {
      "needs_background": "light"
     },
     "output_type": "display_data"
    }
   ],
   "source": [
    "plot(\n",
    "    [i[1] for i in results[\"cpu\"][\"x1\"][\"io_opt\"].items()],\n",
    "    [i[1] for i in results[\"gpu\"][\"x1\"][\"io_opt\"].items()],\n",
    "    [i[1] for i in results[\"cpu\"][\"x1\"][\"queries\"].items()],\n",
    "    [i[1] for i in results[\"gpu\"][\"x1\"][\"queries\"].items()]\n",
    ")"
   ]
  },
  {
   "cell_type": "markdown",
   "id": "dba9db70-3693-49a8-8988-f066e9cfa612",
   "metadata": {},
   "source": [
    "### Scale 10 results"
   ]
  },
  {
   "cell_type": "code",
   "execution_count": 56,
   "id": "fa57aa70-7948-4f67-a294-1cc2305dc41a",
   "metadata": {},
   "outputs": [
    {
     "name": "stdout",
     "output_type": "stream",
     "text": [
      "0.004050493240356445 0.003490924835205078\n"
     ]
    },
    {
     "data": {
      "image/png": "[encoded data removed]",
      "text/plain": [
       "<Figure size 432x288 with 2 Axes>"
      ]
     },
     "metadata": {
      "needs_background": "light"
     },
     "output_type": "display_data"
    }
   ],
   "source": [
    "plot(\n",
    "    [i[1] for i in results[\"cpu\"][\"x10\"][\"io_opt\"].items()],\n",
    "    [i[1] for i in results[\"gpu\"][\"x10\"][\"io_opt\"].items()],\n",
    "    [i[1] for i in results[\"cpu\"][\"x10\"][\"queries\"].items()],\n",
    "    [i[1] for i in results[\"gpu\"][\"x10\"][\"queries\"].items()]\n",
    ")"
   ]
  },
  {
   "cell_type": "markdown",
   "id": "967cb223-8ddf-48a4-ade1-52570d882647",
   "metadata": {},
   "source": [
    "### Scale 0.1 results"
   ]
  },
  {
   "cell_type": "code",
   "execution_count": 54,
   "id": "b888b6c4-22fe-49e6-ae33-ce8d8032e192",
   "metadata": {},
   "outputs": [
    {
     "data": {
      "image/png": "[encoded data removed]",
      "text/plain": [
       "<Figure size 432x288 with 2 Axes>"
      ]
     },
     "metadata": {
      "needs_background": "light"
     },
     "output_type": "display_data"
    }
   ],
   "source": [
    "plot(\n",
    "    [i[1] for i in results[\"cpu\"][\"x0.1\"][\"io_opt\"].items()],\n",
    "    [i[1] for i in results[\"gpu\"][\"x0.1\"][\"io_opt\"].items()],\n",
    "    [i[1] for i in results[\"cpu\"][\"x0.1\"][\"queries\"].items()],\n",
    "    [i[1] for i in results[\"gpu\"][\"x0.1\"][\"queries\"].items()]\n",
    ")"
   ]
  },
  {
   "cell_type": "markdown",
   "id": "3a018eb7-d99e-467e-b28c-fa844496d171",
   "metadata": {},
   "source": [
    "### CPU & CPU comparison"
   ]
  },
  {
   "cell_type": "code",
   "execution_count": 55,
   "id": "b054f975-c810-42ce-9bde-a5e4737c1c02",
   "metadata": {},
   "outputs": [
    {
     "name": "stdout",
     "output_type": "stream",
     "text": [
      "[0.013526558876037598, 0.06307172775268555, 0.41977643966674805]\n",
      "[0.0132066011428833, 0.008231878280639648, 0.02340865135192871]\n"
     ]
    },
    {
     "data": {
      "image/png": "[encoded data removed]",
      "text/plain": [
       "<Figure size 432x288 with 1 Axes>"
      ]
     },
     "metadata": {
      "needs_background": "light"
     },
     "output_type": "display_data"
    }
   ],
   "source": [
    "cpu = [ \n",
    "    mean([ i[1] for i in results[\"cpu\"][\"x0.1\"][\"queries\"].items()]),\n",
    "    mean([ i[1] for i in results[\"cpu\"][\"x1\"][\"queries\"].items()]),\n",
    "    mean([ i[1] for i in results[\"cpu\"][\"x10\"][\"queries\"].items()])\n",
    "]\n",
    "\n",
    "print(cpu)\n",
    "\n",
    "gpu = [ \n",
    "    mean([ i[1] for i in results[\"gpu\"][\"x0.1\"][\"queries\"].items()]),\n",
    "    mean([ i[1] for i in results[\"gpu\"][\"x1\"][\"queries\"].items()]),\n",
    "    mean([ i[1] for i in results[\"gpu\"][\"x10\"][\"queries\"].items()])\n",
    "]\n",
    "\n",
    "print(gpu)\n",
    "\n",
    "activity = [\"SF 0.1\", \"SF 1\", \"SF 10\"]\n",
    "\n",
    "fig, ax = plt.subplots()\n",
    "ax.plot(activity, gpu, label=\"GPU\")\n",
    "ax.plot(activity, cpu, label=\"CPU\")\n",
    "ax.legend()\n",
    "\n",
    "plt.show()"
   ]
  },
  {
   "cell_type": "code",
   "execution_count": null,
   "id": "d57687d2-b635-4bce-83ae-d605f5e0a50a",
   "metadata": {},
   "outputs": [],
   "source": []
  },
  {
   "cell_type": "code",
   "execution_count": null,
   "id": "419e877b-24ce-4f31-a422-441c7f8f1782",
   "metadata": {},
   "outputs": [],
   "source": []
  }
 ],
 "metadata": {
  "kernelspec": {
   "display_name": "Python 3",
   "language": "python",
   "name": "python3"
  },
  "language_info": {
   "codemirror_mode": {
    "name": "ipython",
    "version": 3
   },
   "file_extension": ".py",
   "mimetype": "text/x-python",
   "name": "python",
   "nbconvert_exporter": "python",
   "pygments_lexer": "ipython3",
   "version": "3.8.10"
  }
 },
 "nbformat": 4,
 "nbformat_minor": 5
}
