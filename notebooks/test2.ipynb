{
 "cells": [
  {
   "cell_type": "code",
   "execution_count": 1,
   "id": "be37579c-dcbb-47ef-b80f-0502dd21464c",
   "metadata": {},
   "outputs": [],
   "source": [
    "import cudf\n",
    "import pandas as pd\n",
    "from time import time\n",
    "import matplotlib.pyplot as plt\n",
    "from statistics import mean\n",
    "import numpy as np\n",
    "\n",
    "from dask.distributed import Client\n",
    "import dask_cudf\n",
    "from dask_cuda import LocalCUDACluster"
   ]
  },
  {
   "cell_type": "code",
   "execution_count": 2,
   "id": "e1a3c638-1e30-4ef2-8482-902fd6f76570",
   "metadata": {},
   "outputs": [
    {
     "data": {
      "text/html": [
       "<table style=\"border: 2px solid white;\">\n",
       "<tr>\n",
       "<td style=\"vertical-align: top; border: 0px solid white\">\n",
       "<h3 style=\"text-align: left;\">Client</h3>\n",
       "<ul style=\"text-align: left; list-style: none; margin: 0; padding: 0;\">\n",
       "  <li><b>Scheduler: </b>tcp://127.0.0.1:45597</li>\n",
       "  <li><b>Dashboard: </b><a href='http://127.0.0.1:8787/status' target='_blank'>http://127.0.0.1:8787/status</a></li>\n",
       "</ul>\n",
       "</td>\n",
       "<td style=\"vertical-align: top; border: 0px solid white\">\n",
       "<h3 style=\"text-align: left;\">Cluster</h3>\n",
       "<ul style=\"text-align: left; list-style:none; margin: 0; padding: 0;\">\n",
       "  <li><b>Workers: </b>1</li>\n",
       "  <li><b>Cores: </b>1</li>\n",
       "  <li><b>Memory: </b>23.17 GiB</li>\n",
       "</ul>\n",
       "</td>\n",
       "</tr>\n",
       "</table>"
      ],
      "text/plain": [
       "<Client: 'tcp://127.0.0.1:45597' processes=1 threads=1, memory=23.17 GiB>"
      ]
     },
     "execution_count": 2,
     "metadata": {},
     "output_type": "execute_result"
    }
   ],
   "source": [
    "cluster = LocalCUDACluster()\n",
    "client = Client(cluster)\n",
    "client"
   ]
  },
  {
   "cell_type": "code",
   "execution_count": 3,
   "id": "187af442-8d1f-4100-a61f-40c736f9b224",
   "metadata": {},
   "outputs": [
    {
     "name": "stdout",
     "output_type": "stream",
     "text": [
      "LocalCUDACluster(7c11e916, 'tcp://127.0.0.1:39163', workers=1, threads=1, memory=23.17 GiB)\n"
     ]
    }
   ],
   "source": [
    "print(cluster)"
   ]
  },
  {
   "cell_type": "code",
   "execution_count": 2,
   "id": "eccbf4e4-3e23-4393-9f1e-084ba5e0b1db",
   "metadata": {},
   "outputs": [],
   "source": [
    "results = {\n",
    "    \"cpu\": {},\n",
    "    \"gpu\": {}\n",
    "}\n",
    "\n",
    "scale_factors = [\"x0_1\", \"x0_5\", \"x1\", \"x5\", \"x10\", \"x20\"]"
   ]
  },
  {
   "cell_type": "markdown",
   "id": "0a12bf78-2bb7-472d-9e70-c29e9aff7260",
   "metadata": {},
   "source": [
    "### CPU"
   ]
  },
  {
   "cell_type": "code",
   "execution_count": 3,
   "id": "7d03975b-195e-43e0-9342-d2e9269f8fee",
   "metadata": {},
   "outputs": [
    {
     "name": "stdout",
     "output_type": "stream",
     "text": [
      "<class 'pandas.core.frame.DataFrame'>\n",
      "RangeIndex: 100000 entries, 0 to 99999\n",
      "Data columns (total 8 columns):\n",
      " #   Column       Non-Null Count   Dtype  \n",
      "---  ------       --------------   -----  \n",
      " 0   Invoice      100000 non-null  object \n",
      " 1   StockCode    100000 non-null  object \n",
      " 2   Description  99130 non-null   object \n",
      " 3   Quantity     100000 non-null  int64  \n",
      " 4   InvoiceDate  100000 non-null  object \n",
      " 5   Price        100000 non-null  float64\n",
      " 6   Customer ID  72861 non-null   float64\n",
      " 7   Country      100000 non-null  object \n",
      "dtypes: float64(2), int64(1), object(5)\n",
      "memory usage: 6.1+ MB\n",
      "<class 'pandas.core.frame.DataFrame'>\n",
      "RangeIndex: 500000 entries, 0 to 499999\n",
      "Data columns (total 8 columns):\n",
      " #   Column       Non-Null Count   Dtype  \n",
      "---  ------       --------------   -----  \n",
      " 0   Invoice      500000 non-null  object \n",
      " 1   StockCode    500000 non-null  object \n",
      " 2   Description  497184 non-null  object \n",
      " 3   Quantity     500000 non-null  int64  \n",
      " 4   InvoiceDate  500000 non-null  object \n",
      " 5   Price        500000 non-null  float64\n",
      " 6   Customer ID  400300 non-null  float64\n",
      " 7   Country      500000 non-null  object \n",
      "dtypes: float64(2), int64(1), object(5)\n",
      "memory usage: 30.5+ MB\n",
      "<class 'pandas.core.frame.DataFrame'>\n",
      "RangeIndex: 1067371 entries, 0 to 1067370\n",
      "Data columns (total 8 columns):\n",
      " #   Column       Non-Null Count    Dtype  \n",
      "---  ------       --------------    -----  \n",
      " 0   Invoice      1067371 non-null  object \n",
      " 1   StockCode    1067371 non-null  object \n",
      " 2   Description  1062989 non-null  object \n",
      " 3   Quantity     1067371 non-null  int64  \n",
      " 4   InvoiceDate  1067371 non-null  object \n",
      " 5   Price        1067371 non-null  float64\n",
      " 6   Customer ID  824364 non-null   float64\n",
      " 7   Country      1067371 non-null  object \n",
      "dtypes: float64(2), int64(1), object(5)\n",
      "memory usage: 65.1+ MB\n",
      "<class 'pandas.core.frame.DataFrame'>\n",
      "RangeIndex: 5336855 entries, 0 to 5336854\n",
      "Data columns (total 8 columns):\n",
      " #   Column       Dtype  \n",
      "---  ------       -----  \n",
      " 0   Invoice      object \n",
      " 1   StockCode    object \n",
      " 2   Description  object \n",
      " 3   Quantity     int64  \n",
      " 4   InvoiceDate  object \n",
      " 5   Price        float64\n",
      " 6   Customer ID  float64\n",
      " 7   Country      object \n",
      "dtypes: float64(2), int64(1), object(5)\n",
      "memory usage: 325.7+ MB\n",
      "<class 'pandas.core.frame.DataFrame'>\n",
      "RangeIndex: 10673710 entries, 0 to 10673709\n",
      "Data columns (total 8 columns):\n",
      " #   Column       Dtype  \n",
      "---  ------       -----  \n",
      " 0   Invoice      object \n",
      " 1   StockCode    object \n",
      " 2   Description  object \n",
      " 3   Quantity     int64  \n",
      " 4   InvoiceDate  object \n",
      " 5   Price        float64\n",
      " 6   Customer ID  float64\n",
      " 7   Country      object \n",
      "dtypes: float64(2), int64(1), object(5)\n",
      "memory usage: 651.5+ MB\n",
      "<class 'pandas.core.frame.DataFrame'>\n",
      "RangeIndex: 21347420 entries, 0 to 21347419\n",
      "Data columns (total 8 columns):\n",
      " #   Column       Dtype  \n",
      "---  ------       -----  \n",
      " 0   Invoice      object \n",
      " 1   StockCode    object \n",
      " 2   Description  object \n",
      " 3   Quantity     int64  \n",
      " 4   InvoiceDate  object \n",
      " 5   Price        float64\n",
      " 6   Customer ID  float64\n",
      " 7   Country      object \n",
      "dtypes: float64(2), int64(1), object(5)\n",
      "memory usage: 1.3+ GB\n"
     ]
    }
   ],
   "source": [
    "for scale_factor in scale_factors:\n",
    "    results['cpu'][scale_factor] = {}\n",
    "    results['cpu'][scale_factor][\"io_opt\"] = {}\n",
    "    results['cpu'][scale_factor][\"queries\"] = {}\n",
    "\n",
    "    start = time()\n",
    "    cpu_df = pd.read_csv(\"../data/raw/online_retail_II_\"+scale_factor+\".csv\")\n",
    "    end = time()\n",
    "\n",
    "    results[\"cpu\"][scale_factor][\"io_opt\"][\"load_csv\"] = end-start\n",
    "\n",
    "    start = time()\n",
    "    cpu_df.info()\n",
    "    end = time()\n",
    "\n",
    "    results[\"cpu\"][scale_factor][\"io_opt\"][\"info\"] = end-start\n",
    "\n",
    "    start = time()\n",
    "    cpu_df.describe(include=\"O\")\n",
    "    end = time()\n",
    "\n",
    "    results[\"cpu\"][scale_factor][\"io_opt\"][\"describe\"] = end-start\n",
    "\n",
    "    start = time()\n",
    "    cpu_df.groupby(\"Country\").Price.sum()\n",
    "    end = time()\n",
    "\n",
    "    results[\"cpu\"][scale_factor][\"queries\"][\"q1\"] = end-start\n",
    "\n",
    "    start = time()\n",
    "    cpu_df.groupby(\"Invoice\").Price.sum()\n",
    "    end = time()\n",
    "\n",
    "    results[\"cpu\"][scale_factor][\"queries\"][\"q2\"] = end-start"
   ]
  },
  {
   "cell_type": "markdown",
   "id": "73e09685-b1ac-4e1a-8f1a-6e1f6555488c",
   "metadata": {},
   "source": [
    "## GPU"
   ]
  },
  {
   "cell_type": "code",
   "execution_count": 4,
   "id": "5128e2ea-3a2b-4cef-9346-1f58f82bf603",
   "metadata": {},
   "outputs": [
    {
     "name": "stdout",
     "output_type": "stream",
     "text": [
      "Testing with SF=x0_1\n",
      "\n",
      "<class 'cudf.core.dataframe.DataFrame'>\n",
      "RangeIndex: 100000 entries, 0 to 99999\n",
      "Data columns (total 8 columns):\n",
      " #   Column       Non-Null Count   Dtype\n",
      "---  ------       --------------   -----\n",
      " 0   Invoice      100000 non-null  object\n",
      " 1   StockCode    100000 non-null  object\n",
      " 2   Description  99130 non-null   object\n",
      " 3   Quantity     100000 non-null  int64\n",
      " 4   InvoiceDate  100000 non-null  object\n",
      " 5   Price        100000 non-null  float64\n",
      " 6   Customer ID  72861 non-null   float64\n",
      " 7   Country      100000 non-null  object\n",
      "dtypes: float64(2), int64(1), object(5)\n",
      "memory usage: 10.9+ MB\n",
      "Testing with SF=x0_5\n",
      "\n",
      "<class 'cudf.core.dataframe.DataFrame'>\n",
      "RangeIndex: 500000 entries, 0 to 499999\n",
      "Data columns (total 8 columns):\n",
      " #   Column       Non-Null Count   Dtype\n",
      "---  ------       --------------   -----\n",
      " 0   Invoice      500000 non-null  object\n",
      " 1   StockCode    500000 non-null  object\n",
      " 2   Description  497184 non-null  object\n",
      " 3   Quantity     500000 non-null  int64\n",
      " 4   InvoiceDate  500000 non-null  object\n",
      " 5   Price        500000 non-null  float64\n",
      " 6   Customer ID  400300 non-null  float64\n",
      " 7   Country      500000 non-null  object\n",
      "dtypes: float64(2), int64(1), object(5)\n",
      "memory usage: 54.6+ MB\n",
      "Testing with SF=x1\n",
      "\n",
      "<class 'cudf.core.dataframe.DataFrame'>\n",
      "RangeIndex: 1067371 entries, 0 to 1067370\n",
      "Data columns (total 8 columns):\n",
      " #   Column       Non-Null Count    Dtype\n",
      "---  ------       --------------    -----\n",
      " 0   Invoice      1067371 non-null  object\n",
      " 1   StockCode    1067371 non-null  object\n",
      " 2   Description  1062989 non-null  object\n",
      " 3   Quantity     1067371 non-null  int64\n",
      " 4   InvoiceDate  1067371 non-null  object\n",
      " 5   Price        1067371 non-null  float64\n",
      " 6   Customer ID  824364 non-null   float64\n",
      " 7   Country      1067371 non-null  object\n",
      "dtypes: float64(2), int64(1), object(5)\n",
      "memory usage: 116.4+ MB\n",
      "Testing with SF=x5\n",
      "\n",
      "<class 'cudf.core.dataframe.DataFrame'>\n",
      "RangeIndex: 5336855 entries, 0 to 5336854\n",
      "Data columns (total 8 columns):\n",
      " #   Column       Dtype\n",
      "---  ------       -----\n",
      " 0   Invoice      object\n",
      " 1   StockCode    object\n",
      " 2   Description  object\n",
      " 3   Quantity     int64\n",
      " 4   InvoiceDate  object\n",
      " 5   Price        float64\n",
      " 6   Customer ID  float64\n",
      " 7   Country      object\n",
      "dtypes: float64(2), int64(1), object(5)\n",
      "memory usage: 582.1+ MB\n",
      "Testing with SF=x10\n",
      "\n",
      "<class 'cudf.core.dataframe.DataFrame'>\n",
      "RangeIndex: 10673710 entries, 0 to 10673709\n",
      "Data columns (total 8 columns):\n",
      " #   Column       Dtype\n",
      "---  ------       -----\n",
      " 0   Invoice      object\n",
      " 1   StockCode    object\n",
      " 2   Description  object\n",
      " 3   Quantity     int64\n",
      " 4   InvoiceDate  object\n",
      " 5   Price        float64\n",
      " 6   Customer ID  float64\n",
      " 7   Country      object\n",
      "dtypes: float64(2), int64(1), object(5)\n",
      "memory usage: 1.1+ GB\n",
      "Testing with SF=x20\n",
      "\n"
     ]
    },
    {
     "ename": "MemoryError",
     "evalue": "std::bad_alloc: CUDA error at: /home/edomin/miniforge3/envs/thesis/include/rmm/mr/device/cuda_memory_resource.hpp:69: cudaErrorMemoryAllocation out of memory",
     "output_type": "error",
     "traceback": [
      "\u001b[0;31m---------------------------------------------------------------------------\u001b[0m",
      "\u001b[0;31mMemoryError\u001b[0m                               Traceback (most recent call last)",
      "\u001b[0;32m<ipython-input-4-d6e63aae2508>\u001b[0m in \u001b[0;36m<module>\u001b[0;34m\u001b[0m\n\u001b[1;32m      9\u001b[0m \u001b[0;34m\u001b[0m\u001b[0m\n\u001b[1;32m     10\u001b[0m     \u001b[0mstart\u001b[0m \u001b[0;34m=\u001b[0m \u001b[0mtime\u001b[0m\u001b[0;34m(\u001b[0m\u001b[0;34m)\u001b[0m\u001b[0;34m\u001b[0m\u001b[0;34m\u001b[0m\u001b[0m\n\u001b[0;32m---> 11\u001b[0;31m     \u001b[0mgpu_df\u001b[0m \u001b[0;34m=\u001b[0m \u001b[0mcudf\u001b[0m\u001b[0;34m.\u001b[0m\u001b[0mread_csv\u001b[0m\u001b[0;34m(\u001b[0m\u001b[0;34m\"../data/raw/online_retail_II_\"\u001b[0m\u001b[0;34m+\u001b[0m\u001b[0mscale_factor\u001b[0m\u001b[0;34m+\u001b[0m\u001b[0;34m\".csv\"\u001b[0m\u001b[0;34m)\u001b[0m\u001b[0;34m\u001b[0m\u001b[0;34m\u001b[0m\u001b[0m\n\u001b[0m\u001b[1;32m     12\u001b[0m     \u001b[0mend\u001b[0m \u001b[0;34m=\u001b[0m \u001b[0mtime\u001b[0m\u001b[0;34m(\u001b[0m\u001b[0;34m)\u001b[0m\u001b[0;34m\u001b[0m\u001b[0;34m\u001b[0m\u001b[0m\n\u001b[1;32m     13\u001b[0m \u001b[0;34m\u001b[0m\u001b[0m\n",
      "\u001b[0;32m~/miniforge3/envs/thesis/lib/python3.8/contextlib.py\u001b[0m in \u001b[0;36minner\u001b[0;34m(*args, **kwds)\u001b[0m\n\u001b[1;32m     73\u001b[0m         \u001b[0;32mdef\u001b[0m \u001b[0minner\u001b[0m\u001b[0;34m(\u001b[0m\u001b[0;34m*\u001b[0m\u001b[0margs\u001b[0m\u001b[0;34m,\u001b[0m \u001b[0;34m**\u001b[0m\u001b[0mkwds\u001b[0m\u001b[0;34m)\u001b[0m\u001b[0;34m:\u001b[0m\u001b[0;34m\u001b[0m\u001b[0;34m\u001b[0m\u001b[0m\n\u001b[1;32m     74\u001b[0m             \u001b[0;32mwith\u001b[0m \u001b[0mself\u001b[0m\u001b[0;34m.\u001b[0m\u001b[0m_recreate_cm\u001b[0m\u001b[0;34m(\u001b[0m\u001b[0;34m)\u001b[0m\u001b[0;34m:\u001b[0m\u001b[0;34m\u001b[0m\u001b[0;34m\u001b[0m\u001b[0m\n\u001b[0;32m---> 75\u001b[0;31m                 \u001b[0;32mreturn\u001b[0m \u001b[0mfunc\u001b[0m\u001b[0;34m(\u001b[0m\u001b[0;34m*\u001b[0m\u001b[0margs\u001b[0m\u001b[0;34m,\u001b[0m \u001b[0;34m**\u001b[0m\u001b[0mkwds\u001b[0m\u001b[0;34m)\u001b[0m\u001b[0;34m\u001b[0m\u001b[0;34m\u001b[0m\u001b[0m\n\u001b[0m\u001b[1;32m     76\u001b[0m         \u001b[0;32mreturn\u001b[0m \u001b[0minner\u001b[0m\u001b[0;34m\u001b[0m\u001b[0;34m\u001b[0m\u001b[0m\n\u001b[1;32m     77\u001b[0m \u001b[0;34m\u001b[0m\u001b[0m\n",
      "\u001b[0;32m~/miniforge3/envs/thesis/lib/python3.8/site-packages/cudf/io/csv.py\u001b[0m in \u001b[0;36mread_csv\u001b[0;34m(filepath_or_buffer, lineterminator, quotechar, quoting, doublequote, header, mangle_dupe_cols, usecols, sep, delimiter, delim_whitespace, skipinitialspace, names, dtype, skipfooter, skiprows, dayfirst, compression, thousands, decimal, true_values, false_values, nrows, byte_range, skip_blank_lines, parse_dates, comment, na_values, keep_default_na, na_filter, prefix, index_col, **kwargs)\u001b[0m\n\u001b[1;32m     68\u001b[0m         \u001b[0mna_values\u001b[0m \u001b[0;34m=\u001b[0m \u001b[0;34m[\u001b[0m\u001b[0mna_values\u001b[0m\u001b[0;34m]\u001b[0m\u001b[0;34m\u001b[0m\u001b[0;34m\u001b[0m\u001b[0m\n\u001b[1;32m     69\u001b[0m \u001b[0;34m\u001b[0m\u001b[0m\n\u001b[0;32m---> 70\u001b[0;31m     return libcudf.csv.read_csv(\n\u001b[0m\u001b[1;32m     71\u001b[0m         \u001b[0mfilepath_or_buffer\u001b[0m\u001b[0;34m,\u001b[0m\u001b[0;34m\u001b[0m\u001b[0;34m\u001b[0m\u001b[0m\n\u001b[1;32m     72\u001b[0m         \u001b[0mlineterminator\u001b[0m\u001b[0;34m=\u001b[0m\u001b[0mlineterminator\u001b[0m\u001b[0;34m,\u001b[0m\u001b[0;34m\u001b[0m\u001b[0;34m\u001b[0m\u001b[0m\n",
      "\u001b[0;32mcudf/_lib/csv.pyx\u001b[0m in \u001b[0;36mcudf._lib.csv.read_csv\u001b[0;34m()\u001b[0m\n",
      "\u001b[0;31mMemoryError\u001b[0m: std::bad_alloc: CUDA error at: /home/edomin/miniforge3/envs/thesis/include/rmm/mr/device/cuda_memory_resource.hpp:69: cudaErrorMemoryAllocation out of memory"
     ]
    }
   ],
   "source": [
    "for scale_factor in scale_factors:\n",
    "    print(\"Testing with SF=\"+scale_factor)\n",
    "    print()\n",
    "    gpu_df = None\n",
    "\n",
    "    results['gpu'][scale_factor] = {}\n",
    "    results['gpu'][scale_factor][\"io_opt\"] = {}\n",
    "    results['gpu'][scale_factor][\"queries\"] = {}\n",
    "\n",
    "    start = time()\n",
    "    gpu_df = cudf.read_csv(\"../data/raw/online_retail_II_\"+scale_factor+\".csv\")\n",
    "    end = time()\n",
    "\n",
    "    results[\"gpu\"][scale_factor][\"io_opt\"][\"load_csv\"] = end-start\n",
    "\n",
    "    start = time()\n",
    "    gpu_df.info()\n",
    "    end = time()\n",
    "\n",
    "    results[\"gpu\"][scale_factor][\"io_opt\"][\"info\"] = end-start\n",
    "\n",
    "    start = time()\n",
    "    gpu_df.describe(include=\"O\")\n",
    "    end = time()\n",
    "\n",
    "    results[\"gpu\"][scale_factor][\"io_opt\"][\"describe\"] = end-start\n",
    "\n",
    "    start = time()\n",
    "    gpu_df.groupby(\"Country\").Price.sum()\n",
    "    end = time()\n",
    "\n",
    "    results[\"gpu\"][scale_factor][\"queries\"][\"q1\"] = end-start\n",
    "\n",
    "    start = time()\n",
    "    gpu_df.groupby(\"Invoice\").Price.sum()\n",
    "    end = time()\n",
    "\n",
    "    results[\"gpu\"][scale_factor][\"queries\"][\"q2\"] = end-start"
   ]
  },
  {
   "cell_type": "code",
   "execution_count": 10,
   "id": "372fd6ff-7299-4870-b59f-dbc9ce08907b",
   "metadata": {},
   "outputs": [
    {
     "ename": "MemoryError",
     "evalue": "std::bad_alloc: CUDA error at: /home/edomin/miniforge3/envs/thesis/include/rmm/mr/device/cuda_memory_resource.hpp:69: cudaErrorMemoryAllocation out of memory",
     "output_type": "error",
     "traceback": [
      "\u001b[0;31m---------------------------------------------------------------------------\u001b[0m",
      "\u001b[0;31mMemoryError\u001b[0m                               Traceback (most recent call last)",
      "\u001b[0;32m<ipython-input-10-66a9c7d08902>\u001b[0m in \u001b[0;36m<module>\u001b[0;34m\u001b[0m\n\u001b[1;32m      1\u001b[0m \u001b[0;31m# gpu_df = cudf.DataFrame.from_pandas(pd.read_csv(\"../data/raw/online_retail_II_x20.csv\"))\u001b[0m\u001b[0;34m\u001b[0m\u001b[0;34m\u001b[0m\u001b[0;34m\u001b[0m\u001b[0m\n\u001b[1;32m      2\u001b[0m \u001b[0;34m\u001b[0m\u001b[0m\n\u001b[0;32m----> 3\u001b[0;31m \u001b[0mgpu_df\u001b[0m \u001b[0;34m=\u001b[0m \u001b[0mcudf\u001b[0m\u001b[0;34m.\u001b[0m\u001b[0mread_csv\u001b[0m\u001b[0;34m(\u001b[0m\u001b[0;34m\"../data/raw/online_retail_II_x20.csv\"\u001b[0m\u001b[0;34m,\u001b[0m \u001b[0mchunksize\u001b[0m\u001b[0;34m=\u001b[0m\u001b[0;36m500000\u001b[0m\u001b[0;34m)\u001b[0m\u001b[0;34m\u001b[0m\u001b[0;34m\u001b[0m\u001b[0m\n\u001b[0m",
      "\u001b[0;32m~/miniforge3/envs/thesis/lib/python3.8/contextlib.py\u001b[0m in \u001b[0;36minner\u001b[0;34m(*args, **kwds)\u001b[0m\n\u001b[1;32m     73\u001b[0m         \u001b[0;32mdef\u001b[0m \u001b[0minner\u001b[0m\u001b[0;34m(\u001b[0m\u001b[0;34m*\u001b[0m\u001b[0margs\u001b[0m\u001b[0;34m,\u001b[0m \u001b[0;34m**\u001b[0m\u001b[0mkwds\u001b[0m\u001b[0;34m)\u001b[0m\u001b[0;34m:\u001b[0m\u001b[0;34m\u001b[0m\u001b[0;34m\u001b[0m\u001b[0m\n\u001b[1;32m     74\u001b[0m             \u001b[0;32mwith\u001b[0m \u001b[0mself\u001b[0m\u001b[0;34m.\u001b[0m\u001b[0m_recreate_cm\u001b[0m\u001b[0;34m(\u001b[0m\u001b[0;34m)\u001b[0m\u001b[0;34m:\u001b[0m\u001b[0;34m\u001b[0m\u001b[0;34m\u001b[0m\u001b[0m\n\u001b[0;32m---> 75\u001b[0;31m                 \u001b[0;32mreturn\u001b[0m \u001b[0mfunc\u001b[0m\u001b[0;34m(\u001b[0m\u001b[0;34m*\u001b[0m\u001b[0margs\u001b[0m\u001b[0;34m,\u001b[0m \u001b[0;34m**\u001b[0m\u001b[0mkwds\u001b[0m\u001b[0;34m)\u001b[0m\u001b[0;34m\u001b[0m\u001b[0;34m\u001b[0m\u001b[0m\n\u001b[0m\u001b[1;32m     76\u001b[0m         \u001b[0;32mreturn\u001b[0m \u001b[0minner\u001b[0m\u001b[0;34m\u001b[0m\u001b[0;34m\u001b[0m\u001b[0m\n\u001b[1;32m     77\u001b[0m \u001b[0;34m\u001b[0m\u001b[0m\n",
      "\u001b[0;32m~/miniforge3/envs/thesis/lib/python3.8/site-packages/cudf/io/csv.py\u001b[0m in \u001b[0;36mread_csv\u001b[0;34m(filepath_or_buffer, lineterminator, quotechar, quoting, doublequote, header, mangle_dupe_cols, usecols, sep, delimiter, delim_whitespace, skipinitialspace, names, dtype, skipfooter, skiprows, dayfirst, compression, thousands, decimal, true_values, false_values, nrows, byte_range, skip_blank_lines, parse_dates, comment, na_values, keep_default_na, na_filter, prefix, index_col, **kwargs)\u001b[0m\n\u001b[1;32m     68\u001b[0m         \u001b[0mna_values\u001b[0m \u001b[0;34m=\u001b[0m \u001b[0;34m[\u001b[0m\u001b[0mna_values\u001b[0m\u001b[0;34m]\u001b[0m\u001b[0;34m\u001b[0m\u001b[0;34m\u001b[0m\u001b[0m\n\u001b[1;32m     69\u001b[0m \u001b[0;34m\u001b[0m\u001b[0m\n\u001b[0;32m---> 70\u001b[0;31m     return libcudf.csv.read_csv(\n\u001b[0m\u001b[1;32m     71\u001b[0m         \u001b[0mfilepath_or_buffer\u001b[0m\u001b[0;34m,\u001b[0m\u001b[0;34m\u001b[0m\u001b[0;34m\u001b[0m\u001b[0m\n\u001b[1;32m     72\u001b[0m         \u001b[0mlineterminator\u001b[0m\u001b[0;34m=\u001b[0m\u001b[0mlineterminator\u001b[0m\u001b[0;34m,\u001b[0m\u001b[0;34m\u001b[0m\u001b[0;34m\u001b[0m\u001b[0m\n",
      "\u001b[0;32mcudf/_lib/csv.pyx\u001b[0m in \u001b[0;36mcudf._lib.csv.read_csv\u001b[0;34m()\u001b[0m\n",
      "\u001b[0;31mMemoryError\u001b[0m: std::bad_alloc: CUDA error at: /home/edomin/miniforge3/envs/thesis/include/rmm/mr/device/cuda_memory_resource.hpp:69: cudaErrorMemoryAllocation out of memory"
     ]
    }
   ],
   "source": [
    "# gpu_df = cudf.DataFrame.from_pandas(pd.read_csv(\"../data/raw/online_retail_II_x20.csv\"))"
   ]
  },
  {
   "cell_type": "markdown",
   "id": "10d86c0f-ce9f-48b3-9c9a-8bed082dcdb6",
   "metadata": {},
   "source": [
    "## PLOTS"
   ]
  },
  {
   "cell_type": "code",
   "execution_count": 7,
   "id": "e0ea99d3-e328-404d-a20b-0a690f877c50",
   "metadata": {},
   "outputs": [],
   "source": [
    "def plot(sf, cpu_io, gpu_io, cpu_queries, gpu_queries):\n",
    "    # PLOT 1\n",
    "    labels = ['Load\\ndataset', '.info()', '.describe()']\n",
    "    # cpu_values = [i[1] for i in results[\"cpu\"][\"x1\"][\"io_opt\"].items()]\n",
    "    # gpu_values = [i[1] for i in results[\"gpu\"][\"x1\"][\"io_opt\"].items()]\n",
    "\n",
    "    x = np.arange(len(labels))  # the label locations\n",
    "    width = 0.35  # the width of the bars\n",
    "\n",
    "    ax1 = plt.subplot(1, 2, 1)\n",
    "    ax1.bar(x - width/2, cpu_io, width, label='CPU')\n",
    "    ax1.bar(x + width/2, gpu_io, width, label='GPU')\n",
    "\n",
    "    ax1.set_ylabel('seconds')\n",
    "    ax1.set_title('I/O operations by time')\n",
    "    ax1.set_xticks(x)\n",
    "    ax1.set_xticklabels(labels)\n",
    "    ax1.legend()\n",
    "\n",
    "    # PLOT 2\n",
    "    labels = ['Q1', 'Q2']\n",
    "    # cpu_queries = [i[1] for i in results[\"cpu\"][\"x1\"][\"queries\"].items()]\n",
    "    # gpu_queries = [i[1] for i in results[\"gpu\"][\"x1\"][\"queries\"].items()]\n",
    "\n",
    "    x = np.arange(len(labels))  # the label locations\n",
    "    width = 0.35  # the width of the bars\n",
    "\n",
    "    ax2 = plt.subplot(1, 2, 2)\n",
    "    ax2.bar(x - width/2, cpu_queries, width, label='CPU')\n",
    "    ax2.bar(x + width/2, gpu_queries, width, label='GPU')\n",
    "\n",
    "    ax2.set_title('Queries by time')\n",
    "    ax2.set_xticks(x)\n",
    "    ax2.set_xticklabels(labels)\n",
    "    ax2.legend()\n",
    "\n",
    "    plt.suptitle(\"Test with SF=\"+sf)\n",
    "    plt.show()"
   ]
  },
  {
   "cell_type": "code",
   "execution_count": null,
   "id": "c139e1c2-9e97-40c0-9d04-c1bfd3bcaa30",
   "metadata": {},
   "outputs": [],
   "source": [
    "print(results)"
   ]
  },
  {
   "cell_type": "code",
   "execution_count": 8,
   "id": "b4710b68-c6d6-493d-a349-f2e8872c41df",
   "metadata": {},
   "outputs": [
    {
     "data": {
      "image/png": "[encoded data removed]",
      "text/plain": [
       "<Figure size 432x288 with 2 Axes>"
      ]
     },
     "metadata": {
      "needs_background": "light"
     },
     "output_type": "display_data"
    },
    {
     "data": {
      "image/png": "[encoded data removed]",
      "text/plain": [
       "<Figure size 432x288 with 2 Axes>"
      ]
     },
     "metadata": {
      "needs_background": "light"
     },
     "output_type": "display_data"
    },
    {
     "data": {
      "image/png": "[encoded data removed]",
      "text/plain": [
       "<Figure size 432x288 with 2 Axes>"
      ]
     },
     "metadata": {
      "needs_background": "light"
     },
     "output_type": "display_data"
    },
    {
     "data": {
      "image/png": "[encoded data removed]",
      "text/plain": [
       "<Figure size 432x288 with 2 Axes>"
      ]
     },
     "metadata": {
      "needs_background": "light"
     },
     "output_type": "display_data"
    },
    {
     "data": {
      "image/png": "[encoded data removed]",
      "text/plain": [
       "<Figure size 432x288 with 2 Axes>"
      ]
     },
     "metadata": {
      "needs_background": "light"
     },
     "output_type": "display_data"
    }
   ],
   "source": [
    "for scale_factor in scale_factors:\n",
    "    if scale_factor != \"x20\":\n",
    "        plot(\n",
    "            scale_factor,\n",
    "            [i[1] for i in results[\"cpu\"][scale_factor][\"io_opt\"].items()],\n",
    "            [i[1] for i in results[\"gpu\"][scale_factor][\"io_opt\"].items()],\n",
    "            [i[1] for i in results[\"cpu\"][scale_factor][\"queries\"].items()],\n",
    "            [i[1] for i in results[\"gpu\"][scale_factor][\"queries\"].items()]\n",
    "        )"
   ]
  },
  {
   "cell_type": "code",
   "execution_count": 10,
   "id": "f25e332c-1eed-49fe-9fc9-7766857b28d4",
   "metadata": {},
   "outputs": [
    {
     "data": {
      "image/png": "[encoded data removed]",
      "text/plain": [
       "<Figure size 432x288 with 1 Axes>"
      ]
     },
     "metadata": {
      "needs_background": "light"
     },
     "output_type": "display_data"
    }
   ],
   "source": [
    "cpu = []\n",
    "gpu = []\n",
    "\n",
    "for scale_factor in scale_factors:\n",
    "    if scale_factor != \"x20\":\n",
    "        cpu.append(mean([i[1] for i in results[\"cpu\"][scale_factor][\"queries\"].items()]))\n",
    "        gpu.append(mean([i[1] for i in results[\"gpu\"][scale_factor][\"queries\"].items()]))\n",
    "\n",
    "activity = [\"SF 0.1\", \"SF 0.5\", \"SF 1\", \"SF 5\", \"SF 10\", \"SF 20\"]\n",
    "\n",
    "fig, ax = plt.subplots()\n",
    "ax.plot(activity, gpu, label=\"GPU\")\n",
    "ax.plot(activity, cpu, label=\"CPU\")\n",
    "ax.legend()\n",
    "\n",
    "plt.show()"
   ]
  },
  {
   "cell_type": "code",
   "execution_count": null,
   "id": "30288274-a312-4fd2-8c95-f9c8df807f03",
   "metadata": {},
   "outputs": [],
   "source": []
  }
 ],
 "metadata": {
  "kernelspec": {
   "display_name": "Python 3",
   "language": "python",
   "name": "python3"
  },
  "language_info": {
   "codemirror_mode": {
    "name": "ipython",
    "version": 3
   },
   "file_extension": ".py",
   "mimetype": "text/x-python",
   "name": "python",
   "nbconvert_exporter": "python",
   "pygments_lexer": "ipython3",
   "version": "3.8.10"
  }
 },
 "nbformat": 4,
 "nbformat_minor": 5
}
